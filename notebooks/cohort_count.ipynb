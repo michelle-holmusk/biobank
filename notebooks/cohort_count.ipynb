{
 "cells": [
  {
   "cell_type": "code",
   "execution_count": 4,
   "metadata": {},
   "outputs": [],
   "source": [
    "import pandas as pd\n",
    "import numpy as np\n",
    "\n",
    "from datetime import timedelta\n",
    "from itertools import compress"
   ]
  },
  {
   "cell_type": "markdown",
   "metadata": {},
   "source": [
    "## Load dataset"
   ]
  },
  {
   "cell_type": "code",
   "execution_count": 47,
   "metadata": {
    "tags": []
   },
   "outputs": [
    {
     "name": "stderr",
     "output_type": "stream",
     "text": [
      "/Users/michelleng/opt/anaconda3/lib/python3.7/site-packages/IPython/core/interactiveshell.py:3063: DtypeWarning: Columns (6302,6358,6372,6384,6412) have mixed types.Specify dtype option on import or set low_memory=False.\n",
      "  interactivity=interactivity, compiler=compiler, result=result)\n"
     ]
    }
   ],
   "source": [
    "sec_cli = pd.read_csv('../primary_care/ukb41199.csv', \n",
    "                      usecols=[0, 6409, 6410, 6411, 6412, 6381, 6382, 6383, 6384, 6299, 6300, 6301, 6302, 6369, 6370, 6371, 6372, 6355, 6356, 6357, 6358])"
   ]
  },
  {
   "cell_type": "code",
   "execution_count": 48,
   "metadata": {},
   "outputs": [
    {
     "data": {
      "text/plain": [
       "Index(['eid', '30700-0.0', '30700-1.0', '30701-0.0', '30701-1.0', '30740-0.0',\n",
       "       '30740-1.0', '30741-0.0', '30741-1.0', '30750-0.0', '30750-1.0',\n",
       "       '30751-0.0', '30751-1.0', '30760-0.0', '30760-1.0', '30761-0.0',\n",
       "       '30761-1.0', '30780-0.0', '30780-1.0', '30781-0.0', '30781-1.0'],\n",
       "      dtype='object')"
      ]
     },
     "execution_count": 48,
     "metadata": {},
     "output_type": "execute_result"
    }
   ],
   "source": [
    "sec_cli.columns"
   ]
  },
  {
   "cell_type": "code",
   "execution_count": 7,
   "metadata": {},
   "outputs": [],
   "source": [
    "sec_cli.columns = ['eid', 'Creat1', 'Creat2', 'Creat1date', 'Creat2date', 'gluc1', 'gluc2', 'gluc1date', 'gluc2date', 'hba1c1', 'hba1c2','hba1c1date', 'hba1c2date',  'HDL1', 'HDL2', 'HDL1date', 'HDL2date', 'LDL1', 'LDL2', 'LDL1date', 'LDL2date']"
   ]
  },
  {
   "cell_type": "code",
   "execution_count": 8,
   "metadata": {},
   "outputs": [],
   "source": [
    "records = pd.read_pickle('../primary_care/records.pkl')"
   ]
  },
  {
   "cell_type": "code",
   "execution_count": null,
   "metadata": {},
   "outputs": [],
   "source": [
    "pri_cli = pd.read_csv('../primary_care/gp_clinical.txt', \n",
    "                      sep = '\\t', encoding='ISO-8859-1')"
   ]
  },
  {
   "cell_type": "code",
   "execution_count": null,
   "metadata": {},
   "outputs": [],
   "source": [
    "biomarker = pd.read_excel('../primary_care/ProposedDiagnosisCodes.xlsx', sheet_name='diag')"
   ]
  },
  {
   "cell_type": "markdown",
   "metadata": {},
   "source": [
    "## Get codes"
   ]
  },
  {
   "cell_type": "code",
   "execution_count": 9,
   "metadata": {},
   "outputs": [],
   "source": [
    "biomarker_codes = {\n",
    "    'LDL': {\n",
    "        'read2': ['44P6.', '44PI.', '44dB.', '44d5.', '44D5.', '44R4.'],\n",
    "        'read3': ['44P6.', 'XaEVs', 'Xalp4', '44R4.']\n",
    "    },\n",
    "    'HDL': {\n",
    "        'read2': ['44P5.', '44PB.', '44PC.'],#, '44R3.'],\n",
    "        'read3': ['44P5.', '44PB', '44PC']#, '44R3']\n",
    "    },\n",
    "    'Hba1c': {\n",
    "        'read2': ['42W4.'],\n",
    "        'read3': ['XaJPJ']\n",
    "    },\n",
    "    'Creatinine': {\n",
    "        'read2': ['44J3.', '44JF.', '4Q40.'],\n",
    "        'read3': ['XE2q5', 'XaETQ', 'X771N']\n",
    "    }\n",
    "}"
   ]
  },
  {
   "cell_type": "markdown",
   "metadata": {},
   "source": [
    "## Specify dataset"
   ]
  },
  {
   "cell_type": "code",
   "execution_count": 12,
   "metadata": {},
   "outputs": [],
   "source": [
    "records_full = records[(records['noRecords'] > 1) & (records['first_stroke_after_d'].isnull() == False) & (records['discrepancy'] == False)]"
   ]
  },
  {
   "cell_type": "code",
   "execution_count": 13,
   "metadata": {},
   "outputs": [
    {
     "data": {
      "text/plain": [
       "(5864, 14)"
      ]
     },
     "execution_count": 13,
     "metadata": {},
     "output_type": "execute_result"
    }
   ],
   "source": [
    "records_full.shape"
   ]
  },
  {
   "cell_type": "code",
   "execution_count": 14,
   "metadata": {},
   "outputs": [],
   "source": [
    "patients = list(records_full['eid'].values)"
   ]
  },
  {
   "cell_type": "markdown",
   "metadata": {},
   "source": [
    "## Revised records to include those without dates"
   ]
  },
  {
   "cell_type": "code",
   "execution_count": 14,
   "metadata": {},
   "outputs": [],
   "source": [
    "pri = pri_cli[pri_cli['eid'].isin(patients)].reset_index()"
   ]
  },
  {
   "cell_type": "code",
   "execution_count": 15,
   "metadata": {},
   "outputs": [],
   "source": [
    "sec = sec_cli[sec_cli['eid'].isin(patients)].reset_index()"
   ]
  },
  {
   "cell_type": "code",
   "execution_count": 16,
   "metadata": {},
   "outputs": [],
   "source": [
    "first_event = records_full[['eid', 'first_record_d']]"
   ]
  },
  {
   "cell_type": "markdown",
   "metadata": {},
   "source": [
    "## Get helper funcs"
   ]
  },
  {
   "cell_type": "code",
   "execution_count": 17,
   "metadata": {},
   "outputs": [],
   "source": [
    "def get_event_type(date, first_record_d):\n",
    "    diff = (date - first_record_d).days\n",
    "\n",
    "    if diff == 0:\n",
    "        return 'index'\n",
    "    \n",
    "    elif diff < 0:\n",
    "        if abs(diff) <= 14:\n",
    "            return 'before_<=14'\n",
    "        elif abs(diff) <= 180:\n",
    "            return 'before_>14,<=180'\n",
    "        else:\n",
    "            return 'before_>180'\n",
    "    \n",
    "    elif diff > 0:\n",
    "        if abs(diff) <= 14:\n",
    "            return 'after_<=14'\n",
    "        elif abs(diff) <= 180:\n",
    "            return 'after_>14,<=180'\n",
    "        else:\n",
    "            return 'after_>180'\n",
    "\n",
    "def verify_float(x):\n",
    "    try:\n",
    "        x = float(x)\n",
    "        if x > 0.0:\n",
    "            return True\n",
    "        else:\n",
    "            return False\n",
    "    except ValueError:\n",
    "        return False"
   ]
  },
  {
   "cell_type": "code",
   "execution_count": 18,
   "metadata": {},
   "outputs": [],
   "source": [
    "def get_event_type_creat(date, first_record_d):\n",
    "    diff = (date - first_record_d).days\n",
    "\n",
    "    if diff == 0:\n",
    "        return 'index'\n",
    "    \n",
    "    elif diff < 0:\n",
    "        if abs(diff) <= 14:\n",
    "            return 'before_<=14'\n",
    "        elif abs(diff) <= 90:\n",
    "            return 'before_>14,<=90'\n",
    "        else:\n",
    "            return 'before_>90'\n",
    "    \n",
    "    elif diff > 0:\n",
    "        if abs(diff) <= 14:\n",
    "            return 'after_<=14'\n",
    "        elif abs(diff) <= 90:\n",
    "            return 'after_>14,<=90'\n",
    "        else:\n",
    "            return 'after_>90'"
   ]
  },
  {
   "cell_type": "markdown",
   "metadata": {},
   "source": [
    "## Get LDL"
   ]
  },
  {
   "cell_type": "markdown",
   "metadata": {},
   "source": [
    "### Primary"
   ]
  },
  {
   "cell_type": "code",
   "execution_count": 104,
   "metadata": {},
   "outputs": [],
   "source": [
    "LDL = pri[pri['read_2'].isin(biomarker_codes['LDL']['read2'])| pri['read_3'].isin(biomarker_codes['LDL']['read3'])]"
   ]
  },
  {
   "cell_type": "code",
   "execution_count": 105,
   "metadata": {
    "tags": []
   },
   "outputs": [
    {
     "name": "stderr",
     "output_type": "stream",
     "text": [
      "/Users/michelleng/opt/anaconda3/lib/python3.7/site-packages/ipykernel_launcher.py:1: SettingWithCopyWarning: \n",
      "A value is trying to be set on a copy of a slice from a DataFrame.\n",
      "Try using .loc[row_indexer,col_indexer] = value instead\n",
      "\n",
      "See the caveats in the documentation: https://pandas.pydata.org/pandas-docs/stable/user_guide/indexing.html#returning-a-view-versus-a-copy\n",
      "  \"\"\"Entry point for launching an IPython kernel.\n"
     ]
    }
   ],
   "source": [
    "LDL['value3'] = LDL['value3'].replace('mmol/l', 'mmol/L')"
   ]
  },
  {
   "cell_type": "code",
   "execution_count": 106,
   "metadata": {
    "tags": []
   },
   "outputs": [
    {
     "name": "stderr",
     "output_type": "stream",
     "text": [
      "/Users/michelleng/opt/anaconda3/lib/python3.7/site-packages/ipykernel_launcher.py:1: SettingWithCopyWarning: \n",
      "A value is trying to be set on a copy of a slice from a DataFrame.\n",
      "Try using .loc[row_indexer,col_indexer] = value instead\n",
      "\n",
      "See the caveats in the documentation: https://pandas.pydata.org/pandas-docs/stable/user_guide/indexing.html#returning-a-view-versus-a-copy\n",
      "  \"\"\"Entry point for launching an IPython kernel.\n"
     ]
    }
   ],
   "source": [
    "LDL['value'] = LDL.apply(lambda x: list(compress([x['value1'], x['value2'], x['value3']], list(map(verify_float, [x['value1'], x['value2'], x['value3']])))), axis=1)"
   ]
  },
  {
   "cell_type": "code",
   "execution_count": 107,
   "metadata": {
    "tags": []
   },
   "outputs": [
    {
     "name": "stderr",
     "output_type": "stream",
     "text": [
      "/Users/michelleng/opt/anaconda3/lib/python3.7/site-packages/ipykernel_launcher.py:1: SettingWithCopyWarning: \n",
      "A value is trying to be set on a copy of a slice from a DataFrame.\n",
      "Try using .loc[row_indexer,col_indexer] = value instead\n",
      "\n",
      "See the caveats in the documentation: https://pandas.pydata.org/pandas-docs/stable/user_guide/indexing.html#returning-a-view-versus-a-copy\n",
      "  \"\"\"Entry point for launching an IPython kernel.\n"
     ]
    }
   ],
   "source": [
    "LDL['value'] = LDL['value'].map(lambda x: float(x[0]) if len(x) > 0 else np.nan)\n",
    "\n",
    "LDL = LDL[~LDL['value'].isnull()]"
   ]
  },
  {
   "cell_type": "code",
   "execution_count": 108,
   "metadata": {
    "tags": []
   },
   "outputs": [],
   "source": [
    "LDL['event_dt'] = pd.to_datetime(LDL['event_dt'])"
   ]
  },
  {
   "cell_type": "code",
   "execution_count": 109,
   "metadata": {},
   "outputs": [],
   "source": [
    "new_LDL = pd.merge(LDL, first_event, how = 'left', on = 'eid')"
   ]
  },
  {
   "cell_type": "code",
   "execution_count": 110,
   "metadata": {},
   "outputs": [],
   "source": [
    "new_LDL['event_type'] = new_LDL.apply(lambda x: get_event_type(x['event_dt'], x['first_record_d']), axis=1)"
   ]
  },
  {
   "cell_type": "code",
   "execution_count": 111,
   "metadata": {},
   "outputs": [
    {
     "data": {
      "text/plain": [
       "array([nan, 'MEA096', 'MEA000', 'mmol/L', 'Unknown', 'MEA151'],\n",
       "      dtype=object)"
      ]
     },
     "execution_count": 111,
     "metadata": {},
     "output_type": "execute_result"
    }
   ],
   "source": [
    "new_LDL['value3'].unique()"
   ]
  },
  {
   "cell_type": "code",
   "execution_count": 112,
   "metadata": {},
   "outputs": [],
   "source": [
    "def get_LDL_value3type(value3):\n",
    "    value3 = str(value3)\n",
    "    if 'MEA' in value3:\n",
    "        return 'MEA'\n",
    "    elif value3 in ['nan', 'Unknown']:\n",
    "        return 'Unknown'\n",
    "    else:\n",
    "        return value3\n",
    "new_LDL['value3_'] = new_LDL['value3'].map(get_LDL_value3type)"
   ]
  },
  {
   "cell_type": "code",
   "execution_count": 113,
   "metadata": {},
   "outputs": [
    {
     "data": {
      "text/plain": [
       "array(['Unknown', 'MEA', 'mmol/L'], dtype=object)"
      ]
     },
     "execution_count": 113,
     "metadata": {},
     "output_type": "execute_result"
    }
   ],
   "source": [
    "new_LDL['value3_'].unique()"
   ]
  },
  {
   "cell_type": "code",
   "execution_count": 114,
   "metadata": {},
   "outputs": [
    {
     "data": {
      "text/plain": [
       "value3_  event_type      \n",
       "MEA      after_<=14              5\n",
       "         after_>14,<=180        55\n",
       "         after_>180           1576\n",
       "         before_<=14             5\n",
       "         before_>14,<=180       28\n",
       "         before_>180           249\n",
       "Unknown  after_<=14             98\n",
       "         after_>14,<=180       965\n",
       "         after_>180          20133\n",
       "         before_<=14            63\n",
       "         before_>14,<=180      543\n",
       "         before_>180          5475\n",
       "         index                  25\n",
       "mmol/L   after_<=14              3\n",
       "         after_>14,<=180        38\n",
       "         after_>180            867\n",
       "         before_<=14             6\n",
       "         before_>14,<=180       14\n",
       "         before_>180           116\n",
       "         index                   1\n",
       "Name: eid, dtype: int64"
      ]
     },
     "execution_count": 114,
     "metadata": {},
     "output_type": "execute_result"
    }
   ],
   "source": [
    "new_LDL.groupby(['value3_', 'event_type'])['eid'].count()"
   ]
  },
  {
   "cell_type": "code",
   "execution_count": 115,
   "metadata": {},
   "outputs": [
    {
     "data": {
      "text/plain": [
       "value3_  event_type      \n",
       "MEA      after_<=14             5\n",
       "         after_>14,<=180       49\n",
       "         after_>180           297\n",
       "         before_<=14            5\n",
       "         before_>14,<=180      26\n",
       "         before_>180           87\n",
       "Unknown  after_<=14            96\n",
       "         after_>14,<=180      795\n",
       "         after_>180          2987\n",
       "         before_<=14           60\n",
       "         before_>14,<=180     477\n",
       "         before_>180         1471\n",
       "         index                 24\n",
       "mmol/L   after_<=14             3\n",
       "         after_>14,<=180       30\n",
       "         after_>180           243\n",
       "         before_<=14            5\n",
       "         before_>14,<=180      12\n",
       "         before_>180           38\n",
       "         index                  1\n",
       "Name: eid, dtype: int64"
      ]
     },
     "execution_count": 115,
     "metadata": {},
     "output_type": "execute_result"
    }
   ],
   "source": [
    "new_LDL.groupby(['value3_', 'event_type'])['eid'].nunique()"
   ]
  },
  {
   "cell_type": "markdown",
   "metadata": {},
   "source": [
    "### Secondary"
   ]
  },
  {
   "cell_type": "code",
   "execution_count": 49,
   "metadata": {},
   "outputs": [],
   "source": [
    "LDL1 = sec[['eid', 'LDL1', 'LDL1date']]\n",
    "LDL2 = sec[['eid', 'LDL2', 'LDL2date']]"
   ]
  },
  {
   "cell_type": "code",
   "execution_count": 50,
   "metadata": {
    "tags": []
   },
   "outputs": [
    {
     "name": "stderr",
     "output_type": "stream",
     "text": [
      "/Users/michelleng/opt/anaconda3/lib/python3.7/site-packages/ipykernel_launcher.py:1: SettingWithCopyWarning: \n",
      "A value is trying to be set on a copy of a slice from a DataFrame\n",
      "\n",
      "See the caveats in the documentation: https://pandas.pydata.org/pandas-docs/stable/user_guide/indexing.html#returning-a-view-versus-a-copy\n",
      "  \"\"\"Entry point for launching an IPython kernel.\n",
      "/Users/michelleng/opt/anaconda3/lib/python3.7/site-packages/ipykernel_launcher.py:2: SettingWithCopyWarning: \n",
      "A value is trying to be set on a copy of a slice from a DataFrame\n",
      "\n",
      "See the caveats in the documentation: https://pandas.pydata.org/pandas-docs/stable/user_guide/indexing.html#returning-a-view-versus-a-copy\n",
      "  \n"
     ]
    }
   ],
   "source": [
    "LDL1.dropna(axis = 0, inplace = True)\n",
    "LDL2.dropna(axis = 0, inplace = True)"
   ]
  },
  {
   "cell_type": "code",
   "execution_count": 51,
   "metadata": {
    "tags": []
   },
   "outputs": [
    {
     "name": "stderr",
     "output_type": "stream",
     "text": [
      "/Users/michelleng/opt/anaconda3/lib/python3.7/site-packages/ipykernel_launcher.py:1: SettingWithCopyWarning: \n",
      "A value is trying to be set on a copy of a slice from a DataFrame.\n",
      "Try using .loc[row_indexer,col_indexer] = value instead\n",
      "\n",
      "See the caveats in the documentation: https://pandas.pydata.org/pandas-docs/stable/user_guide/indexing.html#returning-a-view-versus-a-copy\n",
      "  \"\"\"Entry point for launching an IPython kernel.\n",
      "/Users/michelleng/opt/anaconda3/lib/python3.7/site-packages/ipykernel_launcher.py:2: SettingWithCopyWarning: \n",
      "A value is trying to be set on a copy of a slice from a DataFrame.\n",
      "Try using .loc[row_indexer,col_indexer] = value instead\n",
      "\n",
      "See the caveats in the documentation: https://pandas.pydata.org/pandas-docs/stable/user_guide/indexing.html#returning-a-view-versus-a-copy\n",
      "  \n"
     ]
    }
   ],
   "source": [
    "LDL1['LDL1date'] = pd.to_datetime(LDL1['LDL1date'])\n",
    "LDL2['LDL2date'] = pd.to_datetime(LDL2['LDL2date'])"
   ]
  },
  {
   "cell_type": "code",
   "execution_count": 52,
   "metadata": {},
   "outputs": [],
   "source": [
    "LDL1.columns = ['eid', 'LDL', 'date']\n",
    "LDL2.columns = ['eid', 'LDL', 'date']"
   ]
  },
  {
   "cell_type": "code",
   "execution_count": 53,
   "metadata": {},
   "outputs": [],
   "source": [
    "LDL1 = LDL1.append(LDL2)"
   ]
  },
  {
   "cell_type": "code",
   "execution_count": 54,
   "metadata": {},
   "outputs": [],
   "source": [
    "LDL_sec = pd.merge(LDL1, first_event, on = 'eid', how = 'left')"
   ]
  },
  {
   "cell_type": "code",
   "execution_count": 55,
   "metadata": {},
   "outputs": [],
   "source": [
    "LDL_sec['event_type'] = LDL_sec.apply(lambda x: get_event_type(x['date'], x['first_record_d']), axis=1)"
   ]
  },
  {
   "cell_type": "code",
   "execution_count": 56,
   "metadata": {},
   "outputs": [
    {
     "data": {
      "text/plain": [
       "event_type\n",
       "after_<=14             4\n",
       "after_>14,<=180       50\n",
       "after_>180          5530\n",
       "before_<=14            1\n",
       "before_>14,<=180      16\n",
       "before_>180           12\n",
       "Name: eid, dtype: int64"
      ]
     },
     "execution_count": 56,
     "metadata": {},
     "output_type": "execute_result"
    }
   ],
   "source": [
    "LDL_sec.groupby(['event_type'])['eid'].count()"
   ]
  },
  {
   "cell_type": "code",
   "execution_count": 57,
   "metadata": {},
   "outputs": [
    {
     "data": {
      "text/plain": [
       "event_type\n",
       "after_<=14             4\n",
       "after_>14,<=180       50\n",
       "after_>180          5409\n",
       "before_<=14            1\n",
       "before_>14,<=180      15\n",
       "before_>180           12\n",
       "Name: eid, dtype: int64"
      ]
     },
     "execution_count": 57,
     "metadata": {},
     "output_type": "execute_result"
    }
   ],
   "source": [
    "LDL_sec.groupby(['event_type'])['eid'].nunique()"
   ]
  },
  {
   "cell_type": "markdown",
   "metadata": {},
   "source": [
    "## HDL"
   ]
  },
  {
   "cell_type": "markdown",
   "metadata": {},
   "source": [
    "### Primary"
   ]
  },
  {
   "cell_type": "code",
   "execution_count": 125,
   "metadata": {},
   "outputs": [],
   "source": [
    "HDL = pri[pri['read_2'].isin(biomarker_codes['HDL']['read2'])| pri['read_3'].isin(biomarker_codes['HDL']['read3'])]"
   ]
  },
  {
   "cell_type": "code",
   "execution_count": 126,
   "metadata": {
    "tags": []
   },
   "outputs": [
    {
     "name": "stderr",
     "output_type": "stream",
     "text": [
      "/Users/michelleng/opt/anaconda3/lib/python3.7/site-packages/ipykernel_launcher.py:1: SettingWithCopyWarning: \n",
      "A value is trying to be set on a copy of a slice from a DataFrame.\n",
      "Try using .loc[row_indexer,col_indexer] = value instead\n",
      "\n",
      "See the caveats in the documentation: https://pandas.pydata.org/pandas-docs/stable/user_guide/indexing.html#returning-a-view-versus-a-copy\n",
      "  \"\"\"Entry point for launching an IPython kernel.\n"
     ]
    }
   ],
   "source": [
    "HDL['value'] = HDL.apply(lambda x: list(compress([x['value1'], x['value2'], x['value3']], list(map(verify_float, [x['value1'], x['value2'], x['value3']])))), axis=1)"
   ]
  },
  {
   "cell_type": "code",
   "execution_count": 127,
   "metadata": {
    "tags": []
   },
   "outputs": [
    {
     "name": "stderr",
     "output_type": "stream",
     "text": [
      "/Users/michelleng/opt/anaconda3/lib/python3.7/site-packages/ipykernel_launcher.py:1: SettingWithCopyWarning: \n",
      "A value is trying to be set on a copy of a slice from a DataFrame.\n",
      "Try using .loc[row_indexer,col_indexer] = value instead\n",
      "\n",
      "See the caveats in the documentation: https://pandas.pydata.org/pandas-docs/stable/user_guide/indexing.html#returning-a-view-versus-a-copy\n",
      "  \"\"\"Entry point for launching an IPython kernel.\n"
     ]
    }
   ],
   "source": [
    "HDL['value'] = HDL['value'].map(lambda x: round(float(x[0]),1) if len(x) > 0 else np.nan)\n",
    "\n",
    "HDL = HDL[~HDL['value'].isnull()]"
   ]
  },
  {
   "cell_type": "code",
   "execution_count": 128,
   "metadata": {},
   "outputs": [],
   "source": [
    "new_HDL = pd.merge(HDL, first_event, how = 'left', on = 'eid')"
   ]
  },
  {
   "cell_type": "code",
   "execution_count": 129,
   "metadata": {},
   "outputs": [],
   "source": [
    "new_HDL['event_dt'] = pd.to_datetime(new_HDL['event_dt'])"
   ]
  },
  {
   "cell_type": "code",
   "execution_count": 130,
   "metadata": {},
   "outputs": [],
   "source": [
    "new_HDL['event_type'] = new_HDL.apply(lambda x: get_event_type(x['event_dt'], x['first_record_d']), axis=1)"
   ]
  },
  {
   "cell_type": "code",
   "execution_count": 131,
   "metadata": {},
   "outputs": [
    {
     "data": {
      "text/plain": [
       "array([nan, 'MEA096', 'MEA000', 'mmol/L', 'mmol/l', 'Unknown', 'MEA151'],\n",
       "      dtype=object)"
      ]
     },
     "execution_count": 131,
     "metadata": {},
     "output_type": "execute_result"
    }
   ],
   "source": [
    "new_HDL['value3'].unique()"
   ]
  },
  {
   "cell_type": "code",
   "execution_count": 132,
   "metadata": {},
   "outputs": [],
   "source": [
    "def get_HDL_value3type(value3):\n",
    "    value3 = str(value3)\n",
    "    if 'MEA' in value3:\n",
    "        return 'MEA'\n",
    "    elif value3 in ['nan', 'Unknown']:\n",
    "        return 'Unknown'\n",
    "    elif value3 in ['mmol/L', 'mmol/l']:\n",
    "        return 'mmol/L'\n",
    "new_HDL['value3_'] = new_HDL['value3'].map(get_HDL_value3type)"
   ]
  },
  {
   "cell_type": "code",
   "execution_count": 133,
   "metadata": {},
   "outputs": [
    {
     "data": {
      "text/plain": [
       "array(['Unknown', 'MEA', 'mmol/L'], dtype=object)"
      ]
     },
     "execution_count": 133,
     "metadata": {},
     "output_type": "execute_result"
    }
   ],
   "source": [
    "new_HDL['value3_'].unique()"
   ]
  },
  {
   "cell_type": "code",
   "execution_count": 134,
   "metadata": {},
   "outputs": [
    {
     "data": {
      "text/plain": [
       "value3_  event_type      \n",
       "MEA      after_<=14              7\n",
       "         after_>14,<=180        81\n",
       "         after_>180           2173\n",
       "         before_<=14             6\n",
       "         before_>14,<=180       43\n",
       "         before_>180           389\n",
       "         index                   1\n",
       "Unknown  after_<=14            146\n",
       "         after_>14,<=180      1341\n",
       "         after_>180          29678\n",
       "         before_<=14            97\n",
       "         before_>14,<=180      788\n",
       "         before_>180          7576\n",
       "         index                  37\n",
       "mmol/L   after_<=14              4\n",
       "         after_>14,<=180        60\n",
       "         after_>180           1410\n",
       "         before_<=14             8\n",
       "         before_>14,<=180       26\n",
       "         before_>180           205\n",
       "         index                   1\n",
       "Name: eid, dtype: int64"
      ]
     },
     "execution_count": 134,
     "metadata": {},
     "output_type": "execute_result"
    }
   ],
   "source": [
    "new_HDL.groupby(['value3_', 'event_type'])['eid'].count()"
   ]
  },
  {
   "cell_type": "code",
   "execution_count": 135,
   "metadata": {},
   "outputs": [
    {
     "data": {
      "text/plain": [
       "value3_  event_type      \n",
       "MEA      after_<=14             7\n",
       "         after_>14,<=180       71\n",
       "         after_>180           319\n",
       "         before_<=14            6\n",
       "         before_>14,<=180      37\n",
       "         before_>180          115\n",
       "         index                  1\n",
       "Unknown  after_<=14           141\n",
       "         after_>14,<=180     1087\n",
       "         after_>180          3742\n",
       "         before_<=14           92\n",
       "         before_>14,<=180     677\n",
       "         before_>180         1815\n",
       "         index                 36\n",
       "mmol/L   after_<=14             4\n",
       "         after_>14,<=180       49\n",
       "         after_>180           270\n",
       "         before_<=14            7\n",
       "         before_>14,<=180      19\n",
       "         before_>180           64\n",
       "         index                  1\n",
       "Name: eid, dtype: int64"
      ]
     },
     "execution_count": 135,
     "metadata": {},
     "output_type": "execute_result"
    }
   ],
   "source": [
    "new_HDL.groupby(['value3_', 'event_type'])['eid'].nunique()"
   ]
  },
  {
   "cell_type": "markdown",
   "metadata": {},
   "source": [
    "### Secondary"
   ]
  },
  {
   "cell_type": "code",
   "execution_count": 58,
   "metadata": {},
   "outputs": [],
   "source": [
    "HDL1 = sec[['eid', 'HDL1', 'HDL1date']]\n",
    "HDL2 = sec[['eid', 'HDL2', 'HDL2date']]"
   ]
  },
  {
   "cell_type": "code",
   "execution_count": 59,
   "metadata": {
    "tags": []
   },
   "outputs": [
    {
     "name": "stderr",
     "output_type": "stream",
     "text": [
      "/Users/michelleng/opt/anaconda3/lib/python3.7/site-packages/ipykernel_launcher.py:1: SettingWithCopyWarning: \n",
      "A value is trying to be set on a copy of a slice from a DataFrame\n",
      "\n",
      "See the caveats in the documentation: https://pandas.pydata.org/pandas-docs/stable/user_guide/indexing.html#returning-a-view-versus-a-copy\n",
      "  \"\"\"Entry point for launching an IPython kernel.\n",
      "/Users/michelleng/opt/anaconda3/lib/python3.7/site-packages/ipykernel_launcher.py:2: SettingWithCopyWarning: \n",
      "A value is trying to be set on a copy of a slice from a DataFrame\n",
      "\n",
      "See the caveats in the documentation: https://pandas.pydata.org/pandas-docs/stable/user_guide/indexing.html#returning-a-view-versus-a-copy\n",
      "  \n"
     ]
    }
   ],
   "source": [
    "HDL1.dropna(axis = 0, inplace = True)\n",
    "HDL2.dropna(axis = 0, inplace = True)"
   ]
  },
  {
   "cell_type": "code",
   "execution_count": 60,
   "metadata": {
    "tags": []
   },
   "outputs": [
    {
     "name": "stderr",
     "output_type": "stream",
     "text": [
      "/Users/michelleng/opt/anaconda3/lib/python3.7/site-packages/ipykernel_launcher.py:1: SettingWithCopyWarning: \n",
      "A value is trying to be set on a copy of a slice from a DataFrame.\n",
      "Try using .loc[row_indexer,col_indexer] = value instead\n",
      "\n",
      "See the caveats in the documentation: https://pandas.pydata.org/pandas-docs/stable/user_guide/indexing.html#returning-a-view-versus-a-copy\n",
      "  \"\"\"Entry point for launching an IPython kernel.\n",
      "/Users/michelleng/opt/anaconda3/lib/python3.7/site-packages/ipykernel_launcher.py:2: SettingWithCopyWarning: \n",
      "A value is trying to be set on a copy of a slice from a DataFrame.\n",
      "Try using .loc[row_indexer,col_indexer] = value instead\n",
      "\n",
      "See the caveats in the documentation: https://pandas.pydata.org/pandas-docs/stable/user_guide/indexing.html#returning-a-view-versus-a-copy\n",
      "  \n"
     ]
    }
   ],
   "source": [
    "HDL1['HDL1date'] = pd.to_datetime(HDL1['HDL1date'])\n",
    "HDL2['HDL2date'] = pd.to_datetime(HDL2['HDL2date'])"
   ]
  },
  {
   "cell_type": "code",
   "execution_count": 61,
   "metadata": {},
   "outputs": [],
   "source": [
    "HDL1.columns = ['eid', 'HDL', 'date']\n",
    "HDL2.columns = ['eid', 'HDL', 'date']"
   ]
  },
  {
   "cell_type": "code",
   "execution_count": 62,
   "metadata": {},
   "outputs": [],
   "source": [
    "HDL1 = HDL1.append(HDL2)"
   ]
  },
  {
   "cell_type": "code",
   "execution_count": 63,
   "metadata": {},
   "outputs": [],
   "source": [
    "HDL_sec = pd.merge(HDL1, first_event, on = 'eid', how = 'left')"
   ]
  },
  {
   "cell_type": "code",
   "execution_count": 64,
   "metadata": {},
   "outputs": [],
   "source": [
    "HDL_sec['event_type'] = HDL_sec.apply(lambda x: get_event_type(x['date'], x['first_record_d']), axis=1)"
   ]
  },
  {
   "cell_type": "code",
   "execution_count": 65,
   "metadata": {},
   "outputs": [
    {
     "data": {
      "text/plain": [
       "event_type\n",
       "after_<=14             4\n",
       "after_>14,<=180       44\n",
       "after_>180          5104\n",
       "before_<=14            1\n",
       "before_>14,<=180       9\n",
       "before_>180           10\n",
       "Name: eid, dtype: int64"
      ]
     },
     "execution_count": 65,
     "metadata": {},
     "output_type": "execute_result"
    }
   ],
   "source": [
    "HDL_sec.groupby(['event_type'])['eid'].count()"
   ]
  },
  {
   "cell_type": "code",
   "execution_count": 66,
   "metadata": {},
   "outputs": [
    {
     "data": {
      "text/plain": [
       "event_type\n",
       "after_<=14             4\n",
       "after_>14,<=180       44\n",
       "after_>180          5007\n",
       "before_<=14            1\n",
       "before_>14,<=180       9\n",
       "before_>180           10\n",
       "Name: eid, dtype: int64"
      ]
     },
     "execution_count": 66,
     "metadata": {},
     "output_type": "execute_result"
    }
   ],
   "source": [
    "HDL_sec.groupby(['event_type'])['eid'].nunique()"
   ]
  },
  {
   "cell_type": "markdown",
   "metadata": {},
   "source": [
    "## Creatinine"
   ]
  },
  {
   "cell_type": "code",
   "execution_count": 145,
   "metadata": {},
   "outputs": [],
   "source": [
    "creat = pri[pri['read_2'].isin(biomarker_codes['Creatinine']['read2'])| pri['read_3'].isin(biomarker_codes['Creatinine']['read3'])]"
   ]
  },
  {
   "cell_type": "code",
   "execution_count": 146,
   "metadata": {},
   "outputs": [],
   "source": [
    "replace_dict= {\n",
    "    'Âµmol/L': 'umol/L',\n",
    "    'µmol/L': 'umol/L', \n",
    "    'micmol/l': 'umol/L',\n",
    "    'umol/l': 'umol/L',\n",
    "    'mmol/24h': 'mmol/24hr',\n",
    "    'mmol/volume': 'mmol/vol',\n",
    "    'm1/min': 'ml/min',\n",
    "    'nmol/l': 'nmol/L',\n",
    "    'mmol/l': 'mmol/L'\n",
    "    }"
   ]
  },
  {
   "cell_type": "code",
   "execution_count": 147,
   "metadata": {
    "tags": []
   },
   "outputs": [
    {
     "name": "stderr",
     "output_type": "stream",
     "text": [
      "/Users/michelleng/opt/anaconda3/lib/python3.7/site-packages/ipykernel_launcher.py:1: SettingWithCopyWarning: \n",
      "A value is trying to be set on a copy of a slice from a DataFrame.\n",
      "Try using .loc[row_indexer,col_indexer] = value instead\n",
      "\n",
      "See the caveats in the documentation: https://pandas.pydata.org/pandas-docs/stable/user_guide/indexing.html#returning-a-view-versus-a-copy\n",
      "  \"\"\"Entry point for launching an IPython kernel.\n"
     ]
    }
   ],
   "source": [
    "creat['value3'] = creat['value3'].replace(replace_dict)"
   ]
  },
  {
   "cell_type": "code",
   "execution_count": 148,
   "metadata": {
    "tags": []
   },
   "outputs": [
    {
     "name": "stderr",
     "output_type": "stream",
     "text": [
      "/Users/michelleng/opt/anaconda3/lib/python3.7/site-packages/ipykernel_launcher.py:1: SettingWithCopyWarning: \n",
      "A value is trying to be set on a copy of a slice from a DataFrame.\n",
      "Try using .loc[row_indexer,col_indexer] = value instead\n",
      "\n",
      "See the caveats in the documentation: https://pandas.pydata.org/pandas-docs/stable/user_guide/indexing.html#returning-a-view-versus-a-copy\n",
      "  \"\"\"Entry point for launching an IPython kernel.\n"
     ]
    }
   ],
   "source": [
    "creat['value'] = creat.apply(lambda x: list(compress([x['value1'], x['value2'], x['value3']], list(map(verify_float, [x['value1'], x['value2'], x['value3']])))), axis=1)"
   ]
  },
  {
   "cell_type": "code",
   "execution_count": 149,
   "metadata": {
    "tags": []
   },
   "outputs": [
    {
     "name": "stderr",
     "output_type": "stream",
     "text": [
      "/Users/michelleng/opt/anaconda3/lib/python3.7/site-packages/ipykernel_launcher.py:1: SettingWithCopyWarning: \n",
      "A value is trying to be set on a copy of a slice from a DataFrame.\n",
      "Try using .loc[row_indexer,col_indexer] = value instead\n",
      "\n",
      "See the caveats in the documentation: https://pandas.pydata.org/pandas-docs/stable/user_guide/indexing.html#returning-a-view-versus-a-copy\n",
      "  \"\"\"Entry point for launching an IPython kernel.\n"
     ]
    }
   ],
   "source": [
    "creat['value'] = creat['value'].map(lambda x: round(float(x[0]),1) if len(x) > 0 else np.nan)\n",
    "\n",
    "creat = creat[~creat['value'].isnull()]"
   ]
  },
  {
   "cell_type": "code",
   "execution_count": 150,
   "metadata": {},
   "outputs": [],
   "source": [
    "new_creat = pd.merge(creat, first_event, how = 'left', on = 'eid')"
   ]
  },
  {
   "cell_type": "code",
   "execution_count": 151,
   "metadata": {},
   "outputs": [],
   "source": [
    "new_creat['event_dt'] = pd.to_datetime(new_creat['event_dt'])"
   ]
  },
  {
   "cell_type": "code",
   "execution_count": 190,
   "metadata": {},
   "outputs": [],
   "source": [
    "new_creat['event_type'] = new_creat.apply(lambda x: get_event_type_creat(x['event_dt'], x['first_record_d']), axis=1)"
   ]
  },
  {
   "cell_type": "code",
   "execution_count": 191,
   "metadata": {},
   "outputs": [
    {
     "data": {
      "text/plain": [
       "array([nan, 'MEA142', 'MEA000', 'umol/L', 'Unknown', 'mmol/L', 'MEA096'],\n",
       "      dtype=object)"
      ]
     },
     "execution_count": 191,
     "metadata": {},
     "output_type": "execute_result"
    }
   ],
   "source": [
    "new_creat['value3'].unique()"
   ]
  },
  {
   "cell_type": "code",
   "execution_count": 192,
   "metadata": {},
   "outputs": [],
   "source": [
    "def get_creat_value3type(value3):\n",
    "    value3 = str(value3)\n",
    "    if 'MEA' in value3:\n",
    "        return 'MEA'\n",
    "    elif value3 in ['nan', 'Unknown']:\n",
    "        return 'Unknown'\n",
    "    elif value3 in ['mmol/L', 'mmol/l']:\n",
    "        return 'mmol/L'\n",
    "    else:\n",
    "        return value3\n",
    "new_creat['value3_'] = new_creat['value3'].map(get_creat_value3type)"
   ]
  },
  {
   "cell_type": "code",
   "execution_count": 193,
   "metadata": {},
   "outputs": [
    {
     "data": {
      "text/plain": [
       "array(['Unknown', 'MEA', 'umol/L', 'mmol/L'], dtype=object)"
      ]
     },
     "execution_count": 193,
     "metadata": {},
     "output_type": "execute_result"
    }
   ],
   "source": [
    "new_creat['value3_'].unique()"
   ]
  },
  {
   "cell_type": "code",
   "execution_count": 194,
   "metadata": {},
   "outputs": [
    {
     "data": {
      "text/plain": [
       "value3_  event_type     \n",
       "MEA      after_<=14            16\n",
       "         after_>14,<=90        86\n",
       "         after_>90           5434\n",
       "         before_<=14           20\n",
       "         before_>14,<=90       56\n",
       "         before_>90           938\n",
       "         index                  5\n",
       "Unknown  after_<=14           232\n",
       "         after_>14,<=90      1125\n",
       "         after_>90          53011\n",
       "         before_<=14          167\n",
       "         before_>14,<=90      696\n",
       "         before_>90         14389\n",
       "         index                 63\n",
       "mmol/L   before_>90             1\n",
       "umol/L   after_<=14            18\n",
       "         after_>14,<=90        76\n",
       "         after_>90           3700\n",
       "         before_<=14           13\n",
       "         before_>14,<=90       37\n",
       "         before_>90           492\n",
       "         index                  4\n",
       "Name: eid, dtype: int64"
      ]
     },
     "execution_count": 194,
     "metadata": {},
     "output_type": "execute_result"
    }
   ],
   "source": [
    "new_creat.groupby(['value3_', 'event_type'])['eid'].count()"
   ]
  },
  {
   "cell_type": "code",
   "execution_count": 195,
   "metadata": {},
   "outputs": [
    {
     "data": {
      "text/plain": [
       "value3_  event_type     \n",
       "MEA      after_<=14           15\n",
       "         after_>14,<=90       62\n",
       "         after_>90           376\n",
       "         before_<=14          17\n",
       "         before_>14,<=90      44\n",
       "         before_>90          137\n",
       "         index                 5\n",
       "Unknown  after_<=14          217\n",
       "         after_>14,<=90      873\n",
       "         after_>90          3981\n",
       "         before_<=14         154\n",
       "         before_>14,<=90     577\n",
       "         before_>90         2228\n",
       "         index                58\n",
       "mmol/L   before_>90            1\n",
       "umol/L   after_<=14           10\n",
       "         after_>14,<=90       46\n",
       "         after_>90           308\n",
       "         before_<=14          12\n",
       "         before_>14,<=90      27\n",
       "         before_>90           96\n",
       "         index                 4\n",
       "Name: eid, dtype: int64"
      ]
     },
     "execution_count": 195,
     "metadata": {},
     "output_type": "execute_result"
    }
   ],
   "source": [
    "new_creat.groupby(['value3_', 'event_type'])['eid'].nunique()"
   ]
  },
  {
   "cell_type": "markdown",
   "metadata": {},
   "source": [
    "### Secondary"
   ]
  },
  {
   "cell_type": "code",
   "execution_count": 67,
   "metadata": {},
   "outputs": [],
   "source": [
    "creat1 = sec[['eid', 'Creat1', 'Creat1date']]\n",
    "creat2 = sec[['eid', 'Creat2', 'Creat2date']]"
   ]
  },
  {
   "cell_type": "code",
   "execution_count": 68,
   "metadata": {
    "tags": []
   },
   "outputs": [
    {
     "name": "stderr",
     "output_type": "stream",
     "text": [
      "/Users/michelleng/opt/anaconda3/lib/python3.7/site-packages/ipykernel_launcher.py:1: SettingWithCopyWarning: \n",
      "A value is trying to be set on a copy of a slice from a DataFrame\n",
      "\n",
      "See the caveats in the documentation: https://pandas.pydata.org/pandas-docs/stable/user_guide/indexing.html#returning-a-view-versus-a-copy\n",
      "  \"\"\"Entry point for launching an IPython kernel.\n",
      "/Users/michelleng/opt/anaconda3/lib/python3.7/site-packages/ipykernel_launcher.py:2: SettingWithCopyWarning: \n",
      "A value is trying to be set on a copy of a slice from a DataFrame\n",
      "\n",
      "See the caveats in the documentation: https://pandas.pydata.org/pandas-docs/stable/user_guide/indexing.html#returning-a-view-versus-a-copy\n",
      "  \n"
     ]
    }
   ],
   "source": [
    "creat1.dropna(axis = 0, inplace = True)\n",
    "creat2.dropna(axis = 0, inplace = True)"
   ]
  },
  {
   "cell_type": "code",
   "execution_count": 69,
   "metadata": {
    "tags": []
   },
   "outputs": [
    {
     "name": "stderr",
     "output_type": "stream",
     "text": [
      "/Users/michelleng/opt/anaconda3/lib/python3.7/site-packages/ipykernel_launcher.py:1: SettingWithCopyWarning: \n",
      "A value is trying to be set on a copy of a slice from a DataFrame.\n",
      "Try using .loc[row_indexer,col_indexer] = value instead\n",
      "\n",
      "See the caveats in the documentation: https://pandas.pydata.org/pandas-docs/stable/user_guide/indexing.html#returning-a-view-versus-a-copy\n",
      "  \"\"\"Entry point for launching an IPython kernel.\n",
      "/Users/michelleng/opt/anaconda3/lib/python3.7/site-packages/ipykernel_launcher.py:2: SettingWithCopyWarning: \n",
      "A value is trying to be set on a copy of a slice from a DataFrame.\n",
      "Try using .loc[row_indexer,col_indexer] = value instead\n",
      "\n",
      "See the caveats in the documentation: https://pandas.pydata.org/pandas-docs/stable/user_guide/indexing.html#returning-a-view-versus-a-copy\n",
      "  \n"
     ]
    }
   ],
   "source": [
    "creat1['Creat1date'] = pd.to_datetime(creat1['Creat1date'])\n",
    "creat2['Creat2date'] = pd.to_datetime(creat2['Creat2date'])"
   ]
  },
  {
   "cell_type": "code",
   "execution_count": 70,
   "metadata": {},
   "outputs": [],
   "source": [
    "creat1.columns = ['eid', 'creat', 'date']\n",
    "creat2.columns = ['eid', 'creat', 'date']"
   ]
  },
  {
   "cell_type": "code",
   "execution_count": 71,
   "metadata": {},
   "outputs": [],
   "source": [
    "creat1 = creat1.append(creat2)"
   ]
  },
  {
   "cell_type": "code",
   "execution_count": 72,
   "metadata": {},
   "outputs": [],
   "source": [
    "creat_sec = pd.merge(creat1, first_event, on = 'eid', how = 'left')"
   ]
  },
  {
   "cell_type": "code",
   "execution_count": 73,
   "metadata": {},
   "outputs": [],
   "source": [
    "creat_sec['event_type'] = creat_sec.apply(lambda x: get_event_type_creat(x['date'], x['first_record_d']), axis=1)"
   ]
  },
  {
   "cell_type": "code",
   "execution_count": 76,
   "metadata": {},
   "outputs": [
    {
     "data": {
      "text/html": [
       "<div>\n",
       "<style scoped>\n",
       "    .dataframe tbody tr th:only-of-type {\n",
       "        vertical-align: middle;\n",
       "    }\n",
       "\n",
       "    .dataframe tbody tr th {\n",
       "        vertical-align: top;\n",
       "    }\n",
       "\n",
       "    .dataframe thead th {\n",
       "        text-align: right;\n",
       "    }\n",
       "</style>\n",
       "<table border=\"1\" class=\"dataframe\">\n",
       "  <thead>\n",
       "    <tr style=\"text-align: right;\">\n",
       "      <th></th>\n",
       "      <th>eid</th>\n",
       "      <th>creat</th>\n",
       "      <th>date</th>\n",
       "      <th>first_record_d</th>\n",
       "      <th>event_type</th>\n",
       "    </tr>\n",
       "  </thead>\n",
       "  <tbody>\n",
       "    <tr>\n",
       "      <th>0</th>\n",
       "      <td>1000421</td>\n",
       "      <td>88.7</td>\n",
       "      <td>2017-09-07</td>\n",
       "      <td>2010-05-27</td>\n",
       "      <td>after_&gt;90</td>\n",
       "    </tr>\n",
       "    <tr>\n",
       "      <th>1</th>\n",
       "      <td>1000530</td>\n",
       "      <td>76.4</td>\n",
       "      <td>2016-12-05</td>\n",
       "      <td>2012-03-26</td>\n",
       "      <td>after_&gt;90</td>\n",
       "    </tr>\n",
       "    <tr>\n",
       "      <th>2</th>\n",
       "      <td>1001099</td>\n",
       "      <td>71.8</td>\n",
       "      <td>2016-10-14</td>\n",
       "      <td>2003-01-01</td>\n",
       "      <td>after_&gt;90</td>\n",
       "    </tr>\n",
       "    <tr>\n",
       "      <th>3</th>\n",
       "      <td>1001327</td>\n",
       "      <td>79.7</td>\n",
       "      <td>2016-10-15</td>\n",
       "      <td>2016-03-28</td>\n",
       "      <td>after_&gt;90</td>\n",
       "    </tr>\n",
       "    <tr>\n",
       "      <th>4</th>\n",
       "      <td>1001624</td>\n",
       "      <td>66.0</td>\n",
       "      <td>2016-03-05</td>\n",
       "      <td>2001-01-01</td>\n",
       "      <td>after_&gt;90</td>\n",
       "    </tr>\n",
       "    <tr>\n",
       "      <th>...</th>\n",
       "      <td>...</td>\n",
       "      <td>...</td>\n",
       "      <td>...</td>\n",
       "      <td>...</td>\n",
       "      <td>...</td>\n",
       "    </tr>\n",
       "    <tr>\n",
       "      <th>5618</th>\n",
       "      <td>5860992</td>\n",
       "      <td>73.8</td>\n",
       "      <td>2016-05-19</td>\n",
       "      <td>2014-09-13</td>\n",
       "      <td>after_&gt;90</td>\n",
       "    </tr>\n",
       "    <tr>\n",
       "      <th>5619</th>\n",
       "      <td>5876689</td>\n",
       "      <td>86.0</td>\n",
       "      <td>2016-09-23</td>\n",
       "      <td>2000-02-16</td>\n",
       "      <td>after_&gt;90</td>\n",
       "    </tr>\n",
       "    <tr>\n",
       "      <th>5620</th>\n",
       "      <td>5897103</td>\n",
       "      <td>94.3</td>\n",
       "      <td>2016-03-15</td>\n",
       "      <td>2012-05-05</td>\n",
       "      <td>after_&gt;90</td>\n",
       "    </tr>\n",
       "    <tr>\n",
       "      <th>5621</th>\n",
       "      <td>5949859</td>\n",
       "      <td>71.9</td>\n",
       "      <td>2016-05-28</td>\n",
       "      <td>2009-03-11</td>\n",
       "      <td>after_&gt;90</td>\n",
       "    </tr>\n",
       "    <tr>\n",
       "      <th>5622</th>\n",
       "      <td>5965063</td>\n",
       "      <td>93.0</td>\n",
       "      <td>2016-11-26</td>\n",
       "      <td>2003-03-05</td>\n",
       "      <td>after_&gt;90</td>\n",
       "    </tr>\n",
       "  </tbody>\n",
       "</table>\n",
       "<p>5623 rows × 5 columns</p>\n",
       "</div>"
      ],
      "text/plain": [
       "          eid  creat       date first_record_d event_type\n",
       "0     1000421   88.7 2017-09-07     2010-05-27  after_>90\n",
       "1     1000530   76.4 2016-12-05     2012-03-26  after_>90\n",
       "2     1001099   71.8 2016-10-14     2003-01-01  after_>90\n",
       "3     1001327   79.7 2016-10-15     2016-03-28  after_>90\n",
       "4     1001624   66.0 2016-03-05     2001-01-01  after_>90\n",
       "...       ...    ...        ...            ...        ...\n",
       "5618  5860992   73.8 2016-05-19     2014-09-13  after_>90\n",
       "5619  5876689   86.0 2016-09-23     2000-02-16  after_>90\n",
       "5620  5897103   94.3 2016-03-15     2012-05-05  after_>90\n",
       "5621  5949859   71.9 2016-05-28     2009-03-11  after_>90\n",
       "5622  5965063   93.0 2016-11-26     2003-03-05  after_>90\n",
       "\n",
       "[5623 rows x 5 columns]"
      ]
     },
     "execution_count": 76,
     "metadata": {},
     "output_type": "execute_result"
    }
   ],
   "source": [
    "creat_sec"
   ]
  },
  {
   "cell_type": "code",
   "execution_count": 74,
   "metadata": {},
   "outputs": [
    {
     "data": {
      "text/plain": [
       "event_type\n",
       "after_<=14            4\n",
       "after_>14,<=90       19\n",
       "after_>90          5571\n",
       "before_<=14           1\n",
       "before_>14,<=90      10\n",
       "before_>90           18\n",
       "Name: eid, dtype: int64"
      ]
     },
     "execution_count": 74,
     "metadata": {},
     "output_type": "execute_result"
    }
   ],
   "source": [
    "creat_sec.groupby(['event_type'])['eid'].count()"
   ]
  },
  {
   "cell_type": "code",
   "execution_count": 75,
   "metadata": {},
   "outputs": [
    {
     "data": {
      "text/plain": [
       "event_type\n",
       "after_<=14            4\n",
       "after_>14,<=90       19\n",
       "after_>90          5449\n",
       "before_<=14           1\n",
       "before_>14,<=90      10\n",
       "before_>90           18\n",
       "Name: eid, dtype: int64"
      ]
     },
     "execution_count": 75,
     "metadata": {},
     "output_type": "execute_result"
    }
   ],
   "source": [
    "creat_sec.groupby(['event_type'])['eid'].nunique()"
   ]
  },
  {
   "cell_type": "markdown",
   "metadata": {},
   "source": [
    "## HbA1c"
   ]
  },
  {
   "cell_type": "code",
   "execution_count": 167,
   "metadata": {},
   "outputs": [],
   "source": [
    "hba1c = pri[pri['read_2'].isin(biomarker_codes['Hba1c']['read2'])| pri['read_3'].isin(biomarker_codes['Hba1c']['read3'])]"
   ]
  },
  {
   "cell_type": "code",
   "execution_count": 168,
   "metadata": {
    "tags": []
   },
   "outputs": [
    {
     "name": "stderr",
     "output_type": "stream",
     "text": [
      "/Users/michelleng/opt/anaconda3/lib/python3.7/site-packages/ipykernel_launcher.py:1: SettingWithCopyWarning: \n",
      "A value is trying to be set on a copy of a slice from a DataFrame.\n",
      "Try using .loc[row_indexer,col_indexer] = value instead\n",
      "\n",
      "See the caveats in the documentation: https://pandas.pydata.org/pandas-docs/stable/user_guide/indexing.html#returning-a-view-versus-a-copy\n",
      "  \"\"\"Entry point for launching an IPython kernel.\n"
     ]
    }
   ],
   "source": [
    "hba1c['value'] = hba1c.apply(lambda x: list(compress([x['value1'], x['value2'], x['value3']], list(map(verify_float, [x['value1'], x['value2'], x['value3']])))), axis=1)"
   ]
  },
  {
   "cell_type": "code",
   "execution_count": 169,
   "metadata": {
    "tags": []
   },
   "outputs": [
    {
     "name": "stderr",
     "output_type": "stream",
     "text": [
      "/Users/michelleng/opt/anaconda3/lib/python3.7/site-packages/ipykernel_launcher.py:1: SettingWithCopyWarning: \n",
      "A value is trying to be set on a copy of a slice from a DataFrame.\n",
      "Try using .loc[row_indexer,col_indexer] = value instead\n",
      "\n",
      "See the caveats in the documentation: https://pandas.pydata.org/pandas-docs/stable/user_guide/indexing.html#returning-a-view-versus-a-copy\n",
      "  \"\"\"Entry point for launching an IPython kernel.\n"
     ]
    }
   ],
   "source": [
    "hba1c['value'] = hba1c['value'].map(lambda x: round(float(x[0]),1) if len(x) > 0 else np.nan)\n",
    "\n",
    "hba1c = hba1c[~hba1c['value'].isnull()]"
   ]
  },
  {
   "cell_type": "code",
   "execution_count": 170,
   "metadata": {
    "tags": []
   },
   "outputs": [],
   "source": [
    "hba1c['event_dt'] = pd.to_datetime(hba1c['event_dt'])"
   ]
  },
  {
   "cell_type": "code",
   "execution_count": 171,
   "metadata": {},
   "outputs": [],
   "source": [
    "new_hba1c = pd.merge(hba1c, first_event, how = 'left', on = 'eid')"
   ]
  },
  {
   "cell_type": "code",
   "execution_count": 172,
   "metadata": {},
   "outputs": [],
   "source": [
    "replacehb_dict= {\n",
    "    '%total Hb': '%',\n",
    "    '% total Hb': '%', \n",
    "    '%Total Hb': '%'\n",
    "    }"
   ]
  },
  {
   "cell_type": "code",
   "execution_count": 173,
   "metadata": {},
   "outputs": [],
   "source": [
    "new_hba1c['value3'] = new_hba1c ['value3'].replace(replacehb_dict)"
   ]
  },
  {
   "cell_type": "code",
   "execution_count": 174,
   "metadata": {},
   "outputs": [],
   "source": [
    "new_hba1c['event_type'] = new_hba1c.apply(lambda x: get_event_type(x['event_dt'], x['first_record_d']), axis=1)"
   ]
  },
  {
   "cell_type": "code",
   "execution_count": 175,
   "metadata": {},
   "outputs": [
    {
     "data": {
      "text/plain": [
       "array([nan, 'MEA001', 'MEA215', '%', 'Unknown', 'HbA1c', 'MEA000',\n",
       "       'mmol/mol', 'mol/l', 'MEA097'], dtype=object)"
      ]
     },
     "execution_count": 175,
     "metadata": {},
     "output_type": "execute_result"
    }
   ],
   "source": [
    "new_hba1c['value3'].unique()"
   ]
  },
  {
   "cell_type": "code",
   "execution_count": 176,
   "metadata": {},
   "outputs": [],
   "source": [
    "def get_hba1c_value3type(value3):\n",
    "    value3 = str(value3)\n",
    "    if 'MEA' in value3:\n",
    "        return 'MEA'\n",
    "    elif value3 in ['nan', 'Unknown']:\n",
    "        return 'Unknown'\n",
    "    elif value3 in ['mmol/L', 'mmol/l']:\n",
    "        return 'mmol/L'\n",
    "    else:\n",
    "        return value3\n",
    "new_hba1c['value3_'] = new_hba1c['value3'].map(get_hba1c_value3type)"
   ]
  },
  {
   "cell_type": "code",
   "execution_count": 177,
   "metadata": {},
   "outputs": [
    {
     "data": {
      "text/plain": [
       "array(['Unknown', 'MEA', '%', 'HbA1c', 'mmol/mol', 'mol/l'], dtype=object)"
      ]
     },
     "execution_count": 177,
     "metadata": {},
     "output_type": "execute_result"
    }
   ],
   "source": [
    "new_hba1c['value3_'].unique()"
   ]
  },
  {
   "cell_type": "code",
   "execution_count": 178,
   "metadata": {
    "tags": []
   },
   "outputs": [
    {
     "data": {
      "text/plain": [
       "value3_   event_type      \n",
       "%         after_>14,<=180       6\n",
       "          after_>180          114\n",
       "          before_>14,<=180      3\n",
       "          before_>180          48\n",
       "HbA1c     after_>180            5\n",
       "          before_>180           4\n",
       "MEA       after_>14,<=180       1\n",
       "          after_>180           50\n",
       "          before_<=14           1\n",
       "          before_>14,<=180      2\n",
       "          before_>180           8\n",
       "Unknown   after_<=14            2\n",
       "          after_>14,<=180      27\n",
       "          after_>180          725\n",
       "          before_<=14           1\n",
       "          before_>14,<=180     23\n",
       "          before_>180         259\n",
       "mmol/mol  after_>180            1\n",
       "mol/l     after_>180            1\n",
       "Name: eid, dtype: int64"
      ]
     },
     "execution_count": 178,
     "metadata": {},
     "output_type": "execute_result"
    }
   ],
   "source": [
    "new_hba1c.groupby(['value3_', 'event_type'])['eid'].count()"
   ]
  },
  {
   "cell_type": "code",
   "execution_count": 179,
   "metadata": {},
   "outputs": [
    {
     "data": {
      "text/plain": [
       "value3_   event_type      \n",
       "%         after_>14,<=180       5\n",
       "          after_>180           38\n",
       "          before_>14,<=180      2\n",
       "          before_>180          12\n",
       "HbA1c     after_>180            4\n",
       "          before_>180           1\n",
       "MEA       after_>14,<=180       1\n",
       "          after_>180           18\n",
       "          before_<=14           1\n",
       "          before_>14,<=180      1\n",
       "          before_>180           6\n",
       "Unknown   after_<=14            2\n",
       "          after_>14,<=180      20\n",
       "          after_>180          142\n",
       "          before_<=14           1\n",
       "          before_>14,<=180     19\n",
       "          before_>180          59\n",
       "mmol/mol  after_>180            1\n",
       "mol/l     after_>180            1\n",
       "Name: eid, dtype: int64"
      ]
     },
     "execution_count": 179,
     "metadata": {},
     "output_type": "execute_result"
    }
   ],
   "source": [
    "new_hba1c.groupby(['value3_', 'event_type'])['eid'].nunique()"
   ]
  },
  {
   "cell_type": "markdown",
   "metadata": {},
   "source": [
    "### Secondary"
   ]
  },
  {
   "cell_type": "code",
   "execution_count": 180,
   "metadata": {
    "tags": []
   },
   "outputs": [
    {
     "name": "stderr",
     "output_type": "stream",
     "text": [
      "/Users/michelleng/opt/anaconda3/lib/python3.7/site-packages/ipykernel_launcher.py:4: SettingWithCopyWarning: \n",
      "A value is trying to be set on a copy of a slice from a DataFrame\n",
      "\n",
      "See the caveats in the documentation: https://pandas.pydata.org/pandas-docs/stable/user_guide/indexing.html#returning-a-view-versus-a-copy\n",
      "  after removing the cwd from sys.path.\n",
      "/Users/michelleng/opt/anaconda3/lib/python3.7/site-packages/ipykernel_launcher.py:5: SettingWithCopyWarning: \n",
      "A value is trying to be set on a copy of a slice from a DataFrame\n",
      "\n",
      "See the caveats in the documentation: https://pandas.pydata.org/pandas-docs/stable/user_guide/indexing.html#returning-a-view-versus-a-copy\n",
      "  \"\"\"\n"
     ]
    }
   ],
   "source": [
    "hba1c1 = sec[['eid', 'hba1c1', 'hba1c1date']]\n",
    "hba1c2 = sec[['eid', 'hba1c2', 'hba1c2date']]\n",
    "\n",
    "hba1c1.dropna(axis = 0, inplace = True)\n",
    "hba1c2.dropna(axis = 0, inplace = True)"
   ]
  },
  {
   "cell_type": "code",
   "execution_count": 181,
   "metadata": {
    "tags": []
   },
   "outputs": [
    {
     "name": "stderr",
     "output_type": "stream",
     "text": [
      "/Users/michelleng/opt/anaconda3/lib/python3.7/site-packages/ipykernel_launcher.py:1: SettingWithCopyWarning: \n",
      "A value is trying to be set on a copy of a slice from a DataFrame.\n",
      "Try using .loc[row_indexer,col_indexer] = value instead\n",
      "\n",
      "See the caveats in the documentation: https://pandas.pydata.org/pandas-docs/stable/user_guide/indexing.html#returning-a-view-versus-a-copy\n",
      "  \"\"\"Entry point for launching an IPython kernel.\n",
      "/Users/michelleng/opt/anaconda3/lib/python3.7/site-packages/ipykernel_launcher.py:2: SettingWithCopyWarning: \n",
      "A value is trying to be set on a copy of a slice from a DataFrame.\n",
      "Try using .loc[row_indexer,col_indexer] = value instead\n",
      "\n",
      "See the caveats in the documentation: https://pandas.pydata.org/pandas-docs/stable/user_guide/indexing.html#returning-a-view-versus-a-copy\n",
      "  \n"
     ]
    }
   ],
   "source": [
    "hba1c1['hba1c1'] = ((hba1c1['hba1c1']/10.929) + 2.15)\n",
    "hba1c2['hba1c2'] = ((hba1c2['hba1c2']/10.929) + 2.15)"
   ]
  },
  {
   "cell_type": "code",
   "execution_count": 182,
   "metadata": {
    "tags": []
   },
   "outputs": [
    {
     "name": "stderr",
     "output_type": "stream",
     "text": [
      "/Users/michelleng/opt/anaconda3/lib/python3.7/site-packages/ipykernel_launcher.py:1: SettingWithCopyWarning: \n",
      "A value is trying to be set on a copy of a slice from a DataFrame.\n",
      "Try using .loc[row_indexer,col_indexer] = value instead\n",
      "\n",
      "See the caveats in the documentation: https://pandas.pydata.org/pandas-docs/stable/user_guide/indexing.html#returning-a-view-versus-a-copy\n",
      "  \"\"\"Entry point for launching an IPython kernel.\n",
      "/Users/michelleng/opt/anaconda3/lib/python3.7/site-packages/ipykernel_launcher.py:2: SettingWithCopyWarning: \n",
      "A value is trying to be set on a copy of a slice from a DataFrame.\n",
      "Try using .loc[row_indexer,col_indexer] = value instead\n",
      "\n",
      "See the caveats in the documentation: https://pandas.pydata.org/pandas-docs/stable/user_guide/indexing.html#returning-a-view-versus-a-copy\n",
      "  \n"
     ]
    }
   ],
   "source": [
    "hba1c1['hba1c1date'] = pd.to_datetime(hba1c1['hba1c1date'])\n",
    "hba1c2['hba1c2date'] = pd.to_datetime(hba1c2['hba1c2date'])"
   ]
  },
  {
   "cell_type": "code",
   "execution_count": 183,
   "metadata": {},
   "outputs": [],
   "source": [
    "hba1c1.columns = ['eid', 'hba1c', 'date']\n",
    "hba1c2.columns = ['eid', 'hba1c', 'date']"
   ]
  },
  {
   "cell_type": "code",
   "execution_count": 184,
   "metadata": {},
   "outputs": [],
   "source": [
    "hba1c1 = hba1c1.append(hba1c2)"
   ]
  },
  {
   "cell_type": "code",
   "execution_count": 185,
   "metadata": {},
   "outputs": [],
   "source": [
    "hba1c_sec = pd.merge(hba1c1, first_event, on = 'eid', how = 'left')"
   ]
  },
  {
   "cell_type": "code",
   "execution_count": 186,
   "metadata": {},
   "outputs": [],
   "source": [
    "hba1c_sec['event_type'] = hba1c_sec.apply(lambda x: get_event_type(x['date'], x['first_record_d']), axis=1)"
   ]
  },
  {
   "cell_type": "code",
   "execution_count": 187,
   "metadata": {},
   "outputs": [
    {
     "data": {
      "text/plain": [
       "event_type\n",
       "after_<=14             4\n",
       "after_>14,<=180       44\n",
       "after_>180          5104\n",
       "before_<=14            1\n",
       "before_>14,<=180       9\n",
       "before_>180           10\n",
       "Name: eid, dtype: int64"
      ]
     },
     "execution_count": 187,
     "metadata": {},
     "output_type": "execute_result"
    }
   ],
   "source": [
    "hba1c_sec.groupby(['event_type'])['eid'].count()"
   ]
  },
  {
   "cell_type": "code",
   "execution_count": 188,
   "metadata": {},
   "outputs": [
    {
     "data": {
      "text/plain": [
       "event_type\n",
       "after_<=14             4\n",
       "after_>14,<=180       44\n",
       "after_>180          5007\n",
       "before_<=14            1\n",
       "before_>14,<=180       9\n",
       "before_>180           10\n",
       "Name: eid, dtype: int64"
      ]
     },
     "execution_count": 188,
     "metadata": {},
     "output_type": "execute_result"
    }
   ],
   "source": [
    "hba1c_sec.groupby(['event_type'])['eid'].nunique()"
   ]
  },
  {
   "cell_type": "code",
   "execution_count": null,
   "metadata": {},
   "outputs": [],
   "source": []
  },
  {
   "cell_type": "code",
   "execution_count": null,
   "metadata": {},
   "outputs": [],
   "source": []
  },
  {
   "cell_type": "code",
   "execution_count": null,
   "metadata": {},
   "outputs": [],
   "source": []
  },
  {
   "cell_type": "code",
   "execution_count": null,
   "metadata": {},
   "outputs": [],
   "source": []
  }
 ],
 "metadata": {
  "kernelspec": {
   "display_name": "Python 3",
   "language": "python",
   "name": "python3"
  },
  "language_info": {
   "codemirror_mode": {
    "name": "ipython",
    "version": 3
   },
   "file_extension": ".py",
   "mimetype": "text/x-python",
   "name": "python",
   "nbconvert_exporter": "python",
   "pygments_lexer": "ipython3",
   "version": "3.7.6"
  },
  "toc": {
   "base_numbering": 1,
   "nav_menu": {},
   "number_sections": true,
   "sideBar": false,
   "skip_h1_title": false,
   "title_cell": "Table of Contents",
   "title_sidebar": "Contents",
   "toc_cell": false,
   "toc_position": {},
   "toc_section_display": true,
   "toc_window_display": false
  }
 },
 "nbformat": 4,
 "nbformat_minor": 4
}
