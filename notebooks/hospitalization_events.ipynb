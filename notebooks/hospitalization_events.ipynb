{
 "cells": [
  {
   "cell_type": "code",
   "execution_count": 1,
   "metadata": {},
   "outputs": [
    {
     "output_type": "stream",
     "name": "stdout",
     "text": "['/Users/michelleng/Documents/Biobank/notebooks', '/private/var/folders/fl/2_tlvd8d3_z8t_8xgf3k_qvr0000gn/T/c90bcadc-c741-4580-89e8-c08127d12845', '/Users/michelleng/.vscode/extensions/ms-python.python-2020.5.78807/pythonFiles', '/Users/michelleng/.vscode/extensions/ms-python.python-2020.5.78807/pythonFiles/lib/python', '/Users/michelleng/opt/anaconda3/lib/python37.zip', '/Users/michelleng/opt/anaconda3/lib/python3.7', '/Users/michelleng/opt/anaconda3/lib/python3.7/lib-dynload', '', '/Users/michelleng/opt/anaconda3/lib/python3.7/site-packages', '/Users/michelleng/opt/anaconda3/lib/python3.7/site-packages/aeosa', '/Users/michelleng/opt/anaconda3/lib/python3.7/site-packages/IPython/extensions', '/Users/michelleng/.ipython']\n"
    }
   ],
   "source": [
    "import sys\n",
    "print(sys.path)"
   ]
  },
  {
   "cell_type": "markdown",
   "metadata": {},
   "source": [
    "# Hospitalisation events\n",
    "\n",
    "# Packages"
   ]
  },
  {
   "cell_type": "code",
   "execution_count": 65,
   "metadata": {},
   "outputs": [],
   "source": [
    "import pandas as pd \n",
    "import numpy as np \n",
    "import scipy.stats as stats\n",
    "import seaborn as sns\n",
    "import matplotlib.pyplot as plt\n",
    "from datetime import datetime\n",
    "import pickle\n",
    "%matplotlib inline"
   ]
  },
  {
   "cell_type": "markdown",
   "metadata": {},
   "source": [
    "# Dataset"
   ]
  },
  {
   "cell_type": "code",
   "execution_count": 17,
   "metadata": {},
   "outputs": [],
   "source": [
    "opcs3 = [0,] + list(range(7369,7395))"
   ]
  },
  {
   "cell_type": "code",
   "execution_count": 18,
   "metadata": {},
   "outputs": [],
   "source": [
    "opcs4 = [0,] + list(range(6622, 6671)) + list(range(7401, 7449))"
   ]
  },
  {
   "cell_type": "code",
   "execution_count": 19,
   "metadata": {},
   "outputs": [],
   "source": [
    "death = [0,  6579, 6580, 6581, 6582]"
   ]
  },
  {
   "cell_type": "code",
   "execution_count": 20,
   "metadata": {},
   "outputs": [],
   "source": [
    "# secondary care\n",
    "opcs3_df = pd.read_csv('../primary_care/ukb41199.csv', usecols = opcs3)"
   ]
  },
  {
   "cell_type": "code",
   "execution_count": 21,
   "metadata": {},
   "outputs": [],
   "source": [
    "opcs4_df = pd.read_csv('../primary_care/ukb41199.csv', usecols = opcs4)"
   ]
  },
  {
   "cell_type": "code",
   "execution_count": 22,
   "metadata": {},
   "outputs": [],
   "source": [
    "death_df = pd.read_csv('../primary_care/ukb41199.csv', usecols = death)"
   ]
  },
  {
   "cell_type": "code",
   "execution_count": 23,
   "metadata": {},
   "outputs": [],
   "source": [
    "#primary care\n",
    "pri_cli = pd.read_csv('../primary_care/gp_clinical.txt', sep = '\\t', encoding='ISO-8859-1')"
   ]
  },
  {
   "cell_type": "code",
   "execution_count": 24,
   "metadata": {},
   "outputs": [],
   "source": [
    "#admission code (pri)\n",
    "adm_codes = pd.read_excel('../primary_care/admission.xlsx', sheet_name = \"admission\")"
   ]
  },
  {
   "cell_type": "code",
   "execution_count": 25,
   "metadata": {},
   "outputs": [],
   "source": [
    "#death code (death)\n",
    "death_codes = pd.read_excel('../primary_care/admission.xlsx', sheet_name = \"death\")"
   ]
  },
  {
   "cell_type": "code",
   "execution_count": 56,
   "metadata": {},
   "outputs": [],
   "source": [
    "opcs3_code = pd.read_csv('../primary_care/opcs3.tsv', sep = '\\t')"
   ]
  },
  {
   "cell_type": "markdown",
   "metadata": {},
   "source": [
    "# Event coding"
   ]
  },
  {
   "cell_type": "code",
   "execution_count": 26,
   "metadata": {},
   "outputs": [],
   "source": [
    "event = {\n",
    "    'hospitalAdm' : {\n",
    "        'read2': list(adm_codes[adm_codes['Condition']== 'Related Admission']['READV2_CODE']),\n",
    "        'read3': list(adm_codes[adm_codes['Condition']== 'Related Admission']['READV3_CODE'])\n",
    "    },\n",
    "    'death' : {\n",
    "        'read2': list(death_codes['READV2_CODE'].values),\n",
    "        'read3': list(death_codes['READV3_CODE'].values)\n",
    "    }, \n",
    "    'all' : {\n",
    "        'read2': (list(adm_codes[adm_codes['Condition']== 'Related Admission']['READV2_CODE'])+list(death_codes['READV2_CODE'].values)),\n",
    "        'read3': (list(adm_codes[adm_codes['Condition']== 'Related Admission']['READV3_CODE'])+list(death_codes['READV3_CODE'].values))\n",
    "    }\n",
    "}"
   ]
  },
  {
   "cell_type": "code",
   "execution_count": 74,
   "metadata": {},
   "outputs": [],
   "source": [
    "#isolating codes from primary care\n",
    "hospitalised = pri_cli[pri_cli['read_2'].isin(event['hospitalAdm']['read2'])| pri_cli['read_3'].isin(event['hospitalAdm']['read3'])]"
   ]
  },
  {
   "cell_type": "code",
   "execution_count": 30,
   "metadata": {},
   "outputs": [
    {
     "output_type": "execute_result",
     "data": {
      "text/plain": "Index(['eid', '41256-0.0', '41256-0.1', '41256-0.2', '41256-0.3', '41256-0.4',\n       '41256-0.5', '41256-0.6', '41256-0.7', '41256-0.8', '41256-0.9',\n       '41256-0.10', '41256-0.11', '41256-0.12', '41257-0.0', '41257-0.1',\n       '41257-0.2', '41257-0.3', '41257-0.4', '41257-0.5', '41257-0.6',\n       '41257-0.7', '41257-0.8', '41257-0.9', '41257-0.10', '41257-0.11',\n       '41257-0.12'],\n      dtype='object')"
     },
     "metadata": {},
     "execution_count": 30
    }
   ],
   "source": [
    "opcs3_col = list(opcs3_df.columns)\n",
    "opcs3_df.columns"
   ]
  },
  {
   "cell_type": "code",
   "execution_count": 32,
   "metadata": {},
   "outputs": [],
   "source": [
    "opcs3_col = [x.replace('41256', 'opcs3') for x in opcs3_col]"
   ]
  },
  {
   "cell_type": "code",
   "execution_count": 34,
   "metadata": {},
   "outputs": [],
   "source": [
    "opcs3_col = [x.replace('41257', 'opcs3date') for x in opcs3_col]"
   ]
  },
  {
   "cell_type": "code",
   "execution_count": 36,
   "metadata": {},
   "outputs": [],
   "source": [
    "opcs3_df.columns = opcs3_col"
   ]
  },
  {
   "cell_type": "code",
   "execution_count": 37,
   "metadata": {},
   "outputs": [],
   "source": [
    "opcs4_col = list(opcs4_df.columns)"
   ]
  },
  {
   "cell_type": "code",
   "execution_count": 40,
   "metadata": {},
   "outputs": [],
   "source": [
    "opcs4_col = [x.replace('41200', 'opcs4') for x in opcs4_col]"
   ]
  },
  {
   "cell_type": "code",
   "execution_count": 41,
   "metadata": {},
   "outputs": [],
   "source": [
    "opcs4_col = [x.replace('41260', 'opcs4date') for x in opcs4_col]"
   ]
  },
  {
   "cell_type": "code",
   "execution_count": 42,
   "metadata": {},
   "outputs": [],
   "source": [
    "opcs4_df.columns = opcs4_col"
   ]
  },
  {
   "cell_type": "code",
   "execution_count": 46,
   "metadata": {},
   "outputs": [],
   "source": [
    "death_df.columns = ['eid', 'dod-0', 'dod-1', 'causedeath-0', 'causedeath-1']"
   ]
  },
  {
   "cell_type": "code",
   "execution_count": 52,
   "metadata": {},
   "outputs": [
    {
     "output_type": "execute_result",
     "data": {
      "text/plain": "            eid opcs4-0.0 opcs4date-0.0\n0       1000019       NaN           NaN\n1       1000022      G451    2013-12-28\n2       1000035      C792    2014-12-09\n3       1000046      Q075    1997-09-01\n4       1000054      H513    2014-02-25\n...         ...       ...           ...\n502500  6025018      F094    1997-04-15\n502501  6025023      D135    2014-05-28\n502502  6025031      H206    2011-03-24\n502503  6025040      G437    2007-11-20\n502504  6025057      F021    2009-06-04\n\n[502505 rows x 3 columns]",
      "text/html": "<div>\n<style scoped>\n    .dataframe tbody tr th:only-of-type {\n        vertical-align: middle;\n    }\n\n    .dataframe tbody tr th {\n        vertical-align: top;\n    }\n\n    .dataframe thead th {\n        text-align: right;\n    }\n</style>\n<table border=\"1\" class=\"dataframe\">\n  <thead>\n    <tr style=\"text-align: right;\">\n      <th></th>\n      <th>eid</th>\n      <th>opcs4-0.0</th>\n      <th>opcs4date-0.0</th>\n    </tr>\n  </thead>\n  <tbody>\n    <tr>\n      <th>0</th>\n      <td>1000019</td>\n      <td>NaN</td>\n      <td>NaN</td>\n    </tr>\n    <tr>\n      <th>1</th>\n      <td>1000022</td>\n      <td>G451</td>\n      <td>2013-12-28</td>\n    </tr>\n    <tr>\n      <th>2</th>\n      <td>1000035</td>\n      <td>C792</td>\n      <td>2014-12-09</td>\n    </tr>\n    <tr>\n      <th>3</th>\n      <td>1000046</td>\n      <td>Q075</td>\n      <td>1997-09-01</td>\n    </tr>\n    <tr>\n      <th>4</th>\n      <td>1000054</td>\n      <td>H513</td>\n      <td>2014-02-25</td>\n    </tr>\n    <tr>\n      <th>...</th>\n      <td>...</td>\n      <td>...</td>\n      <td>...</td>\n    </tr>\n    <tr>\n      <th>502500</th>\n      <td>6025018</td>\n      <td>F094</td>\n      <td>1997-04-15</td>\n    </tr>\n    <tr>\n      <th>502501</th>\n      <td>6025023</td>\n      <td>D135</td>\n      <td>2014-05-28</td>\n    </tr>\n    <tr>\n      <th>502502</th>\n      <td>6025031</td>\n      <td>H206</td>\n      <td>2011-03-24</td>\n    </tr>\n    <tr>\n      <th>502503</th>\n      <td>6025040</td>\n      <td>G437</td>\n      <td>2007-11-20</td>\n    </tr>\n    <tr>\n      <th>502504</th>\n      <td>6025057</td>\n      <td>F021</td>\n      <td>2009-06-04</td>\n    </tr>\n  </tbody>\n</table>\n<p>502505 rows × 3 columns</p>\n</div>"
     },
     "metadata": {},
     "execution_count": 52
    }
   ],
   "source": [
    "opcs4_df[['eid', 'opcs4-0.0', 'opcs4date-0.0']]"
   ]
  },
  {
   "cell_type": "code",
   "execution_count": 55,
   "metadata": {},
   "outputs": [
    {
     "output_type": "execute_result",
     "data": {
      "text/plain": "               eid  data_provider    event_dt read_2 read_3 value1 value2  \\\n10522      1000421              3  18/08/2008    NaN  8H21.    NaN    NaN   \n14747      1000568              3  30/11/2009    NaN  8H2..    NaN    NaN   \n14773      1000568              3  19/05/2010    NaN  8H2..    NaN    NaN   \n23822      1000713              3  29/04/2015    NaN  8H2..    NaN    NaN   \n27427      1000965              3  14/03/2004    NaN  8H2..    NaN    NaN   \n...            ...            ...         ...    ...    ...    ...    ...   \n123600594  6022686              3  19/12/2010    NaN  8H2..    NaN    NaN   \n123602329  6022784              3  23/11/2004    NaN  8H2..    NaN    NaN   \n123603077  6022795              2  10/01/2015  8H2..    NaN    NaN    NaN   \n123606749  6022972              3  22/07/2014    NaN  XM01Y    NaN    NaN   \n123610603  6023164              3  26/01/2007    NaN  8H2..    NaN    NaN   \n\n          value3  \n10522        NaN  \n14747        NaN  \n14773        NaN  \n23822        NaN  \n27427        NaN  \n...          ...  \n123600594    NaN  \n123602329    NaN  \n123603077    NaN  \n123606749    NaN  \n123610603    NaN  \n\n[32250 rows x 8 columns]",
      "text/html": "<div>\n<style scoped>\n    .dataframe tbody tr th:only-of-type {\n        vertical-align: middle;\n    }\n\n    .dataframe tbody tr th {\n        vertical-align: top;\n    }\n\n    .dataframe thead th {\n        text-align: right;\n    }\n</style>\n<table border=\"1\" class=\"dataframe\">\n  <thead>\n    <tr style=\"text-align: right;\">\n      <th></th>\n      <th>eid</th>\n      <th>data_provider</th>\n      <th>event_dt</th>\n      <th>read_2</th>\n      <th>read_3</th>\n      <th>value1</th>\n      <th>value2</th>\n      <th>value3</th>\n    </tr>\n  </thead>\n  <tbody>\n    <tr>\n      <th>10522</th>\n      <td>1000421</td>\n      <td>3</td>\n      <td>18/08/2008</td>\n      <td>NaN</td>\n      <td>8H21.</td>\n      <td>NaN</td>\n      <td>NaN</td>\n      <td>NaN</td>\n    </tr>\n    <tr>\n      <th>14747</th>\n      <td>1000568</td>\n      <td>3</td>\n      <td>30/11/2009</td>\n      <td>NaN</td>\n      <td>8H2..</td>\n      <td>NaN</td>\n      <td>NaN</td>\n      <td>NaN</td>\n    </tr>\n    <tr>\n      <th>14773</th>\n      <td>1000568</td>\n      <td>3</td>\n      <td>19/05/2010</td>\n      <td>NaN</td>\n      <td>8H2..</td>\n      <td>NaN</td>\n      <td>NaN</td>\n      <td>NaN</td>\n    </tr>\n    <tr>\n      <th>23822</th>\n      <td>1000713</td>\n      <td>3</td>\n      <td>29/04/2015</td>\n      <td>NaN</td>\n      <td>8H2..</td>\n      <td>NaN</td>\n      <td>NaN</td>\n      <td>NaN</td>\n    </tr>\n    <tr>\n      <th>27427</th>\n      <td>1000965</td>\n      <td>3</td>\n      <td>14/03/2004</td>\n      <td>NaN</td>\n      <td>8H2..</td>\n      <td>NaN</td>\n      <td>NaN</td>\n      <td>NaN</td>\n    </tr>\n    <tr>\n      <th>...</th>\n      <td>...</td>\n      <td>...</td>\n      <td>...</td>\n      <td>...</td>\n      <td>...</td>\n      <td>...</td>\n      <td>...</td>\n      <td>...</td>\n    </tr>\n    <tr>\n      <th>123600594</th>\n      <td>6022686</td>\n      <td>3</td>\n      <td>19/12/2010</td>\n      <td>NaN</td>\n      <td>8H2..</td>\n      <td>NaN</td>\n      <td>NaN</td>\n      <td>NaN</td>\n    </tr>\n    <tr>\n      <th>123602329</th>\n      <td>6022784</td>\n      <td>3</td>\n      <td>23/11/2004</td>\n      <td>NaN</td>\n      <td>8H2..</td>\n      <td>NaN</td>\n      <td>NaN</td>\n      <td>NaN</td>\n    </tr>\n    <tr>\n      <th>123603077</th>\n      <td>6022795</td>\n      <td>2</td>\n      <td>10/01/2015</td>\n      <td>8H2..</td>\n      <td>NaN</td>\n      <td>NaN</td>\n      <td>NaN</td>\n      <td>NaN</td>\n    </tr>\n    <tr>\n      <th>123606749</th>\n      <td>6022972</td>\n      <td>3</td>\n      <td>22/07/2014</td>\n      <td>NaN</td>\n      <td>XM01Y</td>\n      <td>NaN</td>\n      <td>NaN</td>\n      <td>NaN</td>\n    </tr>\n    <tr>\n      <th>123610603</th>\n      <td>6023164</td>\n      <td>3</td>\n      <td>26/01/2007</td>\n      <td>NaN</td>\n      <td>8H2..</td>\n      <td>NaN</td>\n      <td>NaN</td>\n      <td>NaN</td>\n    </tr>\n  </tbody>\n</table>\n<p>32250 rows × 8 columns</p>\n</div>"
     },
     "metadata": {},
     "execution_count": 55
    }
   ],
   "source": [
    "hospitalised"
   ]
  },
  {
   "cell_type": "code",
   "execution_count": 64,
   "metadata": {},
   "outputs": [
    {
     "output_type": "execute_result",
     "data": {
      "text/plain": "            coding                                            meaning  \\\n1852           969                 969 Other non-operative procedures   \n1853          9691  969.1 Other non-operative procedures : hypotherma   \n1854          9693  969.3 Other non-operative procedures : oxygen ...   \n1855          9694  969.4 Other non-operative procedures : electro...   \n1856          9695  969.5 Other non-operative procedures : other s...   \n1857          9696  969.6 Other non-operative procedures : oral ox...   \n1858           970                              970 Local application   \n1859           971                                971 Local injection   \n1860           972                       972 Nerve block, anaesthetic   \n1861           973                             973 Spinal anaesthesia   \n1862          9731            973.1 Spinal anaesthesia : cauda equine   \n1863          9732         973.2 Spinal anaesthesia : epidural lumbar   \n1864           974           974 Inhalation, not elsewhere classified   \n1865          9745  974.5 Inhalation, not elsewhere classified : i...   \n1866          9746  974.6 Inhalation, not elsewhere classified : i...   \n1867           977                        977 Intravenous anaesthesia   \n1868           979          979 Anaesthesia, not elsewhere classified   \n1869           980                               980 Thyroid scanning   \n1870           981                              981 Cerebral scanning   \n1871           986                    986 Other radio-active scanning   \n1872           987                   987 Other radiographic injection   \n1873           988  988 Other radiographic techniques, not elsewhe...   \n1874           989                    989 Other diagnostic techniques   \n1875          9891  989.1 Other diagnostic techniques: ultrasonic ...   \n1876          9892    989.2 Other diagnostic techniques: thermography   \n1877           990                            990 Surface application   \n1878           991                        991 Superficial irradiation   \n1879           992                       992 High voltage irradiation   \n1880           993                      993 Super-voltage irradiation   \n1881           994                              994 Tele-radiotherapy   \n1882          9941  994.1 Tele-radiotherapy : particle irradiation...   \n1883           996                     996 Removable surgical implant   \n1884           997                 997 Non-removable surgical implant   \n1885           998            998 Radio-active injection or ingestion   \n1886           999                       999 Unspecified radiotherapy   \n1887     Chapter I               Chapter I - Nervous system (001-050)   \n1888    Chapter II            Chapter II - Endocrine glands (060-080)   \n1889   Chapter III                        Chapter III - Eye (100-180)   \n1890    Chapter IV        Chapter IV - Ear, nose and throat (190-240)   \n1891    Chapter IX      Chapter IX - Other abdominal organs (500-550)   \n1892     Chapter V       Chapter V - Upper alimentary tract (250-280)   \n1893    Chapter VI                      Chapter VI - Thorax (290-340)   \n1894   Chapter VII                     Chapter VII - Breast (380-380)   \n1895  Chapter VIII                   Chapter VIII - Abdomen (400-490)   \n1896     Chapter X  Chapter X - Urinary and male genital organs (5...   \n1897    Chapter XI       Chapter XI - Female genital organs (670-730)   \n1898   Chapter XII                 Chapter XII - Obstetrics (740-770)   \n1899  Chapter XIII               Chapter XIII - Orthopaedic (780-870)   \n1900   Chapter XIV  Chapter XIV - Peripheral vessels, skin and sub...   \n1901    Chapter XV   Chapter XV - Other surgical procedures (941-990)   \n\n      node_id  parent_id selectable  \n1852     1869         15          Y  \n1853     1870         15          Y  \n1854     1871         15          Y  \n1855     1872         15          Y  \n1856     1873         15          Y  \n1857     1874         15          Y  \n1858     1875         15          Y  \n1859     1876         15          Y  \n1860     1877         15          Y  \n1861     1878         15          Y  \n1862     1879         15          Y  \n1863     1880         15          Y  \n1864     1881         15          Y  \n1865     1882         15          Y  \n1866     1883         15          Y  \n1867     1884         15          Y  \n1868     1885         15          Y  \n1869     1886         15          Y  \n1870     1887         15          Y  \n1871     1888         15          Y  \n1872     1889         15          Y  \n1873     1890         15          Y  \n1874     1891         15          Y  \n1875     1892         15          Y  \n1876     1893         15          Y  \n1877     1894         15          Y  \n1878     1895         15          Y  \n1879     1896         15          Y  \n1880     1897         15          Y  \n1881     1898         15          Y  \n1882     1899         15          Y  \n1883     1900         15          Y  \n1884     1901         15          Y  \n1885     1902         15          Y  \n1886     1903         15          Y  \n1887        1          0          N  \n1888        2          0          N  \n1889        3          0          N  \n1890        4          0          N  \n1891        9          0          N  \n1892        5          0          N  \n1893        6          0          N  \n1894        7          0          N  \n1895        8          0          N  \n1896       10          0          N  \n1897       11          0          N  \n1898       12          0          N  \n1899       13          0          N  \n1900       14          0          N  \n1901       15          0          N  ",
      "text/html": "<div>\n<style scoped>\n    .dataframe tbody tr th:only-of-type {\n        vertical-align: middle;\n    }\n\n    .dataframe tbody tr th {\n        vertical-align: top;\n    }\n\n    .dataframe thead th {\n        text-align: right;\n    }\n</style>\n<table border=\"1\" class=\"dataframe\">\n  <thead>\n    <tr style=\"text-align: right;\">\n      <th></th>\n      <th>coding</th>\n      <th>meaning</th>\n      <th>node_id</th>\n      <th>parent_id</th>\n      <th>selectable</th>\n    </tr>\n  </thead>\n  <tbody>\n    <tr>\n      <th>1852</th>\n      <td>969</td>\n      <td>969 Other non-operative procedures</td>\n      <td>1869</td>\n      <td>15</td>\n      <td>Y</td>\n    </tr>\n    <tr>\n      <th>1853</th>\n      <td>9691</td>\n      <td>969.1 Other non-operative procedures : hypotherma</td>\n      <td>1870</td>\n      <td>15</td>\n      <td>Y</td>\n    </tr>\n    <tr>\n      <th>1854</th>\n      <td>9693</td>\n      <td>969.3 Other non-operative procedures : oxygen ...</td>\n      <td>1871</td>\n      <td>15</td>\n      <td>Y</td>\n    </tr>\n    <tr>\n      <th>1855</th>\n      <td>9694</td>\n      <td>969.4 Other non-operative procedures : electro...</td>\n      <td>1872</td>\n      <td>15</td>\n      <td>Y</td>\n    </tr>\n    <tr>\n      <th>1856</th>\n      <td>9695</td>\n      <td>969.5 Other non-operative procedures : other s...</td>\n      <td>1873</td>\n      <td>15</td>\n      <td>Y</td>\n    </tr>\n    <tr>\n      <th>1857</th>\n      <td>9696</td>\n      <td>969.6 Other non-operative procedures : oral ox...</td>\n      <td>1874</td>\n      <td>15</td>\n      <td>Y</td>\n    </tr>\n    <tr>\n      <th>1858</th>\n      <td>970</td>\n      <td>970 Local application</td>\n      <td>1875</td>\n      <td>15</td>\n      <td>Y</td>\n    </tr>\n    <tr>\n      <th>1859</th>\n      <td>971</td>\n      <td>971 Local injection</td>\n      <td>1876</td>\n      <td>15</td>\n      <td>Y</td>\n    </tr>\n    <tr>\n      <th>1860</th>\n      <td>972</td>\n      <td>972 Nerve block, anaesthetic</td>\n      <td>1877</td>\n      <td>15</td>\n      <td>Y</td>\n    </tr>\n    <tr>\n      <th>1861</th>\n      <td>973</td>\n      <td>973 Spinal anaesthesia</td>\n      <td>1878</td>\n      <td>15</td>\n      <td>Y</td>\n    </tr>\n    <tr>\n      <th>1862</th>\n      <td>9731</td>\n      <td>973.1 Spinal anaesthesia : cauda equine</td>\n      <td>1879</td>\n      <td>15</td>\n      <td>Y</td>\n    </tr>\n    <tr>\n      <th>1863</th>\n      <td>9732</td>\n      <td>973.2 Spinal anaesthesia : epidural lumbar</td>\n      <td>1880</td>\n      <td>15</td>\n      <td>Y</td>\n    </tr>\n    <tr>\n      <th>1864</th>\n      <td>974</td>\n      <td>974 Inhalation, not elsewhere classified</td>\n      <td>1881</td>\n      <td>15</td>\n      <td>Y</td>\n    </tr>\n    <tr>\n      <th>1865</th>\n      <td>9745</td>\n      <td>974.5 Inhalation, not elsewhere classified : i...</td>\n      <td>1882</td>\n      <td>15</td>\n      <td>Y</td>\n    </tr>\n    <tr>\n      <th>1866</th>\n      <td>9746</td>\n      <td>974.6 Inhalation, not elsewhere classified : i...</td>\n      <td>1883</td>\n      <td>15</td>\n      <td>Y</td>\n    </tr>\n    <tr>\n      <th>1867</th>\n      <td>977</td>\n      <td>977 Intravenous anaesthesia</td>\n      <td>1884</td>\n      <td>15</td>\n      <td>Y</td>\n    </tr>\n    <tr>\n      <th>1868</th>\n      <td>979</td>\n      <td>979 Anaesthesia, not elsewhere classified</td>\n      <td>1885</td>\n      <td>15</td>\n      <td>Y</td>\n    </tr>\n    <tr>\n      <th>1869</th>\n      <td>980</td>\n      <td>980 Thyroid scanning</td>\n      <td>1886</td>\n      <td>15</td>\n      <td>Y</td>\n    </tr>\n    <tr>\n      <th>1870</th>\n      <td>981</td>\n      <td>981 Cerebral scanning</td>\n      <td>1887</td>\n      <td>15</td>\n      <td>Y</td>\n    </tr>\n    <tr>\n      <th>1871</th>\n      <td>986</td>\n      <td>986 Other radio-active scanning</td>\n      <td>1888</td>\n      <td>15</td>\n      <td>Y</td>\n    </tr>\n    <tr>\n      <th>1872</th>\n      <td>987</td>\n      <td>987 Other radiographic injection</td>\n      <td>1889</td>\n      <td>15</td>\n      <td>Y</td>\n    </tr>\n    <tr>\n      <th>1873</th>\n      <td>988</td>\n      <td>988 Other radiographic techniques, not elsewhe...</td>\n      <td>1890</td>\n      <td>15</td>\n      <td>Y</td>\n    </tr>\n    <tr>\n      <th>1874</th>\n      <td>989</td>\n      <td>989 Other diagnostic techniques</td>\n      <td>1891</td>\n      <td>15</td>\n      <td>Y</td>\n    </tr>\n    <tr>\n      <th>1875</th>\n      <td>9891</td>\n      <td>989.1 Other diagnostic techniques: ultrasonic ...</td>\n      <td>1892</td>\n      <td>15</td>\n      <td>Y</td>\n    </tr>\n    <tr>\n      <th>1876</th>\n      <td>9892</td>\n      <td>989.2 Other diagnostic techniques: thermography</td>\n      <td>1893</td>\n      <td>15</td>\n      <td>Y</td>\n    </tr>\n    <tr>\n      <th>1877</th>\n      <td>990</td>\n      <td>990 Surface application</td>\n      <td>1894</td>\n      <td>15</td>\n      <td>Y</td>\n    </tr>\n    <tr>\n      <th>1878</th>\n      <td>991</td>\n      <td>991 Superficial irradiation</td>\n      <td>1895</td>\n      <td>15</td>\n      <td>Y</td>\n    </tr>\n    <tr>\n      <th>1879</th>\n      <td>992</td>\n      <td>992 High voltage irradiation</td>\n      <td>1896</td>\n      <td>15</td>\n      <td>Y</td>\n    </tr>\n    <tr>\n      <th>1880</th>\n      <td>993</td>\n      <td>993 Super-voltage irradiation</td>\n      <td>1897</td>\n      <td>15</td>\n      <td>Y</td>\n    </tr>\n    <tr>\n      <th>1881</th>\n      <td>994</td>\n      <td>994 Tele-radiotherapy</td>\n      <td>1898</td>\n      <td>15</td>\n      <td>Y</td>\n    </tr>\n    <tr>\n      <th>1882</th>\n      <td>9941</td>\n      <td>994.1 Tele-radiotherapy : particle irradiation...</td>\n      <td>1899</td>\n      <td>15</td>\n      <td>Y</td>\n    </tr>\n    <tr>\n      <th>1883</th>\n      <td>996</td>\n      <td>996 Removable surgical implant</td>\n      <td>1900</td>\n      <td>15</td>\n      <td>Y</td>\n    </tr>\n    <tr>\n      <th>1884</th>\n      <td>997</td>\n      <td>997 Non-removable surgical implant</td>\n      <td>1901</td>\n      <td>15</td>\n      <td>Y</td>\n    </tr>\n    <tr>\n      <th>1885</th>\n      <td>998</td>\n      <td>998 Radio-active injection or ingestion</td>\n      <td>1902</td>\n      <td>15</td>\n      <td>Y</td>\n    </tr>\n    <tr>\n      <th>1886</th>\n      <td>999</td>\n      <td>999 Unspecified radiotherapy</td>\n      <td>1903</td>\n      <td>15</td>\n      <td>Y</td>\n    </tr>\n    <tr>\n      <th>1887</th>\n      <td>Chapter I</td>\n      <td>Chapter I - Nervous system (001-050)</td>\n      <td>1</td>\n      <td>0</td>\n      <td>N</td>\n    </tr>\n    <tr>\n      <th>1888</th>\n      <td>Chapter II</td>\n      <td>Chapter II - Endocrine glands (060-080)</td>\n      <td>2</td>\n      <td>0</td>\n      <td>N</td>\n    </tr>\n    <tr>\n      <th>1889</th>\n      <td>Chapter III</td>\n      <td>Chapter III - Eye (100-180)</td>\n      <td>3</td>\n      <td>0</td>\n      <td>N</td>\n    </tr>\n    <tr>\n      <th>1890</th>\n      <td>Chapter IV</td>\n      <td>Chapter IV - Ear, nose and throat (190-240)</td>\n      <td>4</td>\n      <td>0</td>\n      <td>N</td>\n    </tr>\n    <tr>\n      <th>1891</th>\n      <td>Chapter IX</td>\n      <td>Chapter IX - Other abdominal organs (500-550)</td>\n      <td>9</td>\n      <td>0</td>\n      <td>N</td>\n    </tr>\n    <tr>\n      <th>1892</th>\n      <td>Chapter V</td>\n      <td>Chapter V - Upper alimentary tract (250-280)</td>\n      <td>5</td>\n      <td>0</td>\n      <td>N</td>\n    </tr>\n    <tr>\n      <th>1893</th>\n      <td>Chapter VI</td>\n      <td>Chapter VI - Thorax (290-340)</td>\n      <td>6</td>\n      <td>0</td>\n      <td>N</td>\n    </tr>\n    <tr>\n      <th>1894</th>\n      <td>Chapter VII</td>\n      <td>Chapter VII - Breast (380-380)</td>\n      <td>7</td>\n      <td>0</td>\n      <td>N</td>\n    </tr>\n    <tr>\n      <th>1895</th>\n      <td>Chapter VIII</td>\n      <td>Chapter VIII - Abdomen (400-490)</td>\n      <td>8</td>\n      <td>0</td>\n      <td>N</td>\n    </tr>\n    <tr>\n      <th>1896</th>\n      <td>Chapter X</td>\n      <td>Chapter X - Urinary and male genital organs (5...</td>\n      <td>10</td>\n      <td>0</td>\n      <td>N</td>\n    </tr>\n    <tr>\n      <th>1897</th>\n      <td>Chapter XI</td>\n      <td>Chapter XI - Female genital organs (670-730)</td>\n      <td>11</td>\n      <td>0</td>\n      <td>N</td>\n    </tr>\n    <tr>\n      <th>1898</th>\n      <td>Chapter XII</td>\n      <td>Chapter XII - Obstetrics (740-770)</td>\n      <td>12</td>\n      <td>0</td>\n      <td>N</td>\n    </tr>\n    <tr>\n      <th>1899</th>\n      <td>Chapter XIII</td>\n      <td>Chapter XIII - Orthopaedic (780-870)</td>\n      <td>13</td>\n      <td>0</td>\n      <td>N</td>\n    </tr>\n    <tr>\n      <th>1900</th>\n      <td>Chapter XIV</td>\n      <td>Chapter XIV - Peripheral vessels, skin and sub...</td>\n      <td>14</td>\n      <td>0</td>\n      <td>N</td>\n    </tr>\n    <tr>\n      <th>1901</th>\n      <td>Chapter XV</td>\n      <td>Chapter XV - Other surgical procedures (941-990)</td>\n      <td>15</td>\n      <td>0</td>\n      <td>N</td>\n    </tr>\n  </tbody>\n</table>\n</div>"
     },
     "metadata": {},
     "execution_count": 64
    }
   ],
   "source": [
    "opcs3_code.tail(50)"
   ]
  },
  {
   "cell_type": "code",
   "execution_count": 62,
   "metadata": {},
   "outputs": [
    {
     "output_type": "execute_result",
     "data": {
      "text/plain": "array([      nan, 7.042e+03, 9.140e+02, 7.816e+03, 7.040e+02, 1.632e+03,\n       7.130e+02, 5.400e+02, 4.190e+02, 2.130e+02, 3.891e+03, 7.090e+02,\n       2.310e+02, 6.512e+03, 3.811e+03, 9.130e+02, 4.310e+02, 4.011e+03,\n       6.870e+02, 7.051e+03, 6.961e+03, 3.870e+02, 2.201e+03, 1.931e+03,\n       5.641e+03, 6.330e+02, 8.931e+03, 8.480e+02, 9.120e+02, 1.942e+03,\n       9.280e+02, 8.940e+02, 2.200e+01, 2.350e+02, 7.420e+02, 4.410e+02,\n       7.421e+03, 4.802e+03, 6.080e+02, 1.952e+03, 2.510e+02, 2.440e+02,\n       8.090e+02, 9.030e+02, 4.440e+02, 7.061e+03, 2.624e+03, 6.960e+02,\n       9.160e+02, 7.050e+02, 7.001e+03, 9.790e+02, 7.100e+01, 7.002e+03,\n       6.910e+02, 6.860e+02, 7.825e+03, 4.680e+02, 4.811e+03, 2.342e+03,\n       8.910e+02, 6.270e+02, 7.052e+03, 9.940e+02, 2.194e+03, 5.220e+02,\n       7.350e+02, 4.023e+03, 2.196e+03, 8.100e+02, 2.260e+02, 1.820e+02,\n       3.390e+02, 7.391e+03, 2.562e+03, 2.300e+01, 8.281e+03, 8.930e+02,\n       8.010e+02, 9.624e+03, 1.000e+00, 2.520e+02, 8.000e+02, 4.600e+02,\n       4.850e+02, 5.680e+02, 7.942e+03, 9.100e+02, 2.521e+03, 8.200e+02,\n       9.150e+02, 6.071e+03, 4.110e+02, 2.142e+03, 9.151e+03, 4.930e+02,\n       7.000e+01, 7.080e+02, 4.311e+03, 8.457e+03, 9.640e+02, 2.810e+02,\n       8.483e+03, 8.553e+03, 6.931e+03, 6.811e+03, 4.660e+02, 6.610e+02,\n       7.430e+02, 4.950e+02, 1.934e+03, 6.840e+02, 2.430e+02, 2.271e+03,\n       2.170e+02, 6.720e+02, 6.520e+02, 2.800e+01, 7.020e+02, 4.540e+02,\n       4.800e+02, 2.150e+02, 6.591e+03, 2.000e+01, 1.450e+02, 2.573e+03,\n       4.812e+03, 2.570e+02, 7.802e+03, 1.133e+03, 2.242e+03, 2.611e+03,\n       4.020e+02, 6.081e+03, 2.160e+02, 7.711e+03, 1.910e+02, 6.180e+02,\n       2.173e+03, 6.471e+03, 1.944e+03, 5.210e+02, 1.760e+02, 2.522e+03,\n       8.210e+02, 7.850e+02, 9.110e+02, 8.004e+03, 4.021e+03, 4.100e+01,\n       8.080e+02, 8.443e+03, 1.926e+03, 4.820e+02, 8.750e+02, 6.723e+03,\n       3.050e+02, 2.700e+02, 4.360e+02, 7.150e+02, 2.221e+03, 8.221e+03,\n       5.300e+01, 6.821e+03, 2.220e+02, 3.060e+02, 2.531e+03, 9.660e+02,\n       6.462e+03, 7.310e+02, 3.400e+02, 6.480e+02, 7.807e+03, 2.011e+03,\n       4.681e+03, 2.250e+02, 8.260e+02, 2.171e+03, 4.801e+03, 5.870e+02,\n       8.941e+03, 4.430e+02, 3.362e+03, 3.801e+03, 2.261e+03, 1.663e+03,\n       3.830e+02, 9.200e+01, 2.596e+03, 4.116e+03, 1.220e+02, 8.520e+02,\n       4.300e+02, 2.940e+02, 3.043e+03, 8.932e+03, 6.190e+02, 6.401e+03,\n       8.120e+02, 5.650e+02, 2.001e+03, 6.740e+02, 7.380e+02, 9.461e+03,\n       8.002e+03, 7.940e+02, 6.440e+02, 1.933e+03, 4.010e+02, 8.160e+02,\n       8.790e+02, 7.822e+03, 6.110e+02, 8.212e+03, 7.806e+03, 1.630e+02,\n       6.260e+02, 2.290e+02, 3.821e+03, 8.310e+02, 6.183e+03, 8.423e+03,\n       8.141e+03, 2.661e+03, 2.341e+03, 5.872e+03, 1.953e+03, 2.195e+03,\n       4.920e+02, 6.490e+02, 3.820e+02, 8.011e+03, 3.303e+03, 6.630e+02,\n       8.500e+01, 7.230e+02, 6.020e+02, 7.710e+02, 8.003e+03, 7.981e+03,\n       7.826e+03, 6.461e+03, 8.250e+02, 6.600e+02, 2.112e+03, 1.020e+02,\n       4.701e+03, 3.302e+03, 4.340e+02, 6.812e+03, 7.800e+02, 2.090e+02,\n       6.832e+03, 6.690e+02, 2.754e+03, 1.943e+03, 1.030e+02, 2.020e+02,\n       3.410e+02, 5.390e+02, 7.110e+02, 4.910e+02, 9.440e+02, 7.140e+02,\n       8.755e+03, 7.422e+03, 3.862e+03, 2.850e+02, 9.200e+02, 1.100e+01,\n       6.590e+02, 2.330e+02, 7.041e+03, 9.630e+02, 3.391e+03, 7.918e+03,\n       2.050e+02, 4.080e+02, 7.320e+02, 8.770e+02, 6.185e+03, 2.575e+03,\n       4.843e+03, 1.930e+02, 8.001e+03, 5.871e+03, 6.921e+03, 6.502e+03,\n       6.500e+02, 7.920e+02, 2.461e+03, 2.580e+02, 6.001e+03, 7.200e+01,\n       4.720e+02, 7.600e+01, 6.400e+02, 3.890e+02, 1.420e+02, 8.410e+02,\n       1.130e+02, 2.110e+02, 2.702e+03, 5.661e+03, 1.680e+02, 2.710e+02,\n       2.660e+02, 6.501e+03, 7.240e+02, 2.190e+02, 9.890e+02, 2.582e+03,\n       6.410e+02, 6.831e+03, 4.261e+03, 1.730e+02, 8.453e+03, 1.230e+02,\n       5.800e+02, 6.830e+02, 8.060e+02, 5.875e+03, 7.803e+03, 7.856e+03,\n       5.873e+03, 8.270e+02, 8.900e+01, 7.824e+03, 7.120e+02, 1.212e+03,\n       8.580e+02, 4.580e+02, 9.590e+02, 6.447e+03, 9.190e+02, 4.841e+03,\n       9.520e+02, 7.160e+02, 1.400e+01, 4.500e+01, 4.630e+02, 3.861e+03,\n       4.120e+02, 2.670e+02, 7.854e+03, 4.151e+03, 7.801e+03, 3.041e+03,\n       2.021e+03, 8.200e+01, 1.440e+02, 7.891e+03, 9.230e+02, 5.010e+02,\n       9.182e+03, 8.440e+02, 8.050e+02, 4.862e+03, 4.093e+03, 1.853e+03,\n       4.940e+02, 5.632e+03, 2.140e+02, 3.142e+03, 5.631e+03, 2.750e+02,\n       8.852e+03, 9.611e+03, 4.840e+02, 1.293e+03, 7.100e+02, 7.823e+03,\n       7.300e+02, 9.210e+02, 9.050e+02, 1.745e+03, 5.000e+00, 3.881e+03,\n       1.574e+03, 7.855e+03, 8.390e+02, 6.850e+02, 1.300e+01, 1.660e+02,\n       3.364e+03, 2.552e+03, 7.390e+02, 1.700e+01, 1.170e+02, 7.852e+03,\n       7.092e+03, 6.700e+01, 4.040e+02, 7.814e+03, 3.300e+02, 9.220e+02,\n       5.711e+03, 8.487e+03, 4.790e+02, 6.893e+03, 4.992e+03, 1.941e+03,\n       2.942e+03, 8.526e+03, 8.013e+03, 7.700e+02, 2.960e+02, 6.940e+02,\n       4.601e+03, 4.350e+02, 8.413e+03, 9.650e+02, 2.080e+02, 4.000e+02,\n       7.827e+03, 4.522e+03, 4.520e+02, 2.723e+03, 5.523e+03, 4.730e+02,\n       1.320e+02, 7.982e+03, 8.321e+03, 2.711e+03, 3.882e+03, 2.200e+02,\n       6.000e+02, 2.340e+02, 8.271e+03, 2.542e+03, 2.862e+03, 8.302e+03,\n       8.320e+02, 7.820e+02, 2.331e+03, 6.510e+02, 9.860e+02, 7.821e+03,\n       8.400e+01, 9.351e+03, 9.180e+02, 4.233e+03, 1.740e+02, 7.423e+03,\n       2.210e+02, 1.512e+03, 4.620e+02, 3.483e+03, 7.060e+02, 6.030e+02,\n       6.402e+03, 9.370e+02, 6.933e+03, 7.200e+02, 1.490e+02, 3.351e+03,\n       4.013e+03, 1.134e+03, 4.500e+02, 6.470e+02, 7.910e+02, 2.390e+02,\n       4.830e+02, 1.810e+02, 4.050e+02, 8.540e+02, 8.140e+02, 6.600e+01,\n       8.062e+03, 3.042e+03, 2.262e+03, 1.700e+02, 8.012e+03, 1.132e+03,\n       4.650e+02, 3.170e+02, 9.311e+03, 1.094e+03, 9.441e+03, 7.951e+03,\n       7.804e+03, 4.700e+02, 8.040e+02, 7.210e+02, 9.240e+02, 7.847e+03,\n       3.001e+03, 6.790e+02, 3.353e+03, 8.881e+03, 3.810e+02, 7.828e+03,\n       8.660e+02, 8.450e+02, 5.611e+03, 4.062e+03, 2.630e+02, 1.720e+02,\n       2.663e+03, 8.220e+02, 4.990e+02, 9.490e+02, 4.250e+02, 1.560e+02,\n       2.910e+02, 5.660e+02, 6.050e+02, 8.950e+02, 2.470e+02, 3.171e+03,\n       2.675e+03, 3.052e+03, 8.730e+02, 7.858e+03, 7.990e+02, 7.930e+02,\n       4.002e+03, 2.991e+03, 2.010e+02, 9.290e+02, 8.523e+03, 2.900e+01,\n       4.130e+02, 5.222e+03, 4.760e+02, 5.602e+03, 3.310e+02, 6.220e+02,\n       4.600e+01, 6.090e+02, 9.641e+03, 3.880e+02, 2.240e+02, 8.543e+03,\n       6.250e+02, 5.320e+02, 5.100e+01, 9.042e+03, 2.578e+03, 1.582e+03,\n       7.830e+02, 5.900e+01, 2.753e+03, 1.924e+03, 8.420e+02, 5.954e+03,\n       4.712e+03, 2.293e+03, 1.781e+03, 6.710e+02, 7.340e+02, 2.076e+03,\n       3.330e+02, 3.440e+02, 8.280e+02, 6.200e+02, 6.472e+03, 4.030e+02,\n       6.820e+02, 2.941e+03, 5.642e+03, 6.640e+02, 8.000e+00, 2.501e+03,\n       4.091e+03, 4.860e+02, 6.721e+03, 2.890e+02, 7.030e+02, 8.100e+01,\n       4.000e+00, 5.912e+03, 8.481e+03, 5.540e+02, 1.260e+02, 7.808e+03,\n       7.431e+03, 3.290e+02, 5.530e+02, 4.270e+02, 2.460e+02, 7.201e+03,\n       8.850e+02, 5.193e+03, 7.915e+03, 5.140e+02, 3.441e+03, 9.732e+03,\n       2.701e+03, 1.592e+03, 2.441e+03, 9.530e+02, 1.122e+03, 5.640e+02,\n       5.440e+02, 2.590e+02, 6.240e+02, 2.640e+02, 4.900e+02, 3.800e+02,\n       7.460e+02, 1.600e+01, 6.460e+02, 6.822e+03, 2.820e+02, 1.211e+03,\n       3.291e+03, 8.131e+03, 9.103e+03, 1.431e+03, 9.100e+01, 7.360e+02,\n       1.340e+02, 4.092e+03, 2.677e+03, 2.120e+02, 1.637e+03, 7.630e+02,\n       7.291e+03, 5.570e+02, 4.271e+03, 8.340e+02, 7.812e+03, 4.153e+03,\n       1.391e+03, 4.022e+03, 2.860e+02, 3.432e+03, 2.332e+03, 5.633e+03,\n       1.936e+03, 7.700e+01, 1.900e+02, 7.960e+02, 1.940e+02, 8.590e+02,\n       1.661e+03, 7.846e+03, 3.093e+03, 3.630e+02, 5.500e+01, 1.650e+02,\n       4.610e+02])"
     },
     "metadata": {},
     "execution_count": 62
    }
   ],
   "source": [
    "opcs3_df['opcs3-0.0'].unique()"
   ]
  },
  {
   "cell_type": "code",
   "execution_count": 67,
   "metadata": {},
   "outputs": [],
   "source": [
    "records = pd.read_pickle('../primary_care/records.pkl')"
   ]
  },
  {
   "cell_type": "code",
   "execution_count": 80,
   "metadata": {},
   "outputs": [],
   "source": [
    "hospitalised['datetime'] = [ datetime.strptime(x, '%d/%m/%Y') if type(x) == str else np.nan for x in hospitalised['event_dt']]"
   ]
  },
  {
   "cell_type": "code",
   "execution_count": 81,
   "metadata": {},
   "outputs": [],
   "source": [
    "hospital_rec = hospitalised.groupby('eid').agg(list).reset_index()"
   ]
  },
  {
   "cell_type": "code",
   "execution_count": 82,
   "metadata": {},
   "outputs": [
    {
     "output_type": "execute_result",
     "data": {
      "text/plain": "           eid data_provider  \\\n0      1000421           [3]   \n1      1000568        [3, 3]   \n2      1000713           [3]   \n3      1000965        [3, 3]   \n4      1002460  [3, 3, 3, 3]   \n...        ...           ...   \n17072  6022422           [3]   \n17073  6022686           [3]   \n17074  6022784           [3]   \n17075  6022795           [2]   \n17076  6023164           [3]   \n\n                                               event_dt                read_2  \\\n0                                          [18/08/2008]                 [nan]   \n1                              [30/11/2009, 19/05/2010]            [nan, nan]   \n2                                          [29/04/2015]                 [nan]   \n3                              [14/03/2004, 06/12/2015]            [nan, nan]   \n4      [25/11/2014, 28/11/2014, 28/11/2014, 03/01/2016]  [nan, nan, nan, nan]   \n...                                                 ...                   ...   \n17072                                      [02/06/2014]                 [nan]   \n17073                                      [19/12/2010]                 [nan]   \n17074                                      [23/11/2004]                 [nan]   \n17075                                      [10/01/2015]               [8H2..]   \n17076                                      [26/01/2007]                 [nan]   \n\n                             read_3                value1  \\\n0                           [8H21.]                 [nan]   \n1                    [8H2.., 8H2..]            [nan, nan]   \n2                           [8H2..]                 [nan]   \n3                    [8H2.., 8H2..]            [nan, nan]   \n4      [8H2.., 8H2.., 8H2.., 8H2..]  [nan, nan, nan, nan]   \n...                             ...                   ...   \n17072                       [8H2..]                 [nan]   \n17073                       [8H2..]                 [nan]   \n17074                       [8H2..]                 [nan]   \n17075                         [nan]                 [nan]   \n17076                       [8H2..]                 [nan]   \n\n                     value2                value3  \\\n0                     [nan]                 [nan]   \n1                [nan, nan]            [nan, nan]   \n2                     [nan]                 [nan]   \n3                [nan, nan]            [nan, nan]   \n4      [nan, nan, nan, nan]  [nan, nan, nan, nan]   \n...                     ...                   ...   \n17072                 [nan]                 [nan]   \n17073                 [nan]                 [nan]   \n17074                 [nan]                 [nan]   \n17075                 [nan]                 [nan]   \n17076                 [nan]                 [nan]   \n\n                                                datetime  \n0                                  [2008-08-18 00:00:00]  \n1             [2009-11-30 00:00:00, 2010-05-19 00:00:00]  \n2                                  [2015-04-29 00:00:00]  \n3             [2004-03-14 00:00:00, 2015-12-06 00:00:00]  \n4      [2014-11-25 00:00:00, 2014-11-28 00:00:00, 201...  \n...                                                  ...  \n17072                              [2014-06-02 00:00:00]  \n17073                              [2010-12-19 00:00:00]  \n17074                              [2004-11-23 00:00:00]  \n17075                              [2015-01-10 00:00:00]  \n17076                              [2007-01-26 00:00:00]  \n\n[17077 rows x 9 columns]",
      "text/html": "<div>\n<style scoped>\n    .dataframe tbody tr th:only-of-type {\n        vertical-align: middle;\n    }\n\n    .dataframe tbody tr th {\n        vertical-align: top;\n    }\n\n    .dataframe thead th {\n        text-align: right;\n    }\n</style>\n<table border=\"1\" class=\"dataframe\">\n  <thead>\n    <tr style=\"text-align: right;\">\n      <th></th>\n      <th>eid</th>\n      <th>data_provider</th>\n      <th>event_dt</th>\n      <th>read_2</th>\n      <th>read_3</th>\n      <th>value1</th>\n      <th>value2</th>\n      <th>value3</th>\n      <th>datetime</th>\n    </tr>\n  </thead>\n  <tbody>\n    <tr>\n      <th>0</th>\n      <td>1000421</td>\n      <td>[3]</td>\n      <td>[18/08/2008]</td>\n      <td>[nan]</td>\n      <td>[8H21.]</td>\n      <td>[nan]</td>\n      <td>[nan]</td>\n      <td>[nan]</td>\n      <td>[2008-08-18 00:00:00]</td>\n    </tr>\n    <tr>\n      <th>1</th>\n      <td>1000568</td>\n      <td>[3, 3]</td>\n      <td>[30/11/2009, 19/05/2010]</td>\n      <td>[nan, nan]</td>\n      <td>[8H2.., 8H2..]</td>\n      <td>[nan, nan]</td>\n      <td>[nan, nan]</td>\n      <td>[nan, nan]</td>\n      <td>[2009-11-30 00:00:00, 2010-05-19 00:00:00]</td>\n    </tr>\n    <tr>\n      <th>2</th>\n      <td>1000713</td>\n      <td>[3]</td>\n      <td>[29/04/2015]</td>\n      <td>[nan]</td>\n      <td>[8H2..]</td>\n      <td>[nan]</td>\n      <td>[nan]</td>\n      <td>[nan]</td>\n      <td>[2015-04-29 00:00:00]</td>\n    </tr>\n    <tr>\n      <th>3</th>\n      <td>1000965</td>\n      <td>[3, 3]</td>\n      <td>[14/03/2004, 06/12/2015]</td>\n      <td>[nan, nan]</td>\n      <td>[8H2.., 8H2..]</td>\n      <td>[nan, nan]</td>\n      <td>[nan, nan]</td>\n      <td>[nan, nan]</td>\n      <td>[2004-03-14 00:00:00, 2015-12-06 00:00:00]</td>\n    </tr>\n    <tr>\n      <th>4</th>\n      <td>1002460</td>\n      <td>[3, 3, 3, 3]</td>\n      <td>[25/11/2014, 28/11/2014, 28/11/2014, 03/01/2016]</td>\n      <td>[nan, nan, nan, nan]</td>\n      <td>[8H2.., 8H2.., 8H2.., 8H2..]</td>\n      <td>[nan, nan, nan, nan]</td>\n      <td>[nan, nan, nan, nan]</td>\n      <td>[nan, nan, nan, nan]</td>\n      <td>[2014-11-25 00:00:00, 2014-11-28 00:00:00, 201...</td>\n    </tr>\n    <tr>\n      <th>...</th>\n      <td>...</td>\n      <td>...</td>\n      <td>...</td>\n      <td>...</td>\n      <td>...</td>\n      <td>...</td>\n      <td>...</td>\n      <td>...</td>\n      <td>...</td>\n    </tr>\n    <tr>\n      <th>17072</th>\n      <td>6022422</td>\n      <td>[3]</td>\n      <td>[02/06/2014]</td>\n      <td>[nan]</td>\n      <td>[8H2..]</td>\n      <td>[nan]</td>\n      <td>[nan]</td>\n      <td>[nan]</td>\n      <td>[2014-06-02 00:00:00]</td>\n    </tr>\n    <tr>\n      <th>17073</th>\n      <td>6022686</td>\n      <td>[3]</td>\n      <td>[19/12/2010]</td>\n      <td>[nan]</td>\n      <td>[8H2..]</td>\n      <td>[nan]</td>\n      <td>[nan]</td>\n      <td>[nan]</td>\n      <td>[2010-12-19 00:00:00]</td>\n    </tr>\n    <tr>\n      <th>17074</th>\n      <td>6022784</td>\n      <td>[3]</td>\n      <td>[23/11/2004]</td>\n      <td>[nan]</td>\n      <td>[8H2..]</td>\n      <td>[nan]</td>\n      <td>[nan]</td>\n      <td>[nan]</td>\n      <td>[2004-11-23 00:00:00]</td>\n    </tr>\n    <tr>\n      <th>17075</th>\n      <td>6022795</td>\n      <td>[2]</td>\n      <td>[10/01/2015]</td>\n      <td>[8H2..]</td>\n      <td>[nan]</td>\n      <td>[nan]</td>\n      <td>[nan]</td>\n      <td>[nan]</td>\n      <td>[2015-01-10 00:00:00]</td>\n    </tr>\n    <tr>\n      <th>17076</th>\n      <td>6023164</td>\n      <td>[3]</td>\n      <td>[26/01/2007]</td>\n      <td>[nan]</td>\n      <td>[8H2..]</td>\n      <td>[nan]</td>\n      <td>[nan]</td>\n      <td>[nan]</td>\n      <td>[2007-01-26 00:00:00]</td>\n    </tr>\n  </tbody>\n</table>\n<p>17077 rows × 9 columns</p>\n</div>"
     },
     "metadata": {},
     "execution_count": 82
    }
   ],
   "source": [
    "hospital_rec"
   ]
  },
  {
   "cell_type": "code",
   "execution_count": 87,
   "metadata": {},
   "outputs": [
    {
     "output_type": "execute_result",
     "data": {
      "text/plain": "           eid stroke     ha               date_diag       data_provider  \\\n0      1000063   True  False  [[09/01/2003, Stroke]]                 NaN   \n1      1000291  False   True      [[23/07/2003, MI]]                 NaN   \n2      1000584  False   True      [[05/11/1996, MI]]                 NaN   \n3      1001104  False   True                 [[nan]]                 NaN   \n4      1001162   True  False                 [[nan]]                 NaN   \n...        ...    ...    ...                     ...                 ...   \n30521  6021699    NaN    NaN                      []              [3, 3]   \n30522  6021968    NaN    NaN                      []                 [4]   \n30523  6022686    NaN    NaN                      []  [3, 3, 3, 3, 3, 3]   \n30524  6022831    NaN    NaN                      []                 [3]   \n30525  6023090    NaN    NaN                      []                 [3]   \n\n                                                event_dt  \\\n0                                                    NaN   \n1                                                    NaN   \n2                                                    NaN   \n3                                                    NaN   \n4                                                    NaN   \n...                                                  ...   \n30521                           [19/01/2012, 07/02/2012]   \n30522                                       [02/06/2015]   \n30523  [17/01/2011, 14/02/2011, 14/03/2011, 13/04/201...   \n30524                                       [01/07/2005]   \n30525                                       [29/07/2005]   \n\n                               read_2  \\\n0                                 NaN   \n1                                 NaN   \n2                                 NaN   \n3                                 NaN   \n4                                 NaN   \n...                               ...   \n30521                      [nan, nan]   \n30522                         [G65..]   \n30523  [nan, nan, nan, nan, nan, nan]   \n30524                           [nan]   \n30525                           [nan]   \n\n                                           read_3  \\\n0                                             NaN   \n1                                             NaN   \n2                                             NaN   \n3                                             NaN   \n4                                             NaN   \n...                                           ...   \n30521                              [XaINF, XaINF]   \n30522                                       [nan]   \n30523  [XE2aB, XE2aB, XE2aB, XE2aB, XE2aB, XE2aB]   \n30524                                     [XE0VK]   \n30525                                     [XE2uV]   \n\n                               value1                          value2  ...  \\\n0                                 NaN                             NaN  ...   \n1                                 NaN                             NaN  ...   \n2                                 NaN                             NaN  ...   \n3                                 NaN                             NaN  ...   \n4                                 NaN                             NaN  ...   \n...                               ...                             ...  ...   \n30521                      [nan, nan]                      [nan, nan]  ...   \n30522                           [nan]                           [nan]  ...   \n30523  [nan, nan, nan, nan, nan, nan]  [nan, nan, nan, nan, nan, nan]  ...   \n30524                           [nan]                           [nan]  ...   \n30525                           [nan]                           [nan]  ...   \n\n       34-0.0                                   uniq_record_diag  \\\n0      1939.0                             [[09/01/2003, Stroke]]   \n1      1948.0                                 [[23/07/2003, MI]]   \n2      1951.0                                 [[05/11/1996, MI]]   \n3      1938.0                                            [[nan]]   \n4      1947.0                                            [[nan]]   \n...       ...                                                ...   \n30521  1949.0               [[19/01/2012, MI], [07/02/2012, MI]]   \n30522  1941.0                             [[02/06/2015, Stroke]]   \n30523  1954.0  [[11/05/2011, Stroke], [21/05/2012, Stroke], [...   \n30524  1939.0                             [[01/07/2005, Stroke]]   \n30525  1939.0                                [[29/07/2005, CAD]]   \n\n                                             sort_record first_record_d  \\\n0                        [[2003-01-09 00:00:00, Stroke]]     2003-01-09   \n1                            [[2003-07-23 00:00:00, MI]]     2003-07-23   \n2                            [[1996-11-05 00:00:00, MI]]     1996-11-05   \n3                                                     []            NaT   \n4                                                     []            NaT   \n...                                                  ...            ...   \n30521  [[2012-01-19 00:00:00, MI], [2012-02-07 00:00:...     2012-01-19   \n30522                    [[2015-06-02 00:00:00, Stroke]]     2015-06-02   \n30523  [[2011-01-17 00:00:00, Stroke], [2011-02-14 00...     2011-01-17   \n30524                    [[2005-07-01 00:00:00, Stroke]]     2005-07-01   \n30525                       [[2005-07-29 00:00:00, CAD]]     2005-07-29   \n\n       first_record_diag first_stroke_after_d   yr_birth noRecords  \\\n0                 Stroke                  NaT 1939-01-01         1   \n1                     MI                  NaT 1948-01-01         1   \n2                     MI                  NaT 1951-01-01         1   \n3                    NaN                  NaT 1938-01-01         0   \n4                    NaN                  NaT 1947-01-01         0   \n...                  ...                  ...        ...       ...   \n30521                 MI                  NaT 1949-01-01         2   \n30522             Stroke                  NaT 1941-01-01         1   \n30523             Stroke           2011-02-14 1954-01-01         6   \n30524             Stroke                  NaT 1939-01-01         1   \n30525                CAD                  NaT 1939-01-01         1   \n\n      discrepancy event_int  \n0           False       NaN  \n1           False       NaN  \n2           False       NaN  \n3           False       NaN  \n4           False       NaN  \n...           ...       ...  \n30521       False       NaN  \n30522       False       NaN  \n30523       False  0.919937  \n30524       False       NaN  \n30525       False       NaN  \n\n[30526 rows x 24 columns]",
      "text/html": "<div>\n<style scoped>\n    .dataframe tbody tr th:only-of-type {\n        vertical-align: middle;\n    }\n\n    .dataframe tbody tr th {\n        vertical-align: top;\n    }\n\n    .dataframe thead th {\n        text-align: right;\n    }\n</style>\n<table border=\"1\" class=\"dataframe\">\n  <thead>\n    <tr style=\"text-align: right;\">\n      <th></th>\n      <th>eid</th>\n      <th>stroke</th>\n      <th>ha</th>\n      <th>date_diag</th>\n      <th>data_provider</th>\n      <th>event_dt</th>\n      <th>read_2</th>\n      <th>read_3</th>\n      <th>value1</th>\n      <th>value2</th>\n      <th>...</th>\n      <th>34-0.0</th>\n      <th>uniq_record_diag</th>\n      <th>sort_record</th>\n      <th>first_record_d</th>\n      <th>first_record_diag</th>\n      <th>first_stroke_after_d</th>\n      <th>yr_birth</th>\n      <th>noRecords</th>\n      <th>discrepancy</th>\n      <th>event_int</th>\n    </tr>\n  </thead>\n  <tbody>\n    <tr>\n      <th>0</th>\n      <td>1000063</td>\n      <td>True</td>\n      <td>False</td>\n      <td>[[09/01/2003, Stroke]]</td>\n      <td>NaN</td>\n      <td>NaN</td>\n      <td>NaN</td>\n      <td>NaN</td>\n      <td>NaN</td>\n      <td>NaN</td>\n      <td>...</td>\n      <td>1939.0</td>\n      <td>[[09/01/2003, Stroke]]</td>\n      <td>[[2003-01-09 00:00:00, Stroke]]</td>\n      <td>2003-01-09</td>\n      <td>Stroke</td>\n      <td>NaT</td>\n      <td>1939-01-01</td>\n      <td>1</td>\n      <td>False</td>\n      <td>NaN</td>\n    </tr>\n    <tr>\n      <th>1</th>\n      <td>1000291</td>\n      <td>False</td>\n      <td>True</td>\n      <td>[[23/07/2003, MI]]</td>\n      <td>NaN</td>\n      <td>NaN</td>\n      <td>NaN</td>\n      <td>NaN</td>\n      <td>NaN</td>\n      <td>NaN</td>\n      <td>...</td>\n      <td>1948.0</td>\n      <td>[[23/07/2003, MI]]</td>\n      <td>[[2003-07-23 00:00:00, MI]]</td>\n      <td>2003-07-23</td>\n      <td>MI</td>\n      <td>NaT</td>\n      <td>1948-01-01</td>\n      <td>1</td>\n      <td>False</td>\n      <td>NaN</td>\n    </tr>\n    <tr>\n      <th>2</th>\n      <td>1000584</td>\n      <td>False</td>\n      <td>True</td>\n      <td>[[05/11/1996, MI]]</td>\n      <td>NaN</td>\n      <td>NaN</td>\n      <td>NaN</td>\n      <td>NaN</td>\n      <td>NaN</td>\n      <td>NaN</td>\n      <td>...</td>\n      <td>1951.0</td>\n      <td>[[05/11/1996, MI]]</td>\n      <td>[[1996-11-05 00:00:00, MI]]</td>\n      <td>1996-11-05</td>\n      <td>MI</td>\n      <td>NaT</td>\n      <td>1951-01-01</td>\n      <td>1</td>\n      <td>False</td>\n      <td>NaN</td>\n    </tr>\n    <tr>\n      <th>3</th>\n      <td>1001104</td>\n      <td>False</td>\n      <td>True</td>\n      <td>[[nan]]</td>\n      <td>NaN</td>\n      <td>NaN</td>\n      <td>NaN</td>\n      <td>NaN</td>\n      <td>NaN</td>\n      <td>NaN</td>\n      <td>...</td>\n      <td>1938.0</td>\n      <td>[[nan]]</td>\n      <td>[]</td>\n      <td>NaT</td>\n      <td>NaN</td>\n      <td>NaT</td>\n      <td>1938-01-01</td>\n      <td>0</td>\n      <td>False</td>\n      <td>NaN</td>\n    </tr>\n    <tr>\n      <th>4</th>\n      <td>1001162</td>\n      <td>True</td>\n      <td>False</td>\n      <td>[[nan]]</td>\n      <td>NaN</td>\n      <td>NaN</td>\n      <td>NaN</td>\n      <td>NaN</td>\n      <td>NaN</td>\n      <td>NaN</td>\n      <td>...</td>\n      <td>1947.0</td>\n      <td>[[nan]]</td>\n      <td>[]</td>\n      <td>NaT</td>\n      <td>NaN</td>\n      <td>NaT</td>\n      <td>1947-01-01</td>\n      <td>0</td>\n      <td>False</td>\n      <td>NaN</td>\n    </tr>\n    <tr>\n      <th>...</th>\n      <td>...</td>\n      <td>...</td>\n      <td>...</td>\n      <td>...</td>\n      <td>...</td>\n      <td>...</td>\n      <td>...</td>\n      <td>...</td>\n      <td>...</td>\n      <td>...</td>\n      <td>...</td>\n      <td>...</td>\n      <td>...</td>\n      <td>...</td>\n      <td>...</td>\n      <td>...</td>\n      <td>...</td>\n      <td>...</td>\n      <td>...</td>\n      <td>...</td>\n      <td>...</td>\n    </tr>\n    <tr>\n      <th>30521</th>\n      <td>6021699</td>\n      <td>NaN</td>\n      <td>NaN</td>\n      <td>[]</td>\n      <td>[3, 3]</td>\n      <td>[19/01/2012, 07/02/2012]</td>\n      <td>[nan, nan]</td>\n      <td>[XaINF, XaINF]</td>\n      <td>[nan, nan]</td>\n      <td>[nan, nan]</td>\n      <td>...</td>\n      <td>1949.0</td>\n      <td>[[19/01/2012, MI], [07/02/2012, MI]]</td>\n      <td>[[2012-01-19 00:00:00, MI], [2012-02-07 00:00:...</td>\n      <td>2012-01-19</td>\n      <td>MI</td>\n      <td>NaT</td>\n      <td>1949-01-01</td>\n      <td>2</td>\n      <td>False</td>\n      <td>NaN</td>\n    </tr>\n    <tr>\n      <th>30522</th>\n      <td>6021968</td>\n      <td>NaN</td>\n      <td>NaN</td>\n      <td>[]</td>\n      <td>[4]</td>\n      <td>[02/06/2015]</td>\n      <td>[G65..]</td>\n      <td>[nan]</td>\n      <td>[nan]</td>\n      <td>[nan]</td>\n      <td>...</td>\n      <td>1941.0</td>\n      <td>[[02/06/2015, Stroke]]</td>\n      <td>[[2015-06-02 00:00:00, Stroke]]</td>\n      <td>2015-06-02</td>\n      <td>Stroke</td>\n      <td>NaT</td>\n      <td>1941-01-01</td>\n      <td>1</td>\n      <td>False</td>\n      <td>NaN</td>\n    </tr>\n    <tr>\n      <th>30523</th>\n      <td>6022686</td>\n      <td>NaN</td>\n      <td>NaN</td>\n      <td>[]</td>\n      <td>[3, 3, 3, 3, 3, 3]</td>\n      <td>[17/01/2011, 14/02/2011, 14/03/2011, 13/04/201...</td>\n      <td>[nan, nan, nan, nan, nan, nan]</td>\n      <td>[XE2aB, XE2aB, XE2aB, XE2aB, XE2aB, XE2aB]</td>\n      <td>[nan, nan, nan, nan, nan, nan]</td>\n      <td>[nan, nan, nan, nan, nan, nan]</td>\n      <td>...</td>\n      <td>1954.0</td>\n      <td>[[11/05/2011, Stroke], [21/05/2012, Stroke], [...</td>\n      <td>[[2011-01-17 00:00:00, Stroke], [2011-02-14 00...</td>\n      <td>2011-01-17</td>\n      <td>Stroke</td>\n      <td>2011-02-14</td>\n      <td>1954-01-01</td>\n      <td>6</td>\n      <td>False</td>\n      <td>0.919937</td>\n    </tr>\n    <tr>\n      <th>30524</th>\n      <td>6022831</td>\n      <td>NaN</td>\n      <td>NaN</td>\n      <td>[]</td>\n      <td>[3]</td>\n      <td>[01/07/2005]</td>\n      <td>[nan]</td>\n      <td>[XE0VK]</td>\n      <td>[nan]</td>\n      <td>[nan]</td>\n      <td>...</td>\n      <td>1939.0</td>\n      <td>[[01/07/2005, Stroke]]</td>\n      <td>[[2005-07-01 00:00:00, Stroke]]</td>\n      <td>2005-07-01</td>\n      <td>Stroke</td>\n      <td>NaT</td>\n      <td>1939-01-01</td>\n      <td>1</td>\n      <td>False</td>\n      <td>NaN</td>\n    </tr>\n    <tr>\n      <th>30525</th>\n      <td>6023090</td>\n      <td>NaN</td>\n      <td>NaN</td>\n      <td>[]</td>\n      <td>[3]</td>\n      <td>[29/07/2005]</td>\n      <td>[nan]</td>\n      <td>[XE2uV]</td>\n      <td>[nan]</td>\n      <td>[nan]</td>\n      <td>...</td>\n      <td>1939.0</td>\n      <td>[[29/07/2005, CAD]]</td>\n      <td>[[2005-07-29 00:00:00, CAD]]</td>\n      <td>2005-07-29</td>\n      <td>CAD</td>\n      <td>NaT</td>\n      <td>1939-01-01</td>\n      <td>1</td>\n      <td>False</td>\n      <td>NaN</td>\n    </tr>\n  </tbody>\n</table>\n<p>30526 rows × 24 columns</p>\n</div>"
     },
     "metadata": {},
     "execution_count": 87
    }
   ],
   "source": [
    "records"
   ]
  },
  {
   "cell_type": "code",
   "execution_count": 125,
   "metadata": {
    "tags": [
     "outputPrepend",
     "outputPrepend",
     "outputPrepend",
     "outputPrepend",
     "outputPrepend",
     "outputPrepend",
     "outputPrepend",
     "outputPrepend",
     "outputPrepend",
     "outputPrepend",
     "outputPrepend",
     "outputPrepend",
     "outputPrepend",
     "outputPrepend",
     "outputPrepend",
     "outputPrepend",
     "outputPrepend",
     "outputPrepend",
     "outputPrepend",
     "outputPrepend",
     "outputPrepend",
     "outputPrepend",
     "outputPrepend",
     "outputPrepend",
     "outputPrepend",
     "outputPrepend",
     "outputPrepend",
     "outputPrepend",
     "outputPrepend"
    ]
   },
   "outputs": [],
   "source": [
    "hosp = []\n",
    "hosp_delta = []\n",
    "\n",
    "for i in range(len(records['sort_record'])):\n",
    "    \n",
    "    hosp_stat = [] # accumulating individual patient's list of hospitalisation\n",
    "\n",
    "    # if eid has a record\n",
    "    if (len(hospital_rec[hospital_rec ['eid'] == records.iloc[i]['eid']]) == 1) == True:\n",
    "        # iterate through the individual patient's record\n",
    "        for j in range(len(records.iloc[i]['sort_record'])):\n",
    "\n",
    "            idx = records.iloc[i]['eid']\n",
    "            a = records.iloc[i]['sort_record'][j][0]\n",
    "\n",
    "            b = hospital_rec[hospital_rec['eid']==idx]['datetime'].values\n",
    "\n",
    "            for k in range(len(b)):\n",
    "                timediff = a - b[0][k]\n",
    "                \n",
    "                # if patient's date matches within 7 days of hospitalisation date\n",
    "                if timediff.days < 7 & timediff.days > (-7)  : \n",
    "                    hosp_stat.append('H')\n",
    "                else:\n",
    "                    hosp_stat.append(np.nan)\n",
    "        hosp.append(hosp_stat)\n",
    "    else:\n",
    "        hosp.append([np.nan])"
   ]
  },
  {
   "cell_type": "code",
   "execution_count": 127,
   "metadata": {},
   "outputs": [],
   "source": [
    "records['hospitalisation'] = hosp"
   ]
  },
  {
   "cell_type": "code",
   "execution_count": 129,
   "metadata": {},
   "outputs": [
    {
     "output_type": "execute_result",
     "data": {
      "text/plain": "[0, 6579, 6580, 6581, 6582]"
     },
     "metadata": {},
     "execution_count": 129
    }
   ],
   "source": [
    "death"
   ]
  },
  {
   "cell_type": "code",
   "execution_count": 130,
   "metadata": {},
   "outputs": [],
   "source": [
    "#isolating codes from primary care\n",
    "dead = pri_cli[pri_cli['read_2'].isin(event['death']['read2'])| pri_cli['read_3'].isin(event['death']['read3'])]"
   ]
  },
  {
   "cell_type": "code",
   "execution_count": 133,
   "metadata": {},
   "outputs": [],
   "source": [
    "dead_id = dead.groupby('eid').agg(list).reset_index()"
   ]
  },
  {
   "cell_type": "code",
   "execution_count": 134,
   "metadata": {},
   "outputs": [],
   "source": [
    "dead_id['deathstat'] = 1"
   ]
  },
  {
   "cell_type": "code",
   "execution_count": 135,
   "metadata": {},
   "outputs": [
    {
     "output_type": "execute_result",
     "data": {
      "text/plain": "          eid data_provider                  event_dt      read_2  \\\n0     1002572        [3, 3]  [30/06/2015, 30/06/2015]  [nan, nan]   \n1     1004098           [3]              [17/04/2014]       [nan]   \n2     1006885           [3]              [14/06/2016]       [nan]   \n3     1007044           [3]              [27/02/2015]       [nan]   \n4     1008117           [3]              [29/07/2013]       [nan]   \n...       ...           ...                       ...         ...   \n3252  6016484           [3]              [06/08/2012]       [nan]   \n3253  6017668           [3]              [25/06/2015]       [nan]   \n3254  6020339           [3]              [03/04/2013]       [nan]   \n3255  6021388           [3]              [29/04/2010]       [nan]   \n3256  6022972           [3]              [22/07/2014]       [nan]   \n\n              read_3      value1      value2      value3  deathstat  \n0     [XM01Y, XaCJB]  [nan, nan]  [nan, nan]  [nan, nan]          1  \n1            [XM01Y]       [nan]       [nan]       [nan]          1  \n2            [XM01Y]       [nan]       [nan]       [nan]          1  \n3            [XM01Y]       [nan]       [nan]       [nan]          1  \n4            [XM01Y]       [nan]       [nan]       [nan]          1  \n...              ...         ...         ...         ...        ...  \n3252         [XM01Y]       [nan]       [nan]       [nan]          1  \n3253         [XM01Y]       [nan]       [nan]       [nan]          1  \n3254         [XM01Y]       [nan]       [nan]       [nan]          1  \n3255         [XM01Y]       [nan]       [nan]       [nan]          1  \n3256         [XM01Y]       [nan]       [nan]       [nan]          1  \n\n[3257 rows x 9 columns]",
      "text/html": "<div>\n<style scoped>\n    .dataframe tbody tr th:only-of-type {\n        vertical-align: middle;\n    }\n\n    .dataframe tbody tr th {\n        vertical-align: top;\n    }\n\n    .dataframe thead th {\n        text-align: right;\n    }\n</style>\n<table border=\"1\" class=\"dataframe\">\n  <thead>\n    <tr style=\"text-align: right;\">\n      <th></th>\n      <th>eid</th>\n      <th>data_provider</th>\n      <th>event_dt</th>\n      <th>read_2</th>\n      <th>read_3</th>\n      <th>value1</th>\n      <th>value2</th>\n      <th>value3</th>\n      <th>deathstat</th>\n    </tr>\n  </thead>\n  <tbody>\n    <tr>\n      <th>0</th>\n      <td>1002572</td>\n      <td>[3, 3]</td>\n      <td>[30/06/2015, 30/06/2015]</td>\n      <td>[nan, nan]</td>\n      <td>[XM01Y, XaCJB]</td>\n      <td>[nan, nan]</td>\n      <td>[nan, nan]</td>\n      <td>[nan, nan]</td>\n      <td>1</td>\n    </tr>\n    <tr>\n      <th>1</th>\n      <td>1004098</td>\n      <td>[3]</td>\n      <td>[17/04/2014]</td>\n      <td>[nan]</td>\n      <td>[XM01Y]</td>\n      <td>[nan]</td>\n      <td>[nan]</td>\n      <td>[nan]</td>\n      <td>1</td>\n    </tr>\n    <tr>\n      <th>2</th>\n      <td>1006885</td>\n      <td>[3]</td>\n      <td>[14/06/2016]</td>\n      <td>[nan]</td>\n      <td>[XM01Y]</td>\n      <td>[nan]</td>\n      <td>[nan]</td>\n      <td>[nan]</td>\n      <td>1</td>\n    </tr>\n    <tr>\n      <th>3</th>\n      <td>1007044</td>\n      <td>[3]</td>\n      <td>[27/02/2015]</td>\n      <td>[nan]</td>\n      <td>[XM01Y]</td>\n      <td>[nan]</td>\n      <td>[nan]</td>\n      <td>[nan]</td>\n      <td>1</td>\n    </tr>\n    <tr>\n      <th>4</th>\n      <td>1008117</td>\n      <td>[3]</td>\n      <td>[29/07/2013]</td>\n      <td>[nan]</td>\n      <td>[XM01Y]</td>\n      <td>[nan]</td>\n      <td>[nan]</td>\n      <td>[nan]</td>\n      <td>1</td>\n    </tr>\n    <tr>\n      <th>...</th>\n      <td>...</td>\n      <td>...</td>\n      <td>...</td>\n      <td>...</td>\n      <td>...</td>\n      <td>...</td>\n      <td>...</td>\n      <td>...</td>\n      <td>...</td>\n    </tr>\n    <tr>\n      <th>3252</th>\n      <td>6016484</td>\n      <td>[3]</td>\n      <td>[06/08/2012]</td>\n      <td>[nan]</td>\n      <td>[XM01Y]</td>\n      <td>[nan]</td>\n      <td>[nan]</td>\n      <td>[nan]</td>\n      <td>1</td>\n    </tr>\n    <tr>\n      <th>3253</th>\n      <td>6017668</td>\n      <td>[3]</td>\n      <td>[25/06/2015]</td>\n      <td>[nan]</td>\n      <td>[XM01Y]</td>\n      <td>[nan]</td>\n      <td>[nan]</td>\n      <td>[nan]</td>\n      <td>1</td>\n    </tr>\n    <tr>\n      <th>3254</th>\n      <td>6020339</td>\n      <td>[3]</td>\n      <td>[03/04/2013]</td>\n      <td>[nan]</td>\n      <td>[XM01Y]</td>\n      <td>[nan]</td>\n      <td>[nan]</td>\n      <td>[nan]</td>\n      <td>1</td>\n    </tr>\n    <tr>\n      <th>3255</th>\n      <td>6021388</td>\n      <td>[3]</td>\n      <td>[29/04/2010]</td>\n      <td>[nan]</td>\n      <td>[XM01Y]</td>\n      <td>[nan]</td>\n      <td>[nan]</td>\n      <td>[nan]</td>\n      <td>1</td>\n    </tr>\n    <tr>\n      <th>3256</th>\n      <td>6022972</td>\n      <td>[3]</td>\n      <td>[22/07/2014]</td>\n      <td>[nan]</td>\n      <td>[XM01Y]</td>\n      <td>[nan]</td>\n      <td>[nan]</td>\n      <td>[nan]</td>\n      <td>1</td>\n    </tr>\n  </tbody>\n</table>\n<p>3257 rows × 9 columns</p>\n</div>"
     },
     "metadata": {},
     "execution_count": 135
    }
   ],
   "source": [
    "dead_id"
   ]
  },
  {
   "cell_type": "code",
   "execution_count": 139,
   "metadata": {},
   "outputs": [],
   "source": [
    "dead_summ = dead_id[['eid', 'event_dt', 'deathstat']]"
   ]
  },
  {
   "cell_type": "code",
   "execution_count": 149,
   "metadata": {},
   "outputs": [],
   "source": [
    "dead_summ.columns = ['eid', 'deathdate', 'deathstat']"
   ]
  },
  {
   "cell_type": "code",
   "execution_count": 150,
   "metadata": {},
   "outputs": [],
   "source": [
    "records2 = pd.merge(records, dead_summ, how= 'left', on = ['eid', 'eid'] )"
   ]
  },
  {
   "cell_type": "code",
   "execution_count": 151,
   "metadata": {},
   "outputs": [
    {
     "output_type": "execute_result",
     "data": {
      "text/plain": "           eid stroke     ha               date_diag       data_provider  \\\n0      1000063   True  False  [[09/01/2003, Stroke]]                 NaN   \n1      1000291  False   True      [[23/07/2003, MI]]                 NaN   \n2      1000584  False   True      [[05/11/1996, MI]]                 NaN   \n3      1001104  False   True                 [[nan]]                 NaN   \n4      1001162   True  False                 [[nan]]                 NaN   \n...        ...    ...    ...                     ...                 ...   \n30521  6021699    NaN    NaN                      []              [3, 3]   \n30522  6021968    NaN    NaN                      []                 [4]   \n30523  6022686    NaN    NaN                      []  [3, 3, 3, 3, 3, 3]   \n30524  6022831    NaN    NaN                      []                 [3]   \n30525  6023090    NaN    NaN                      []                 [3]   \n\n                                                event_dt  \\\n0                                                    NaN   \n1                                                    NaN   \n2                                                    NaN   \n3                                                    NaN   \n4                                                    NaN   \n...                                                  ...   \n30521                           [19/01/2012, 07/02/2012]   \n30522                                       [02/06/2015]   \n30523  [17/01/2011, 14/02/2011, 14/03/2011, 13/04/201...   \n30524                                       [01/07/2005]   \n30525                                       [29/07/2005]   \n\n                               read_2  \\\n0                                 NaN   \n1                                 NaN   \n2                                 NaN   \n3                                 NaN   \n4                                 NaN   \n...                               ...   \n30521                      [nan, nan]   \n30522                         [G65..]   \n30523  [nan, nan, nan, nan, nan, nan]   \n30524                           [nan]   \n30525                           [nan]   \n\n                                           read_3  \\\n0                                             NaN   \n1                                             NaN   \n2                                             NaN   \n3                                             NaN   \n4                                             NaN   \n...                                           ...   \n30521                              [XaINF, XaINF]   \n30522                                       [nan]   \n30523  [XE2aB, XE2aB, XE2aB, XE2aB, XE2aB, XE2aB]   \n30524                                     [XE0VK]   \n30525                                     [XE2uV]   \n\n                               value1                          value2  ...  \\\n0                                 NaN                             NaN  ...   \n1                                 NaN                             NaN  ...   \n2                                 NaN                             NaN  ...   \n3                                 NaN                             NaN  ...   \n4                                 NaN                             NaN  ...   \n...                               ...                             ...  ...   \n30521                      [nan, nan]                      [nan, nan]  ...   \n30522                           [nan]                           [nan]  ...   \n30523  [nan, nan, nan, nan, nan, nan]  [nan, nan, nan, nan, nan, nan]  ...   \n30524                           [nan]                           [nan]  ...   \n30525                           [nan]                           [nan]  ...   \n\n      first_record_d first_record_diag first_stroke_after_d   yr_birth  \\\n0         2003-01-09            Stroke                  NaT 1939-01-01   \n1         2003-07-23                MI                  NaT 1948-01-01   \n2         1996-11-05                MI                  NaT 1951-01-01   \n3                NaT               NaN                  NaT 1938-01-01   \n4                NaT               NaN                  NaT 1947-01-01   \n...              ...               ...                  ...        ...   \n30521     2012-01-19                MI                  NaT 1949-01-01   \n30522     2015-06-02            Stroke                  NaT 1941-01-01   \n30523     2011-01-17            Stroke           2011-02-14 1954-01-01   \n30524     2005-07-01            Stroke                  NaT 1939-01-01   \n30525     2005-07-29               CAD                  NaT 1939-01-01   \n\n       noRecords discrepancy event_int                 hospitalisation  \\\n0              1       False       NaN                           [nan]   \n1              1       False       NaN                           [nan]   \n2              1       False       NaN                           [nan]   \n3              0       False       NaN                           [nan]   \n4              0       False       NaN                           [nan]   \n...          ...         ...       ...                             ...   \n30521          2       False       NaN                           [nan]   \n30522          1       False       NaN                           [nan]   \n30523          6       False  0.919937  [nan, nan, nan, nan, nan, nan]   \n30524          1       False       NaN                           [nan]   \n30525          1       False       NaN                           [nan]   \n\n      deathdate deathstat  \n0           NaN       NaN  \n1           NaN       NaN  \n2           NaN       NaN  \n3           NaN       NaN  \n4           NaN       NaN  \n...         ...       ...  \n30521       NaN       NaN  \n30522       NaN       NaN  \n30523       NaN       NaN  \n30524       NaN       NaN  \n30525       NaN       NaN  \n\n[30526 rows x 27 columns]",
      "text/html": "<div>\n<style scoped>\n    .dataframe tbody tr th:only-of-type {\n        vertical-align: middle;\n    }\n\n    .dataframe tbody tr th {\n        vertical-align: top;\n    }\n\n    .dataframe thead th {\n        text-align: right;\n    }\n</style>\n<table border=\"1\" class=\"dataframe\">\n  <thead>\n    <tr style=\"text-align: right;\">\n      <th></th>\n      <th>eid</th>\n      <th>stroke</th>\n      <th>ha</th>\n      <th>date_diag</th>\n      <th>data_provider</th>\n      <th>event_dt</th>\n      <th>read_2</th>\n      <th>read_3</th>\n      <th>value1</th>\n      <th>value2</th>\n      <th>...</th>\n      <th>first_record_d</th>\n      <th>first_record_diag</th>\n      <th>first_stroke_after_d</th>\n      <th>yr_birth</th>\n      <th>noRecords</th>\n      <th>discrepancy</th>\n      <th>event_int</th>\n      <th>hospitalisation</th>\n      <th>deathdate</th>\n      <th>deathstat</th>\n    </tr>\n  </thead>\n  <tbody>\n    <tr>\n      <th>0</th>\n      <td>1000063</td>\n      <td>True</td>\n      <td>False</td>\n      <td>[[09/01/2003, Stroke]]</td>\n      <td>NaN</td>\n      <td>NaN</td>\n      <td>NaN</td>\n      <td>NaN</td>\n      <td>NaN</td>\n      <td>NaN</td>\n      <td>...</td>\n      <td>2003-01-09</td>\n      <td>Stroke</td>\n      <td>NaT</td>\n      <td>1939-01-01</td>\n      <td>1</td>\n      <td>False</td>\n      <td>NaN</td>\n      <td>[nan]</td>\n      <td>NaN</td>\n      <td>NaN</td>\n    </tr>\n    <tr>\n      <th>1</th>\n      <td>1000291</td>\n      <td>False</td>\n      <td>True</td>\n      <td>[[23/07/2003, MI]]</td>\n      <td>NaN</td>\n      <td>NaN</td>\n      <td>NaN</td>\n      <td>NaN</td>\n      <td>NaN</td>\n      <td>NaN</td>\n      <td>...</td>\n      <td>2003-07-23</td>\n      <td>MI</td>\n      <td>NaT</td>\n      <td>1948-01-01</td>\n      <td>1</td>\n      <td>False</td>\n      <td>NaN</td>\n      <td>[nan]</td>\n      <td>NaN</td>\n      <td>NaN</td>\n    </tr>\n    <tr>\n      <th>2</th>\n      <td>1000584</td>\n      <td>False</td>\n      <td>True</td>\n      <td>[[05/11/1996, MI]]</td>\n      <td>NaN</td>\n      <td>NaN</td>\n      <td>NaN</td>\n      <td>NaN</td>\n      <td>NaN</td>\n      <td>NaN</td>\n      <td>...</td>\n      <td>1996-11-05</td>\n      <td>MI</td>\n      <td>NaT</td>\n      <td>1951-01-01</td>\n      <td>1</td>\n      <td>False</td>\n      <td>NaN</td>\n      <td>[nan]</td>\n      <td>NaN</td>\n      <td>NaN</td>\n    </tr>\n    <tr>\n      <th>3</th>\n      <td>1001104</td>\n      <td>False</td>\n      <td>True</td>\n      <td>[[nan]]</td>\n      <td>NaN</td>\n      <td>NaN</td>\n      <td>NaN</td>\n      <td>NaN</td>\n      <td>NaN</td>\n      <td>NaN</td>\n      <td>...</td>\n      <td>NaT</td>\n      <td>NaN</td>\n      <td>NaT</td>\n      <td>1938-01-01</td>\n      <td>0</td>\n      <td>False</td>\n      <td>NaN</td>\n      <td>[nan]</td>\n      <td>NaN</td>\n      <td>NaN</td>\n    </tr>\n    <tr>\n      <th>4</th>\n      <td>1001162</td>\n      <td>True</td>\n      <td>False</td>\n      <td>[[nan]]</td>\n      <td>NaN</td>\n      <td>NaN</td>\n      <td>NaN</td>\n      <td>NaN</td>\n      <td>NaN</td>\n      <td>NaN</td>\n      <td>...</td>\n      <td>NaT</td>\n      <td>NaN</td>\n      <td>NaT</td>\n      <td>1947-01-01</td>\n      <td>0</td>\n      <td>False</td>\n      <td>NaN</td>\n      <td>[nan]</td>\n      <td>NaN</td>\n      <td>NaN</td>\n    </tr>\n    <tr>\n      <th>...</th>\n      <td>...</td>\n      <td>...</td>\n      <td>...</td>\n      <td>...</td>\n      <td>...</td>\n      <td>...</td>\n      <td>...</td>\n      <td>...</td>\n      <td>...</td>\n      <td>...</td>\n      <td>...</td>\n      <td>...</td>\n      <td>...</td>\n      <td>...</td>\n      <td>...</td>\n      <td>...</td>\n      <td>...</td>\n      <td>...</td>\n      <td>...</td>\n      <td>...</td>\n      <td>...</td>\n    </tr>\n    <tr>\n      <th>30521</th>\n      <td>6021699</td>\n      <td>NaN</td>\n      <td>NaN</td>\n      <td>[]</td>\n      <td>[3, 3]</td>\n      <td>[19/01/2012, 07/02/2012]</td>\n      <td>[nan, nan]</td>\n      <td>[XaINF, XaINF]</td>\n      <td>[nan, nan]</td>\n      <td>[nan, nan]</td>\n      <td>...</td>\n      <td>2012-01-19</td>\n      <td>MI</td>\n      <td>NaT</td>\n      <td>1949-01-01</td>\n      <td>2</td>\n      <td>False</td>\n      <td>NaN</td>\n      <td>[nan]</td>\n      <td>NaN</td>\n      <td>NaN</td>\n    </tr>\n    <tr>\n      <th>30522</th>\n      <td>6021968</td>\n      <td>NaN</td>\n      <td>NaN</td>\n      <td>[]</td>\n      <td>[4]</td>\n      <td>[02/06/2015]</td>\n      <td>[G65..]</td>\n      <td>[nan]</td>\n      <td>[nan]</td>\n      <td>[nan]</td>\n      <td>...</td>\n      <td>2015-06-02</td>\n      <td>Stroke</td>\n      <td>NaT</td>\n      <td>1941-01-01</td>\n      <td>1</td>\n      <td>False</td>\n      <td>NaN</td>\n      <td>[nan]</td>\n      <td>NaN</td>\n      <td>NaN</td>\n    </tr>\n    <tr>\n      <th>30523</th>\n      <td>6022686</td>\n      <td>NaN</td>\n      <td>NaN</td>\n      <td>[]</td>\n      <td>[3, 3, 3, 3, 3, 3]</td>\n      <td>[17/01/2011, 14/02/2011, 14/03/2011, 13/04/201...</td>\n      <td>[nan, nan, nan, nan, nan, nan]</td>\n      <td>[XE2aB, XE2aB, XE2aB, XE2aB, XE2aB, XE2aB]</td>\n      <td>[nan, nan, nan, nan, nan, nan]</td>\n      <td>[nan, nan, nan, nan, nan, nan]</td>\n      <td>...</td>\n      <td>2011-01-17</td>\n      <td>Stroke</td>\n      <td>2011-02-14</td>\n      <td>1954-01-01</td>\n      <td>6</td>\n      <td>False</td>\n      <td>0.919937</td>\n      <td>[nan, nan, nan, nan, nan, nan]</td>\n      <td>NaN</td>\n      <td>NaN</td>\n    </tr>\n    <tr>\n      <th>30524</th>\n      <td>6022831</td>\n      <td>NaN</td>\n      <td>NaN</td>\n      <td>[]</td>\n      <td>[3]</td>\n      <td>[01/07/2005]</td>\n      <td>[nan]</td>\n      <td>[XE0VK]</td>\n      <td>[nan]</td>\n      <td>[nan]</td>\n      <td>...</td>\n      <td>2005-07-01</td>\n      <td>Stroke</td>\n      <td>NaT</td>\n      <td>1939-01-01</td>\n      <td>1</td>\n      <td>False</td>\n      <td>NaN</td>\n      <td>[nan]</td>\n      <td>NaN</td>\n      <td>NaN</td>\n    </tr>\n    <tr>\n      <th>30525</th>\n      <td>6023090</td>\n      <td>NaN</td>\n      <td>NaN</td>\n      <td>[]</td>\n      <td>[3]</td>\n      <td>[29/07/2005]</td>\n      <td>[nan]</td>\n      <td>[XE2uV]</td>\n      <td>[nan]</td>\n      <td>[nan]</td>\n      <td>...</td>\n      <td>2005-07-29</td>\n      <td>CAD</td>\n      <td>NaT</td>\n      <td>1939-01-01</td>\n      <td>1</td>\n      <td>False</td>\n      <td>NaN</td>\n      <td>[nan]</td>\n      <td>NaN</td>\n      <td>NaN</td>\n    </tr>\n  </tbody>\n</table>\n<p>30526 rows × 27 columns</p>\n</div>"
     },
     "metadata": {},
     "execution_count": 151
    }
   ],
   "source": [
    "records2"
   ]
  },
  {
   "cell_type": "code",
   "execution_count": 152,
   "metadata": {},
   "outputs": [],
   "source": [
    "records2['nohosp'] = [x.count('H') for x in records2['hospitalisation']]"
   ]
  },
  {
   "cell_type": "code",
   "execution_count": 161,
   "metadata": {},
   "outputs": [
    {
     "output_type": "execute_result",
     "data": {
      "text/plain": "           eid stroke     ha               date_diag       data_provider  \\\n0      1000063   True  False  [[09/01/2003, Stroke]]                 NaN   \n1      1000291  False   True      [[23/07/2003, MI]]                 NaN   \n2      1000584  False   True      [[05/11/1996, MI]]                 NaN   \n3      1001104  False   True                 [[nan]]                 NaN   \n4      1001162   True  False                 [[nan]]                 NaN   \n...        ...    ...    ...                     ...                 ...   \n30521  6021699    NaN    NaN                      []              [3, 3]   \n30522  6021968    NaN    NaN                      []                 [4]   \n30523  6022686    NaN    NaN                      []  [3, 3, 3, 3, 3, 3]   \n30524  6022831    NaN    NaN                      []                 [3]   \n30525  6023090    NaN    NaN                      []                 [3]   \n\n                                                event_dt  \\\n0                                                    NaN   \n1                                                    NaN   \n2                                                    NaN   \n3                                                    NaN   \n4                                                    NaN   \n...                                                  ...   \n30521                           [19/01/2012, 07/02/2012]   \n30522                                       [02/06/2015]   \n30523  [17/01/2011, 14/02/2011, 14/03/2011, 13/04/201...   \n30524                                       [01/07/2005]   \n30525                                       [29/07/2005]   \n\n                               read_2  \\\n0                                 NaN   \n1                                 NaN   \n2                                 NaN   \n3                                 NaN   \n4                                 NaN   \n...                               ...   \n30521                      [nan, nan]   \n30522                         [G65..]   \n30523  [nan, nan, nan, nan, nan, nan]   \n30524                           [nan]   \n30525                           [nan]   \n\n                                           read_3  \\\n0                                             NaN   \n1                                             NaN   \n2                                             NaN   \n3                                             NaN   \n4                                             NaN   \n...                                           ...   \n30521                              [XaINF, XaINF]   \n30522                                       [nan]   \n30523  [XE2aB, XE2aB, XE2aB, XE2aB, XE2aB, XE2aB]   \n30524                                     [XE0VK]   \n30525                                     [XE2uV]   \n\n                               value1                          value2  ...  \\\n0                                 NaN                             NaN  ...   \n1                                 NaN                             NaN  ...   \n2                                 NaN                             NaN  ...   \n3                                 NaN                             NaN  ...   \n4                                 NaN                             NaN  ...   \n...                               ...                             ...  ...   \n30521                      [nan, nan]                      [nan, nan]  ...   \n30522                           [nan]                           [nan]  ...   \n30523  [nan, nan, nan, nan, nan, nan]  [nan, nan, nan, nan, nan, nan]  ...   \n30524                           [nan]                           [nan]  ...   \n30525                           [nan]                           [nan]  ...   \n\n      first_record_diag first_stroke_after_d   yr_birth noRecords  \\\n0                Stroke                  NaT 1939-01-01         1   \n1                    MI                  NaT 1948-01-01         1   \n2                    MI                  NaT 1951-01-01         1   \n3                   NaN                  NaT 1938-01-01         0   \n4                   NaN                  NaT 1947-01-01         0   \n...                 ...                  ...        ...       ...   \n30521                MI                  NaT 1949-01-01         2   \n30522            Stroke                  NaT 1941-01-01         1   \n30523            Stroke           2011-02-14 1954-01-01         6   \n30524            Stroke                  NaT 1939-01-01         1   \n30525               CAD                  NaT 1939-01-01         1   \n\n       discrepancy event_int                 hospitalisation deathdate  \\\n0            False       NaN                           [nan]       NaN   \n1            False       NaN                           [nan]       NaN   \n2            False       NaN                           [nan]       NaN   \n3            False       NaN                           [nan]       NaN   \n4            False       NaN                           [nan]       NaN   \n...            ...       ...                             ...       ...   \n30521        False       NaN                           [nan]       NaN   \n30522        False       NaN                           [nan]       NaN   \n30523        False  0.919937  [nan, nan, nan, nan, nan, nan]       NaN   \n30524        False       NaN                           [nan]       NaN   \n30525        False       NaN                           [nan]       NaN   \n\n      deathstat nohosp  \n0           NaN      0  \n1           NaN      0  \n2           NaN      0  \n3           NaN      0  \n4           NaN      0  \n...         ...    ...  \n30521       NaN      0  \n30522       NaN      0  \n30523       NaN      0  \n30524       NaN      0  \n30525       NaN      0  \n\n[30526 rows x 28 columns]",
      "text/html": "<div>\n<style scoped>\n    .dataframe tbody tr th:only-of-type {\n        vertical-align: middle;\n    }\n\n    .dataframe tbody tr th {\n        vertical-align: top;\n    }\n\n    .dataframe thead th {\n        text-align: right;\n    }\n</style>\n<table border=\"1\" class=\"dataframe\">\n  <thead>\n    <tr style=\"text-align: right;\">\n      <th></th>\n      <th>eid</th>\n      <th>stroke</th>\n      <th>ha</th>\n      <th>date_diag</th>\n      <th>data_provider</th>\n      <th>event_dt</th>\n      <th>read_2</th>\n      <th>read_3</th>\n      <th>value1</th>\n      <th>value2</th>\n      <th>...</th>\n      <th>first_record_diag</th>\n      <th>first_stroke_after_d</th>\n      <th>yr_birth</th>\n      <th>noRecords</th>\n      <th>discrepancy</th>\n      <th>event_int</th>\n      <th>hospitalisation</th>\n      <th>deathdate</th>\n      <th>deathstat</th>\n      <th>nohosp</th>\n    </tr>\n  </thead>\n  <tbody>\n    <tr>\n      <th>0</th>\n      <td>1000063</td>\n      <td>True</td>\n      <td>False</td>\n      <td>[[09/01/2003, Stroke]]</td>\n      <td>NaN</td>\n      <td>NaN</td>\n      <td>NaN</td>\n      <td>NaN</td>\n      <td>NaN</td>\n      <td>NaN</td>\n      <td>...</td>\n      <td>Stroke</td>\n      <td>NaT</td>\n      <td>1939-01-01</td>\n      <td>1</td>\n      <td>False</td>\n      <td>NaN</td>\n      <td>[nan]</td>\n      <td>NaN</td>\n      <td>NaN</td>\n      <td>0</td>\n    </tr>\n    <tr>\n      <th>1</th>\n      <td>1000291</td>\n      <td>False</td>\n      <td>True</td>\n      <td>[[23/07/2003, MI]]</td>\n      <td>NaN</td>\n      <td>NaN</td>\n      <td>NaN</td>\n      <td>NaN</td>\n      <td>NaN</td>\n      <td>NaN</td>\n      <td>...</td>\n      <td>MI</td>\n      <td>NaT</td>\n      <td>1948-01-01</td>\n      <td>1</td>\n      <td>False</td>\n      <td>NaN</td>\n      <td>[nan]</td>\n      <td>NaN</td>\n      <td>NaN</td>\n      <td>0</td>\n    </tr>\n    <tr>\n      <th>2</th>\n      <td>1000584</td>\n      <td>False</td>\n      <td>True</td>\n      <td>[[05/11/1996, MI]]</td>\n      <td>NaN</td>\n      <td>NaN</td>\n      <td>NaN</td>\n      <td>NaN</td>\n      <td>NaN</td>\n      <td>NaN</td>\n      <td>...</td>\n      <td>MI</td>\n      <td>NaT</td>\n      <td>1951-01-01</td>\n      <td>1</td>\n      <td>False</td>\n      <td>NaN</td>\n      <td>[nan]</td>\n      <td>NaN</td>\n      <td>NaN</td>\n      <td>0</td>\n    </tr>\n    <tr>\n      <th>3</th>\n      <td>1001104</td>\n      <td>False</td>\n      <td>True</td>\n      <td>[[nan]]</td>\n      <td>NaN</td>\n      <td>NaN</td>\n      <td>NaN</td>\n      <td>NaN</td>\n      <td>NaN</td>\n      <td>NaN</td>\n      <td>...</td>\n      <td>NaN</td>\n      <td>NaT</td>\n      <td>1938-01-01</td>\n      <td>0</td>\n      <td>False</td>\n      <td>NaN</td>\n      <td>[nan]</td>\n      <td>NaN</td>\n      <td>NaN</td>\n      <td>0</td>\n    </tr>\n    <tr>\n      <th>4</th>\n      <td>1001162</td>\n      <td>True</td>\n      <td>False</td>\n      <td>[[nan]]</td>\n      <td>NaN</td>\n      <td>NaN</td>\n      <td>NaN</td>\n      <td>NaN</td>\n      <td>NaN</td>\n      <td>NaN</td>\n      <td>...</td>\n      <td>NaN</td>\n      <td>NaT</td>\n      <td>1947-01-01</td>\n      <td>0</td>\n      <td>False</td>\n      <td>NaN</td>\n      <td>[nan]</td>\n      <td>NaN</td>\n      <td>NaN</td>\n      <td>0</td>\n    </tr>\n    <tr>\n      <th>...</th>\n      <td>...</td>\n      <td>...</td>\n      <td>...</td>\n      <td>...</td>\n      <td>...</td>\n      <td>...</td>\n      <td>...</td>\n      <td>...</td>\n      <td>...</td>\n      <td>...</td>\n      <td>...</td>\n      <td>...</td>\n      <td>...</td>\n      <td>...</td>\n      <td>...</td>\n      <td>...</td>\n      <td>...</td>\n      <td>...</td>\n      <td>...</td>\n      <td>...</td>\n      <td>...</td>\n    </tr>\n    <tr>\n      <th>30521</th>\n      <td>6021699</td>\n      <td>NaN</td>\n      <td>NaN</td>\n      <td>[]</td>\n      <td>[3, 3]</td>\n      <td>[19/01/2012, 07/02/2012]</td>\n      <td>[nan, nan]</td>\n      <td>[XaINF, XaINF]</td>\n      <td>[nan, nan]</td>\n      <td>[nan, nan]</td>\n      <td>...</td>\n      <td>MI</td>\n      <td>NaT</td>\n      <td>1949-01-01</td>\n      <td>2</td>\n      <td>False</td>\n      <td>NaN</td>\n      <td>[nan]</td>\n      <td>NaN</td>\n      <td>NaN</td>\n      <td>0</td>\n    </tr>\n    <tr>\n      <th>30522</th>\n      <td>6021968</td>\n      <td>NaN</td>\n      <td>NaN</td>\n      <td>[]</td>\n      <td>[4]</td>\n      <td>[02/06/2015]</td>\n      <td>[G65..]</td>\n      <td>[nan]</td>\n      <td>[nan]</td>\n      <td>[nan]</td>\n      <td>...</td>\n      <td>Stroke</td>\n      <td>NaT</td>\n      <td>1941-01-01</td>\n      <td>1</td>\n      <td>False</td>\n      <td>NaN</td>\n      <td>[nan]</td>\n      <td>NaN</td>\n      <td>NaN</td>\n      <td>0</td>\n    </tr>\n    <tr>\n      <th>30523</th>\n      <td>6022686</td>\n      <td>NaN</td>\n      <td>NaN</td>\n      <td>[]</td>\n      <td>[3, 3, 3, 3, 3, 3]</td>\n      <td>[17/01/2011, 14/02/2011, 14/03/2011, 13/04/201...</td>\n      <td>[nan, nan, nan, nan, nan, nan]</td>\n      <td>[XE2aB, XE2aB, XE2aB, XE2aB, XE2aB, XE2aB]</td>\n      <td>[nan, nan, nan, nan, nan, nan]</td>\n      <td>[nan, nan, nan, nan, nan, nan]</td>\n      <td>...</td>\n      <td>Stroke</td>\n      <td>2011-02-14</td>\n      <td>1954-01-01</td>\n      <td>6</td>\n      <td>False</td>\n      <td>0.919937</td>\n      <td>[nan, nan, nan, nan, nan, nan]</td>\n      <td>NaN</td>\n      <td>NaN</td>\n      <td>0</td>\n    </tr>\n    <tr>\n      <th>30524</th>\n      <td>6022831</td>\n      <td>NaN</td>\n      <td>NaN</td>\n      <td>[]</td>\n      <td>[3]</td>\n      <td>[01/07/2005]</td>\n      <td>[nan]</td>\n      <td>[XE0VK]</td>\n      <td>[nan]</td>\n      <td>[nan]</td>\n      <td>...</td>\n      <td>Stroke</td>\n      <td>NaT</td>\n      <td>1939-01-01</td>\n      <td>1</td>\n      <td>False</td>\n      <td>NaN</td>\n      <td>[nan]</td>\n      <td>NaN</td>\n      <td>NaN</td>\n      <td>0</td>\n    </tr>\n    <tr>\n      <th>30525</th>\n      <td>6023090</td>\n      <td>NaN</td>\n      <td>NaN</td>\n      <td>[]</td>\n      <td>[3]</td>\n      <td>[29/07/2005]</td>\n      <td>[nan]</td>\n      <td>[XE2uV]</td>\n      <td>[nan]</td>\n      <td>[nan]</td>\n      <td>...</td>\n      <td>CAD</td>\n      <td>NaT</td>\n      <td>1939-01-01</td>\n      <td>1</td>\n      <td>False</td>\n      <td>NaN</td>\n      <td>[nan]</td>\n      <td>NaN</td>\n      <td>NaN</td>\n      <td>0</td>\n    </tr>\n  </tbody>\n</table>\n<p>30526 rows × 28 columns</p>\n</div>"
     },
     "metadata": {},
     "execution_count": 161
    }
   ],
   "source": [
    "records2"
   ]
  },
  {
   "cell_type": "code",
   "execution_count": 172,
   "metadata": {},
   "outputs": [
    {
     "output_type": "execute_result",
     "data": {
      "text/plain": "True     29709\nFalse      817\nName: deathstat, dtype: int64"
     },
     "metadata": {},
     "execution_count": 172
    }
   ],
   "source": [
    "records2['deathstat'].isnull().value_counts()"
   ]
  },
  {
   "cell_type": "code",
   "execution_count": 155,
   "metadata": {},
   "outputs": [],
   "source": [
    "records2.to_pickle('../primary_care/records2.pkl')"
   ]
  },
  {
   "cell_type": "code",
   "execution_count": null,
   "metadata": {},
   "outputs": [],
   "source": []
  }
 ],
 "metadata": {
  "language_info": {
   "codemirror_mode": {
    "name": "ipython",
    "version": 3
   },
   "file_extension": ".py",
   "mimetype": "text/x-python",
   "name": "python",
   "nbconvert_exporter": "python",
   "pygments_lexer": "ipython3",
   "version": "3.7.6-final"
  },
  "orig_nbformat": 2,
  "kernelspec": {
   "name": "python3",
   "display_name": "Python 3"
  }
 },
 "nbformat": 4,
 "nbformat_minor": 2
}