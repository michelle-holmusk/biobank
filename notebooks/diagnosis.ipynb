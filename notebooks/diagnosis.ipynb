{
 "cells": [
  {
   "cell_type": "markdown",
   "metadata": {},
   "source": [
    "# Objective\n",
    "\n",
    "# Packages"
   ]
  },
  {
   "cell_type": "code",
   "execution_count": 89,
   "metadata": {},
   "outputs": [],
   "source": [
    "import pandas as pd \n",
    "import numpy as np \n",
    "import scipy.stats as stats\n",
    "import seaborn as sns\n",
    "import matplotlib.pyplot as plt\n",
    "from datetime import datetime\n",
    "from itertools import compress\n",
    "from matplotlib.ticker import PercentFormatter\n",
    "from matplotlib_venn import venn3, venn2, venn2_circles\n",
    "%matplotlib inline"
   ]
  },
  {
   "cell_type": "markdown",
   "metadata": {},
   "source": [
    "# Datasets"
   ]
  },
  {
   "cell_type": "code",
   "execution_count": 3,
   "metadata": {},
   "outputs": [],
   "source": [
    "record = pd.read_pickle('../primary_care/records2.pkl')"
   ]
  },
  {
   "cell_type": "code",
   "execution_count": 4,
   "metadata": {},
   "outputs": [],
   "source": [
    "pri_cli = pd.read_csv('../primary_care/gp_clinical.txt', sep = '\\t', encoding='ISO-8859-1')"
   ]
  },
  {
   "cell_type": "code",
   "execution_count": 14,
   "metadata": {},
   "outputs": [],
   "source": [
    "diag = pd.read_excel('../primary_care/diagnosis_cvd.xlsx')"
   ]
  },
  {
   "cell_type": "markdown",
   "metadata": {},
   "source": [
    "# Specifying dataset"
   ]
  },
  {
   "cell_type": "code",
   "execution_count": 10,
   "metadata": {},
   "outputs": [],
   "source": [
    "rec = record[(record['discrepancy'] == False) & (record['event_int'] > 0)]"
   ]
  },
  {
   "cell_type": "code",
   "execution_count": 11,
   "metadata": {},
   "outputs": [],
   "source": [
    "patients = list(rec['eid'].values)"
   ]
  },
  {
   "cell_type": "code",
   "execution_count": 12,
   "metadata": {},
   "outputs": [],
   "source": [
    "pri = pri_cli[pri_cli['eid'].isin(patients)].reset_index()"
   ]
  },
  {
   "cell_type": "markdown",
   "metadata": {},
   "source": [
    "# Diagnosis"
   ]
  },
  {
   "cell_type": "code",
   "execution_count": 15,
   "metadata": {},
   "outputs": [
    {
     "output_type": "execute_result",
     "data": {
      "text/plain": "    CHAPTER READV2_CODE                        READV2_DESC  \\\n0         6       6879.             Hyperlipidaemia screen   \n1         C       C3202           Hyperlipidaemia, group A   \n2         C       C3220  Familial combined hyperlipidaemia   \n3         C       C324.                Hyperlipidaemia NOS   \n4         C       C322.              Mixed hyperlipidaemia   \n..      ...         ...                                ...   \n467       C       C321.            Pure hyperglyceridaemia   \n468       C       C3210              Hypertriglyceridaemia   \n469       C       C322.              Mixed hyperlipidaemia   \n470       C       C328.                      Dyslipidaemia   \n471       C       C329.              Hypercholesterolaemia   \n\n                           TERMV2_DESC  TERMV2_ORDER TERMV2_TYPE READV3_CODE  \\\n0               Hyperlipidaemia screen             0           P       XE1Td   \n1             Hyperlipidaemia, group A             0           P       C3202   \n2    Familial combined hyperlipidaemia             0           P       X40Vm   \n3                  Hyperlipidaemia NOS             0           P       C324.   \n4                Mixed hyperlipidaemia             0           P       XE11U   \n..                                 ...           ...         ...         ...   \n467            Pure hyperglyceridaemia             0           P       XE11T   \n468              Hypertriglyceridaemia             0           P       Xa9At   \n469              Mixed hyperlipidaemia             0           P       XE11U   \n470                      Dyslipidaemia             0           P       XaL5p   \n471              Hypercholesterolaemia             0           P       Xa9As   \n\n    TERMV3_CODE TERMV3_TYPE                        TERMV3_DESC  IS_ASSURED  \\\n0         YaemR           P          Hyperlipidaemia screening           1   \n1         Y41wk           P           Hyperlipidaemia, group A           1   \n2         Y41se           P  Familial combined hyperlipidaemia           1   \n3         Y41wh           P                Hyperlipidaemia NOS           1   \n4         Y41xO           P              Mixed hyperlipidaemia           1   \n..          ...         ...                                ...         ...   \n467       Y41x7           P            Pure hyperglyceridaemia           1   \n468       Y41x6           P              Hypertriglyceridaemia           1   \n469       Y41xO           P              Mixed hyperlipidaemia           1   \n470       YarER           P                      Dyslipidaemia           1   \n471       Y41wi           P              Hypercholesterolaemia           1   \n\n           diagnosis  \n0    hyperlipidaemia  \n1    hyperlipidaemia  \n2    hyperlipidaemia  \n3    hyperlipidaemia  \n4    hyperlipidaemia  \n..               ...  \n467  hyperlipidaemia  \n468  hyperlipidaemia  \n469  hyperlipidaemia  \n470  hyperlipidaemia  \n471  hyperlipidaemia  \n\n[472 rows x 12 columns]",
      "text/html": "<div>\n<style scoped>\n    .dataframe tbody tr th:only-of-type {\n        vertical-align: middle;\n    }\n\n    .dataframe tbody tr th {\n        vertical-align: top;\n    }\n\n    .dataframe thead th {\n        text-align: right;\n    }\n</style>\n<table border=\"1\" class=\"dataframe\">\n  <thead>\n    <tr style=\"text-align: right;\">\n      <th></th>\n      <th>CHAPTER</th>\n      <th>READV2_CODE</th>\n      <th>READV2_DESC</th>\n      <th>TERMV2_DESC</th>\n      <th>TERMV2_ORDER</th>\n      <th>TERMV2_TYPE</th>\n      <th>READV3_CODE</th>\n      <th>TERMV3_CODE</th>\n      <th>TERMV3_TYPE</th>\n      <th>TERMV3_DESC</th>\n      <th>IS_ASSURED</th>\n      <th>diagnosis</th>\n    </tr>\n  </thead>\n  <tbody>\n    <tr>\n      <th>0</th>\n      <td>6</td>\n      <td>6879.</td>\n      <td>Hyperlipidaemia screen</td>\n      <td>Hyperlipidaemia screen</td>\n      <td>0</td>\n      <td>P</td>\n      <td>XE1Td</td>\n      <td>YaemR</td>\n      <td>P</td>\n      <td>Hyperlipidaemia screening</td>\n      <td>1</td>\n      <td>hyperlipidaemia</td>\n    </tr>\n    <tr>\n      <th>1</th>\n      <td>C</td>\n      <td>C3202</td>\n      <td>Hyperlipidaemia, group A</td>\n      <td>Hyperlipidaemia, group A</td>\n      <td>0</td>\n      <td>P</td>\n      <td>C3202</td>\n      <td>Y41wk</td>\n      <td>P</td>\n      <td>Hyperlipidaemia, group A</td>\n      <td>1</td>\n      <td>hyperlipidaemia</td>\n    </tr>\n    <tr>\n      <th>2</th>\n      <td>C</td>\n      <td>C3220</td>\n      <td>Familial combined hyperlipidaemia</td>\n      <td>Familial combined hyperlipidaemia</td>\n      <td>0</td>\n      <td>P</td>\n      <td>X40Vm</td>\n      <td>Y41se</td>\n      <td>P</td>\n      <td>Familial combined hyperlipidaemia</td>\n      <td>1</td>\n      <td>hyperlipidaemia</td>\n    </tr>\n    <tr>\n      <th>3</th>\n      <td>C</td>\n      <td>C324.</td>\n      <td>Hyperlipidaemia NOS</td>\n      <td>Hyperlipidaemia NOS</td>\n      <td>0</td>\n      <td>P</td>\n      <td>C324.</td>\n      <td>Y41wh</td>\n      <td>P</td>\n      <td>Hyperlipidaemia NOS</td>\n      <td>1</td>\n      <td>hyperlipidaemia</td>\n    </tr>\n    <tr>\n      <th>4</th>\n      <td>C</td>\n      <td>C322.</td>\n      <td>Mixed hyperlipidaemia</td>\n      <td>Mixed hyperlipidaemia</td>\n      <td>0</td>\n      <td>P</td>\n      <td>XE11U</td>\n      <td>Y41xO</td>\n      <td>P</td>\n      <td>Mixed hyperlipidaemia</td>\n      <td>1</td>\n      <td>hyperlipidaemia</td>\n    </tr>\n    <tr>\n      <th>...</th>\n      <td>...</td>\n      <td>...</td>\n      <td>...</td>\n      <td>...</td>\n      <td>...</td>\n      <td>...</td>\n      <td>...</td>\n      <td>...</td>\n      <td>...</td>\n      <td>...</td>\n      <td>...</td>\n      <td>...</td>\n    </tr>\n    <tr>\n      <th>467</th>\n      <td>C</td>\n      <td>C321.</td>\n      <td>Pure hyperglyceridaemia</td>\n      <td>Pure hyperglyceridaemia</td>\n      <td>0</td>\n      <td>P</td>\n      <td>XE11T</td>\n      <td>Y41x7</td>\n      <td>P</td>\n      <td>Pure hyperglyceridaemia</td>\n      <td>1</td>\n      <td>hyperlipidaemia</td>\n    </tr>\n    <tr>\n      <th>468</th>\n      <td>C</td>\n      <td>C3210</td>\n      <td>Hypertriglyceridaemia</td>\n      <td>Hypertriglyceridaemia</td>\n      <td>0</td>\n      <td>P</td>\n      <td>Xa9At</td>\n      <td>Y41x6</td>\n      <td>P</td>\n      <td>Hypertriglyceridaemia</td>\n      <td>1</td>\n      <td>hyperlipidaemia</td>\n    </tr>\n    <tr>\n      <th>469</th>\n      <td>C</td>\n      <td>C322.</td>\n      <td>Mixed hyperlipidaemia</td>\n      <td>Mixed hyperlipidaemia</td>\n      <td>0</td>\n      <td>P</td>\n      <td>XE11U</td>\n      <td>Y41xO</td>\n      <td>P</td>\n      <td>Mixed hyperlipidaemia</td>\n      <td>1</td>\n      <td>hyperlipidaemia</td>\n    </tr>\n    <tr>\n      <th>470</th>\n      <td>C</td>\n      <td>C328.</td>\n      <td>Dyslipidaemia</td>\n      <td>Dyslipidaemia</td>\n      <td>0</td>\n      <td>P</td>\n      <td>XaL5p</td>\n      <td>YarER</td>\n      <td>P</td>\n      <td>Dyslipidaemia</td>\n      <td>1</td>\n      <td>hyperlipidaemia</td>\n    </tr>\n    <tr>\n      <th>471</th>\n      <td>C</td>\n      <td>C329.</td>\n      <td>Hypercholesterolaemia</td>\n      <td>Hypercholesterolaemia</td>\n      <td>0</td>\n      <td>P</td>\n      <td>Xa9As</td>\n      <td>Y41wi</td>\n      <td>P</td>\n      <td>Hypercholesterolaemia</td>\n      <td>1</td>\n      <td>hyperlipidaemia</td>\n    </tr>\n  </tbody>\n</table>\n<p>472 rows × 12 columns</p>\n</div>"
     },
     "metadata": {},
     "execution_count": 15
    }
   ],
   "source": [
    "diag"
   ]
  },
  {
   "cell_type": "code",
   "execution_count": 16,
   "metadata": {},
   "outputs": [
    {
     "output_type": "execute_result",
     "data": {
      "text/plain": "array(['hyperlipidaemia', 'hypertension', 'PAD', 'CKD', 'diabetes'],\n      dtype=object)"
     },
     "metadata": {},
     "execution_count": 16
    }
   ],
   "source": [
    "diag['diagnosis'].unique()"
   ]
  },
  {
   "cell_type": "code",
   "execution_count": 17,
   "metadata": {},
   "outputs": [],
   "source": [
    "diagnosis_codes = {\n",
    "    'hyperlipidaemia': {\n",
    "        'read2': list(diag[diag['diagnosis'] == 'hyperlipidaemia']['READV2_CODE']),\n",
    "        'read3': list(diag[diag['diagnosis'] == 'hyperlipidaemia']['READV3_CODE'])\n",
    "    },\n",
    "    'hypertension': {\n",
    "        'read2': list(diag[diag['diagnosis'] == 'hypertension']['READV2_CODE']),\n",
    "        'read3': list(diag[diag['diagnosis'] == 'hypertension']['READV3_CODE'])\n",
    "    }, \n",
    "    'PAD': {\n",
    "        'read2': list(diag[diag['diagnosis'] == 'PAD']['READV2_CODE']),\n",
    "        'read3': list(diag[diag['diagnosis'] == 'PAD']['READV3_CODE'])\n",
    "    },\n",
    "    'CKD': {\n",
    "        'read2': list(diag[diag['diagnosis'] == 'CKD']['READV2_CODE']),\n",
    "        'read3': list(diag[diag['diagnosis'] == 'CKD']['READV3_CODE'])\n",
    "    },\n",
    "    'diabetes': {\n",
    "        'read2': list(diag[diag['diagnosis'] == 'diabetes']['READV2_CODE']),\n",
    "        'read3': list(diag[diag['diagnosis'] == 'diabetes']['READV3_CODE'])\n",
    "    }, \n",
    "    'all': {\n",
    "        'read2': list(diag['READV2_CODE']),\n",
    "        'read3': list(diag['READV3_CODE'])\n",
    "    }\n",
    "}"
   ]
  },
  {
   "cell_type": "code",
   "execution_count": 27,
   "metadata": {},
   "outputs": [],
   "source": [
    "diag_pri = pri[pri['read_2'].isin(diagnosis_codes['all']['read2'])| pri['read_3'].isin(diagnosis_codes['all']['read3'])]"
   ]
  },
  {
   "cell_type": "code",
   "execution_count": 28,
   "metadata": {},
   "outputs": [],
   "source": [
    "diag_pri.drop('index', axis = 1, inplace = True)"
   ]
  },
  {
   "cell_type": "code",
   "execution_count": 33,
   "metadata": {},
   "outputs": [],
   "source": [
    "diag_pri.drop('event_dt', axis = 1, inplace = True)"
   ]
  },
  {
   "cell_type": "code",
   "execution_count": 35,
   "metadata": {},
   "outputs": [],
   "source": [
    "diag_pri.drop_duplicates(keep = 'first', inplace = True)\n"
   ]
  },
  {
   "cell_type": "code",
   "execution_count": 40,
   "metadata": {},
   "outputs": [],
   "source": [
    "new_diag_pri = diag_pri.groupby('eid').agg(list).reset_index()"
   ]
  },
  {
   "cell_type": "code",
   "execution_count": 41,
   "metadata": {},
   "outputs": [
    {
     "output_type": "execute_result",
     "data": {
      "text/plain": "          eid       data_provider                          read_2  \\\n0     1000530                 [3]                           [nan]   \n1     1001624                 [1]                         [C324.]   \n2     1003479                 [3]                           [nan]   \n3     1004792              [3, 3]                      [nan, nan]   \n4     1009010  [3, 3, 3, 3, 3, 3]  [nan, nan, nan, nan, nan, nan]   \n...       ...                 ...                             ...   \n2653  6015613           [3, 3, 3]                 [nan, nan, nan]   \n2654  6015854                 [3]                           [nan]   \n2655  6019332                 [3]                           [nan]   \n2656  6020725           [3, 3, 3]                 [nan, nan, nan]   \n2657  6021143              [3, 3]                      [nan, nan]   \n\n                                          read_3  \\\n0                                        [XE0Uc]   \n1                                          [nan]   \n2                                        [XE0Uc]   \n3                                 [Xa9As, X40J5]   \n4     [C10.., X40J5, XaLHI, XaO3u, X40J6, X30In]   \n...                                          ...   \n2653                       [X40J5, Xa9As, X40J6]   \n2654                                     [XE0Uc]   \n2655                                     [XE0Ud]   \n2656                       [XE0Uc, XE11S, XE11U]   \n2657                              [XE11S, XE0Uc]   \n\n                              value1                          value2  \\\n0                              [nan]                           [nan]   \n1                              [nan]                           [nan]   \n2                              [nan]                           [nan]   \n3                         [nan, nan]                      [nan, nan]   \n4     [nan, nan, nan, nan, nan, nan]  [nan, nan, nan, nan, nan, nan]   \n...                              ...                             ...   \n2653                 [nan, nan, nan]                 [nan, nan, nan]   \n2654                           [nan]                           [nan]   \n2655                           [nan]                           [nan]   \n2656                 [nan, nan, nan]                 [nan, nan, nan]   \n2657                      [nan, nan]                      [nan, nan]   \n\n                              value3  \n0                              [nan]  \n1                              [nan]  \n2                              [nan]  \n3                         [nan, nan]  \n4     [nan, nan, nan, nan, nan, nan]  \n...                              ...  \n2653                 [nan, nan, nan]  \n2654                           [nan]  \n2655                           [nan]  \n2656                 [nan, nan, nan]  \n2657                      [nan, nan]  \n\n[2658 rows x 7 columns]",
      "text/html": "<div>\n<style scoped>\n    .dataframe tbody tr th:only-of-type {\n        vertical-align: middle;\n    }\n\n    .dataframe tbody tr th {\n        vertical-align: top;\n    }\n\n    .dataframe thead th {\n        text-align: right;\n    }\n</style>\n<table border=\"1\" class=\"dataframe\">\n  <thead>\n    <tr style=\"text-align: right;\">\n      <th></th>\n      <th>eid</th>\n      <th>data_provider</th>\n      <th>read_2</th>\n      <th>read_3</th>\n      <th>value1</th>\n      <th>value2</th>\n      <th>value3</th>\n    </tr>\n  </thead>\n  <tbody>\n    <tr>\n      <th>0</th>\n      <td>1000530</td>\n      <td>[3]</td>\n      <td>[nan]</td>\n      <td>[XE0Uc]</td>\n      <td>[nan]</td>\n      <td>[nan]</td>\n      <td>[nan]</td>\n    </tr>\n    <tr>\n      <th>1</th>\n      <td>1001624</td>\n      <td>[1]</td>\n      <td>[C324.]</td>\n      <td>[nan]</td>\n      <td>[nan]</td>\n      <td>[nan]</td>\n      <td>[nan]</td>\n    </tr>\n    <tr>\n      <th>2</th>\n      <td>1003479</td>\n      <td>[3]</td>\n      <td>[nan]</td>\n      <td>[XE0Uc]</td>\n      <td>[nan]</td>\n      <td>[nan]</td>\n      <td>[nan]</td>\n    </tr>\n    <tr>\n      <th>3</th>\n      <td>1004792</td>\n      <td>[3, 3]</td>\n      <td>[nan, nan]</td>\n      <td>[Xa9As, X40J5]</td>\n      <td>[nan, nan]</td>\n      <td>[nan, nan]</td>\n      <td>[nan, nan]</td>\n    </tr>\n    <tr>\n      <th>4</th>\n      <td>1009010</td>\n      <td>[3, 3, 3, 3, 3, 3]</td>\n      <td>[nan, nan, nan, nan, nan, nan]</td>\n      <td>[C10.., X40J5, XaLHI, XaO3u, X40J6, X30In]</td>\n      <td>[nan, nan, nan, nan, nan, nan]</td>\n      <td>[nan, nan, nan, nan, nan, nan]</td>\n      <td>[nan, nan, nan, nan, nan, nan]</td>\n    </tr>\n    <tr>\n      <th>...</th>\n      <td>...</td>\n      <td>...</td>\n      <td>...</td>\n      <td>...</td>\n      <td>...</td>\n      <td>...</td>\n      <td>...</td>\n    </tr>\n    <tr>\n      <th>2653</th>\n      <td>6015613</td>\n      <td>[3, 3, 3]</td>\n      <td>[nan, nan, nan]</td>\n      <td>[X40J5, Xa9As, X40J6]</td>\n      <td>[nan, nan, nan]</td>\n      <td>[nan, nan, nan]</td>\n      <td>[nan, nan, nan]</td>\n    </tr>\n    <tr>\n      <th>2654</th>\n      <td>6015854</td>\n      <td>[3]</td>\n      <td>[nan]</td>\n      <td>[XE0Uc]</td>\n      <td>[nan]</td>\n      <td>[nan]</td>\n      <td>[nan]</td>\n    </tr>\n    <tr>\n      <th>2655</th>\n      <td>6019332</td>\n      <td>[3]</td>\n      <td>[nan]</td>\n      <td>[XE0Ud]</td>\n      <td>[nan]</td>\n      <td>[nan]</td>\n      <td>[nan]</td>\n    </tr>\n    <tr>\n      <th>2656</th>\n      <td>6020725</td>\n      <td>[3, 3, 3]</td>\n      <td>[nan, nan, nan]</td>\n      <td>[XE0Uc, XE11S, XE11U]</td>\n      <td>[nan, nan, nan]</td>\n      <td>[nan, nan, nan]</td>\n      <td>[nan, nan, nan]</td>\n    </tr>\n    <tr>\n      <th>2657</th>\n      <td>6021143</td>\n      <td>[3, 3]</td>\n      <td>[nan, nan]</td>\n      <td>[XE11S, XE0Uc]</td>\n      <td>[nan, nan]</td>\n      <td>[nan, nan]</td>\n      <td>[nan, nan]</td>\n    </tr>\n  </tbody>\n</table>\n<p>2658 rows × 7 columns</p>\n</div>"
     },
     "metadata": {},
     "execution_count": 41
    }
   ],
   "source": [
    "new_diag_pri"
   ]
  },
  {
   "cell_type": "code",
   "execution_count": 45,
   "metadata": {},
   "outputs": [
    {
     "output_type": "execute_result",
     "data": {
      "text/plain": "float"
     },
     "metadata": {},
     "execution_count": 45
    }
   ],
   "source": [
    "type(new_diag_pri.iloc[0]['read_2'][0])"
   ]
  },
  {
   "cell_type": "markdown",
   "metadata": {},
   "source": [
    "# diabetes"
   ]
  },
  {
   "cell_type": "code",
   "execution_count": 64,
   "metadata": {},
   "outputs": [],
   "source": [
    "diabetes = pri[(pri['read_2'].isin(diagnosis_codes['diabetes']['read2']))|(pri['read_3'].isin(diagnosis_codes['diabetes']['read3']))]"
   ]
  },
  {
   "cell_type": "code",
   "execution_count": 65,
   "metadata": {},
   "outputs": [],
   "source": [
    "diabetes_df = diabetes.groupby('eid').agg(list).reset_index()"
   ]
  },
  {
   "cell_type": "code",
   "execution_count": 66,
   "metadata": {},
   "outputs": [],
   "source": [
    "diabetics = list(diabetes_df.eid)"
   ]
  },
  {
   "cell_type": "markdown",
   "metadata": {},
   "source": [
    "# CKD"
   ]
  },
  {
   "cell_type": "code",
   "execution_count": 67,
   "metadata": {},
   "outputs": [],
   "source": [
    "CKD = pri[(pri['read_2'].isin(diagnosis_codes['CKD']['read2']))|(pri['read_3'].isin(diagnosis_codes['CKD']['read3']))]\n"
   ]
  },
  {
   "cell_type": "code",
   "execution_count": 68,
   "metadata": {},
   "outputs": [],
   "source": [
    "CKD_df = CKD.groupby('eid').agg(list).reset_index()"
   ]
  },
  {
   "cell_type": "code",
   "execution_count": 69,
   "metadata": {},
   "outputs": [],
   "source": [
    "chronic = list(CKD_df.eid)"
   ]
  },
  {
   "cell_type": "markdown",
   "metadata": {},
   "source": [
    "# PAD"
   ]
  },
  {
   "cell_type": "code",
   "execution_count": 70,
   "metadata": {},
   "outputs": [],
   "source": [
    "PAD = pri[(pri['read_2'].isin(diagnosis_codes['PAD']['read2']))|(pri['read_3'].isin(diagnosis_codes['PAD']['read3']))]\n"
   ]
  },
  {
   "cell_type": "code",
   "execution_count": 71,
   "metadata": {},
   "outputs": [],
   "source": [
    "PAD_df = PAD.groupby('eid').agg(list).reset_index()"
   ]
  },
  {
   "cell_type": "code",
   "execution_count": 72,
   "metadata": {},
   "outputs": [],
   "source": [
    "peripheral = list(PAD_df.eid)"
   ]
  },
  {
   "cell_type": "markdown",
   "metadata": {},
   "source": [
    "# Hypertension"
   ]
  },
  {
   "cell_type": "code",
   "execution_count": 74,
   "metadata": {},
   "outputs": [],
   "source": [
    "hypertension = pri[(pri['read_2'].isin(diagnosis_codes['hypertension']['read2']))|(pri['read_3'].isin(diagnosis_codes['hypertension']['read3']))]\n"
   ]
  },
  {
   "cell_type": "code",
   "execution_count": 75,
   "metadata": {},
   "outputs": [],
   "source": [
    " hypertension_df = hypertension.groupby('eid').agg(list).reset_index()"
   ]
  },
  {
   "cell_type": "code",
   "execution_count": 76,
   "metadata": {},
   "outputs": [],
   "source": [
    "hypertensives = list(hypertension_df.eid)"
   ]
  },
  {
   "cell_type": "markdown",
   "metadata": {},
   "source": [
    "# Hyperlipidaemia"
   ]
  },
  {
   "cell_type": "code",
   "execution_count": 77,
   "metadata": {},
   "outputs": [],
   "source": [
    "hyperlipid = pri[(pri['read_2'].isin(diagnosis_codes['hyperlipidaemia']['read2']))|(pri['read_3'].isin(diagnosis_codes['hyperlipidaemia']['read3']))]\n"
   ]
  },
  {
   "cell_type": "code",
   "execution_count": 78,
   "metadata": {},
   "outputs": [],
   "source": [
    "hyperlipid_df = hyperlipid.groupby('eid').agg(list).reset_index()"
   ]
  },
  {
   "cell_type": "code",
   "execution_count": 79,
   "metadata": {},
   "outputs": [],
   "source": [
    "hyperchol= list(hyperlipid_df.eid)"
   ]
  },
  {
   "cell_type": "markdown",
   "metadata": {},
   "source": [
    " # Gathering"
   ]
  },
  {
   "cell_type": "code",
   "execution_count": 101,
   "metadata": {},
   "outputs": [],
   "source": [
    "rec['diabetic'] = ['diabetic' if x in diabetics else \"\" for x in rec['eid'] ]"
   ]
  },
  {
   "cell_type": "code",
   "execution_count": 102,
   "metadata": {},
   "outputs": [],
   "source": [
    "rec['CKD'] = ['CKD' if x in chronic else \"\" for x in rec['eid']]"
   ]
  },
  {
   "cell_type": "code",
   "execution_count": 103,
   "metadata": {},
   "outputs": [],
   "source": [
    "rec['PAD'] = ['peripheral' if x in peripheral else \"\" for x in rec['eid']]"
   ]
  },
  {
   "cell_type": "code",
   "execution_count": 104,
   "metadata": {},
   "outputs": [],
   "source": [
    "rec['hypertension'] = ['hypertensives' if x in hypertensives else \"\" for x in rec['eid']]"
   ]
  },
  {
   "cell_type": "code",
   "execution_count": 105,
   "metadata": {},
   "outputs": [],
   "source": [
    "rec['hyperlipidaemia'] = ['hyperchol' if x in hyperchol else \"\" for x in rec['eid']]"
   ]
  },
  {
   "cell_type": "code",
   "execution_count": 106,
   "metadata": {},
   "outputs": [],
   "source": [
    "concern = ['diabetic', 'CKD', 'PAD', 'hypertension', 'hyperlipidaemia']"
   ]
  },
  {
   "cell_type": "code",
   "execution_count": 107,
   "metadata": {},
   "outputs": [
    {
     "output_type": "stream",
     "name": "stdout",
     "text": "3171\ndiabetic     853\nName: diabetic, dtype: int64\n       3239\nCKD     785\nName: CKD, dtype: int64\n              3974\nperipheral      50\nName: PAD, dtype: int64\n                 2204\nhypertensives    1820\nName: hypertension, dtype: int64\n             3100\nhyperchol     924\nName: hyperlipidaemia, dtype: int64\n"
    }
   ],
   "source": [
    "for x in concern: \n",
    "    print(rec[x].value_counts())"
   ]
  },
  {
   "cell_type": "code",
   "execution_count": 108,
   "metadata": {},
   "outputs": [],
   "source": [
    "rec['noconcern'] = rec['diabetic'] + rec['CKD'] + rec['PAD'] + rec['hypertension'] + rec['hyperlipidaemia']"
   ]
  },
  {
   "cell_type": "code",
   "execution_count": 110,
   "metadata": {},
   "outputs": [],
   "source": [
    "temp = pd.DataFrame(rec.noconcern.value_counts())"
   ]
  },
  {
   "cell_type": "code",
   "execution_count": 112,
   "metadata": {},
   "outputs": [],
   "source": [
    "temp.to_csv('../primary_care/rec_diagnosis.csv')"
   ]
  },
  {
   "cell_type": "code",
   "execution_count": null,
   "metadata": {},
   "outputs": [],
   "source": []
  }
 ],
 "metadata": {
  "language_info": {
   "codemirror_mode": {
    "name": "ipython",
    "version": 3
   },
   "file_extension": ".py",
   "mimetype": "text/x-python",
   "name": "python",
   "nbconvert_exporter": "python",
   "pygments_lexer": "ipython3",
   "version": "3.7.6-final"
  },
  "orig_nbformat": 2,
  "kernelspec": {
   "name": "python3",
   "display_name": "Python 3"
  }
 },
 "nbformat": 4,
 "nbformat_minor": 2
}